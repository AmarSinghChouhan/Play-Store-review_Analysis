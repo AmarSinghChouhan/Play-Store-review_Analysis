{
  "nbformat": 4,
  "nbformat_minor": 0,
  "metadata": {
    "colab": {
      "provenance": [],
      "toc_visible": true,
      "mount_file_id": "1cwAgvPo26AlShXRM4yZLHAWr-SgeZdWq",
      "authorship_tag": "ABX9TyOStQiwjWiqNSCQ1qQg9uf+",
      "include_colab_link": true
    },
    "kernelspec": {
      "name": "python3",
      "display_name": "Python 3"
    },
    "language_info": {
      "name": "python"
    }
  },
  "cells": [
    {
      "cell_type": "markdown",
      "metadata": {
        "id": "view-in-github",
        "colab_type": "text"
      },
      "source": [
        "<a href=\"https://colab.research.google.com/github/AmarSinghChouhan/Play-Store-review_Analysis/blob/main/a_Amar's_Individual_notebook.ipynb\" target=\"_parent\"><img src=\"https://colab.research.google.com/assets/colab-badge.svg\" alt=\"Open In Colab\"/></a>"
      ]
    },
    {
      "cell_type": "markdown",
      "source": [
        "\n",
        "\n",
        "\n",
        "# Introduction to PlayStore and Data "
      ],
      "metadata": {
        "id": "y5-YCl6Sfgmj"
      }
    },
    {
      "cell_type": "markdown",
      "source": [
        "*Play Store and formerly Android Market, is a digital distribution service operated and developed by Google.\n",
        "It  has enormous potential to drive app-making businesses to success. Actionable insights can be drawn for developers to work on and capture the Android market.*\n",
        "\n",
        "*Each app (row) has values for catergory, rating, size, and more. Another dataset contains customer reviews of the android apps.*\n",
        "\n",
        "*Also, we will explore and analyze the data to discover key factors responsible for app engagement and success.*"
      ],
      "metadata": {
        "id": "V9nyeiOLf1BG"
      }
    },
    {
      "cell_type": "markdown",
      "source": [
        " *In this notebook, we will do a comprehensive analysis of the Android app market and users review by comparing over ten thousand apps and reveiws repectively in Google Play across different categories. We'll look for insights in the data to devise strategies to drive growth and retention.*\n",
        "\n",
        "  "
      ],
      "metadata": {
        "id": "m6ISQLPJg2Bm"
      }
    },
    {
      "cell_type": "markdown",
      "source": [
        "\n",
        "\n",
        "# Importing libraries"
      ],
      "metadata": {
        "id": "dzdXfouVkE62"
      }
    },
    {
      "cell_type": "code",
      "source": [
        "# Importing all the required library.\n",
        "import numpy as np\n",
        "import pandas as pd\n",
        "from matplotlib import pyplot as plt \n",
        "%matplotlib inline\n",
        "color_red = '#4472c4'\n",
        "color_blue = '#ed7d31'\n",
        "\n",
        "#for making plot with seaborn\n",
        "import seaborn as sns \n",
        "color = sns.color_palette()\n",
        "\n",
        "# visualization tool\n",
        "import plotly  \n",
        "plotly.offline.init_notebook_mode(connected=True)\n",
        "import plotly.graph_objs as go  \n",
        "\n",
        "import plotly.express as px\n",
        "\n",
        "# for visualization google colab\n",
        "import plotly.io as iplot\n",
        "iplot.renderers.default = 'colab'  \n",
        "\n",
        "import warnings\n",
        "warnings.filterwarnings('ignore')"
      ],
      "metadata": {
        "id": "jkIrwmezmLys",
        "colab": {
          "base_uri": "https://localhost:8080/",
          "height": 17
        },
        "outputId": "a8dba763-e99a-45fd-ccda-d95eb08df033"
      },
      "execution_count": null,
      "outputs": [
        {
          "output_type": "display_data",
          "data": {
            "text/html": [
              "        <script type=\"text/javascript\">\n",
              "        window.PlotlyConfig = {MathJaxConfig: 'local'};\n",
              "        if (window.MathJax) {MathJax.Hub.Config({SVG: {font: \"STIX-Web\"}});}\n",
              "        if (typeof require !== 'undefined') {\n",
              "        require.undef(\"plotly\");\n",
              "        requirejs.config({\n",
              "            paths: {\n",
              "                'plotly': ['https://cdn.plot.ly/plotly-2.8.3.min']\n",
              "            }\n",
              "        });\n",
              "        require(['plotly'], function(Plotly) {\n",
              "            window._Plotly = Plotly;\n",
              "        });\n",
              "        }\n",
              "        </script>\n",
              "        "
            ]
          },
          "metadata": {}
        }
      ]
    },
    {
      "cell_type": "markdown",
      "source": [
        "# Mounting google Drive "
      ],
      "metadata": {
        "id": "Bm0D8RYolpZr"
      }
    },
    {
      "cell_type": "code",
      "source": [
        "# Mounting drive to get the data from the drive.\n",
        "from google.colab import drive\n",
        "drive.mount('/content/drive', force_remount=True)"
      ],
      "metadata": {
        "colab": {
          "base_uri": "https://localhost:8080/"
        },
        "id": "ePZUGU38mRwW",
        "outputId": "f6d93efa-9795-4cfe-8b14-7f1de7f2a9a1"
      },
      "execution_count": null,
      "outputs": [
        {
          "output_type": "stream",
          "name": "stdout",
          "text": [
            "Mounted at /content/drive\n"
          ]
        }
      ]
    },
    {
      "cell_type": "markdown",
      "source": [
        "# Analysing Dataset"
      ],
      "metadata": {
        "id": "Uv4UoCvhnLbn"
      }
    },
    {
      "cell_type": "code",
      "source": [
        "# Importing dataset\n",
        "play_store = pd.read_csv('/content/drive/MyDrive/Copy of Play Store Data.csv')\n",
        "user_review = pd.read_csv('/content/drive/MyDrive/Copy of User Reviews.csv')"
      ],
      "metadata": {
        "id": "Upk2c5OynZR0"
      },
      "execution_count": null,
      "outputs": []
    },
    {
      "cell_type": "code",
      "source": [
        "# Exploring play store \n",
        "play_store.head()"
      ],
      "metadata": {
        "colab": {
          "base_uri": "https://localhost:8080/",
          "height": 617
        },
        "id": "HyFyEXBFpc5S",
        "outputId": "0a45d797-0986-495b-8cfd-d0238fbf6737"
      },
      "execution_count": null,
      "outputs": [
        {
          "output_type": "execute_result",
          "data": {
            "text/plain": [
              "                                                 App        Category  Rating  \\\n",
              "0     Photo Editor & Candy Camera & Grid & ScrapBook  ART_AND_DESIGN     4.1   \n",
              "1                                Coloring book moana  ART_AND_DESIGN     3.9   \n",
              "2  U Launcher Lite – FREE Live Cool Themes, Hide ...  ART_AND_DESIGN     4.7   \n",
              "3                              Sketch - Draw & Paint  ART_AND_DESIGN     4.5   \n",
              "4              Pixel Draw - Number Art Coloring Book  ART_AND_DESIGN     4.3   \n",
              "\n",
              "  Reviews  Size     Installs  Type Price Content Rating  \\\n",
              "0     159   19M      10,000+  Free     0       Everyone   \n",
              "1     967   14M     500,000+  Free     0       Everyone   \n",
              "2   87510  8.7M   5,000,000+  Free     0       Everyone   \n",
              "3  215644   25M  50,000,000+  Free     0           Teen   \n",
              "4     967  2.8M     100,000+  Free     0       Everyone   \n",
              "\n",
              "                      Genres      Last Updated         Current Ver  \\\n",
              "0               Art & Design   January 7, 2018               1.0.0   \n",
              "1  Art & Design;Pretend Play  January 15, 2018               2.0.0   \n",
              "2               Art & Design    August 1, 2018               1.2.4   \n",
              "3               Art & Design      June 8, 2018  Varies with device   \n",
              "4    Art & Design;Creativity     June 20, 2018                 1.1   \n",
              "\n",
              "    Android Ver  \n",
              "0  4.0.3 and up  \n",
              "1  4.0.3 and up  \n",
              "2  4.0.3 and up  \n",
              "3    4.2 and up  \n",
              "4    4.4 and up  "
            ],
            "text/html": [
              "\n",
              "  <div id=\"df-f3193d6f-23d1-4dd6-acb3-5d869c14a7d5\">\n",
              "    <div class=\"colab-df-container\">\n",
              "      <div>\n",
              "<style scoped>\n",
              "    .dataframe tbody tr th:only-of-type {\n",
              "        vertical-align: middle;\n",
              "    }\n",
              "\n",
              "    .dataframe tbody tr th {\n",
              "        vertical-align: top;\n",
              "    }\n",
              "\n",
              "    .dataframe thead th {\n",
              "        text-align: right;\n",
              "    }\n",
              "</style>\n",
              "<table border=\"1\" class=\"dataframe\">\n",
              "  <thead>\n",
              "    <tr style=\"text-align: right;\">\n",
              "      <th></th>\n",
              "      <th>App</th>\n",
              "      <th>Category</th>\n",
              "      <th>Rating</th>\n",
              "      <th>Reviews</th>\n",
              "      <th>Size</th>\n",
              "      <th>Installs</th>\n",
              "      <th>Type</th>\n",
              "      <th>Price</th>\n",
              "      <th>Content Rating</th>\n",
              "      <th>Genres</th>\n",
              "      <th>Last Updated</th>\n",
              "      <th>Current Ver</th>\n",
              "      <th>Android Ver</th>\n",
              "    </tr>\n",
              "  </thead>\n",
              "  <tbody>\n",
              "    <tr>\n",
              "      <th>0</th>\n",
              "      <td>Photo Editor &amp; Candy Camera &amp; Grid &amp; ScrapBook</td>\n",
              "      <td>ART_AND_DESIGN</td>\n",
              "      <td>4.1</td>\n",
              "      <td>159</td>\n",
              "      <td>19M</td>\n",
              "      <td>10,000+</td>\n",
              "      <td>Free</td>\n",
              "      <td>0</td>\n",
              "      <td>Everyone</td>\n",
              "      <td>Art &amp; Design</td>\n",
              "      <td>January 7, 2018</td>\n",
              "      <td>1.0.0</td>\n",
              "      <td>4.0.3 and up</td>\n",
              "    </tr>\n",
              "    <tr>\n",
              "      <th>1</th>\n",
              "      <td>Coloring book moana</td>\n",
              "      <td>ART_AND_DESIGN</td>\n",
              "      <td>3.9</td>\n",
              "      <td>967</td>\n",
              "      <td>14M</td>\n",
              "      <td>500,000+</td>\n",
              "      <td>Free</td>\n",
              "      <td>0</td>\n",
              "      <td>Everyone</td>\n",
              "      <td>Art &amp; Design;Pretend Play</td>\n",
              "      <td>January 15, 2018</td>\n",
              "      <td>2.0.0</td>\n",
              "      <td>4.0.3 and up</td>\n",
              "    </tr>\n",
              "    <tr>\n",
              "      <th>2</th>\n",
              "      <td>U Launcher Lite – FREE Live Cool Themes, Hide ...</td>\n",
              "      <td>ART_AND_DESIGN</td>\n",
              "      <td>4.7</td>\n",
              "      <td>87510</td>\n",
              "      <td>8.7M</td>\n",
              "      <td>5,000,000+</td>\n",
              "      <td>Free</td>\n",
              "      <td>0</td>\n",
              "      <td>Everyone</td>\n",
              "      <td>Art &amp; Design</td>\n",
              "      <td>August 1, 2018</td>\n",
              "      <td>1.2.4</td>\n",
              "      <td>4.0.3 and up</td>\n",
              "    </tr>\n",
              "    <tr>\n",
              "      <th>3</th>\n",
              "      <td>Sketch - Draw &amp; Paint</td>\n",
              "      <td>ART_AND_DESIGN</td>\n",
              "      <td>4.5</td>\n",
              "      <td>215644</td>\n",
              "      <td>25M</td>\n",
              "      <td>50,000,000+</td>\n",
              "      <td>Free</td>\n",
              "      <td>0</td>\n",
              "      <td>Teen</td>\n",
              "      <td>Art &amp; Design</td>\n",
              "      <td>June 8, 2018</td>\n",
              "      <td>Varies with device</td>\n",
              "      <td>4.2 and up</td>\n",
              "    </tr>\n",
              "    <tr>\n",
              "      <th>4</th>\n",
              "      <td>Pixel Draw - Number Art Coloring Book</td>\n",
              "      <td>ART_AND_DESIGN</td>\n",
              "      <td>4.3</td>\n",
              "      <td>967</td>\n",
              "      <td>2.8M</td>\n",
              "      <td>100,000+</td>\n",
              "      <td>Free</td>\n",
              "      <td>0</td>\n",
              "      <td>Everyone</td>\n",
              "      <td>Art &amp; Design;Creativity</td>\n",
              "      <td>June 20, 2018</td>\n",
              "      <td>1.1</td>\n",
              "      <td>4.4 and up</td>\n",
              "    </tr>\n",
              "  </tbody>\n",
              "</table>\n",
              "</div>\n",
              "      <button class=\"colab-df-convert\" onclick=\"convertToInteractive('df-f3193d6f-23d1-4dd6-acb3-5d869c14a7d5')\"\n",
              "              title=\"Convert this dataframe to an interactive table.\"\n",
              "              style=\"display:none;\">\n",
              "        \n",
              "  <svg xmlns=\"http://www.w3.org/2000/svg\" height=\"24px\"viewBox=\"0 0 24 24\"\n",
              "       width=\"24px\">\n",
              "    <path d=\"M0 0h24v24H0V0z\" fill=\"none\"/>\n",
              "    <path d=\"M18.56 5.44l.94 2.06.94-2.06 2.06-.94-2.06-.94-.94-2.06-.94 2.06-2.06.94zm-11 1L8.5 8.5l.94-2.06 2.06-.94-2.06-.94L8.5 2.5l-.94 2.06-2.06.94zm10 10l.94 2.06.94-2.06 2.06-.94-2.06-.94-.94-2.06-.94 2.06-2.06.94z\"/><path d=\"M17.41 7.96l-1.37-1.37c-.4-.4-.92-.59-1.43-.59-.52 0-1.04.2-1.43.59L10.3 9.45l-7.72 7.72c-.78.78-.78 2.05 0 2.83L4 21.41c.39.39.9.59 1.41.59.51 0 1.02-.2 1.41-.59l7.78-7.78 2.81-2.81c.8-.78.8-2.07 0-2.86zM5.41 20L4 18.59l7.72-7.72 1.47 1.35L5.41 20z\"/>\n",
              "  </svg>\n",
              "      </button>\n",
              "      \n",
              "  <style>\n",
              "    .colab-df-container {\n",
              "      display:flex;\n",
              "      flex-wrap:wrap;\n",
              "      gap: 12px;\n",
              "    }\n",
              "\n",
              "    .colab-df-convert {\n",
              "      background-color: #E8F0FE;\n",
              "      border: none;\n",
              "      border-radius: 50%;\n",
              "      cursor: pointer;\n",
              "      display: none;\n",
              "      fill: #1967D2;\n",
              "      height: 32px;\n",
              "      padding: 0 0 0 0;\n",
              "      width: 32px;\n",
              "    }\n",
              "\n",
              "    .colab-df-convert:hover {\n",
              "      background-color: #E2EBFA;\n",
              "      box-shadow: 0px 1px 2px rgba(60, 64, 67, 0.3), 0px 1px 3px 1px rgba(60, 64, 67, 0.15);\n",
              "      fill: #174EA6;\n",
              "    }\n",
              "\n",
              "    [theme=dark] .colab-df-convert {\n",
              "      background-color: #3B4455;\n",
              "      fill: #D2E3FC;\n",
              "    }\n",
              "\n",
              "    [theme=dark] .colab-df-convert:hover {\n",
              "      background-color: #434B5C;\n",
              "      box-shadow: 0px 1px 3px 1px rgba(0, 0, 0, 0.15);\n",
              "      filter: drop-shadow(0px 1px 2px rgba(0, 0, 0, 0.3));\n",
              "      fill: #FFFFFF;\n",
              "    }\n",
              "  </style>\n",
              "\n",
              "      <script>\n",
              "        const buttonEl =\n",
              "          document.querySelector('#df-f3193d6f-23d1-4dd6-acb3-5d869c14a7d5 button.colab-df-convert');\n",
              "        buttonEl.style.display =\n",
              "          google.colab.kernel.accessAllowed ? 'block' : 'none';\n",
              "\n",
              "        async function convertToInteractive(key) {\n",
              "          const element = document.querySelector('#df-f3193d6f-23d1-4dd6-acb3-5d869c14a7d5');\n",
              "          const dataTable =\n",
              "            await google.colab.kernel.invokeFunction('convertToInteractive',\n",
              "                                                     [key], {});\n",
              "          if (!dataTable) return;\n",
              "\n",
              "          const docLinkHtml = 'Like what you see? Visit the ' +\n",
              "            '<a target=\"_blank\" href=https://colab.research.google.com/notebooks/data_table.ipynb>data table notebook</a>'\n",
              "            + ' to learn more about interactive tables.';\n",
              "          element.innerHTML = '';\n",
              "          dataTable['output_type'] = 'display_data';\n",
              "          await google.colab.output.renderOutput(dataTable, element);\n",
              "          const docLink = document.createElement('div');\n",
              "          docLink.innerHTML = docLinkHtml;\n",
              "          element.appendChild(docLink);\n",
              "        }\n",
              "      </script>\n",
              "    </div>\n",
              "  </div>\n",
              "  "
            ]
          },
          "metadata": {},
          "execution_count": 6
        }
      ]
    },
    {
      "cell_type": "code",
      "source": [
        "play_store.info()"
      ],
      "metadata": {
        "colab": {
          "base_uri": "https://localhost:8080/"
        },
        "id": "OZu16pNH5vqw",
        "outputId": "6ab0b3be-9b7b-4cf4-a6fb-202bc397cdc2"
      },
      "execution_count": null,
      "outputs": [
        {
          "output_type": "stream",
          "name": "stdout",
          "text": [
            "<class 'pandas.core.frame.DataFrame'>\n",
            "RangeIndex: 10841 entries, 0 to 10840\n",
            "Data columns (total 13 columns):\n",
            " #   Column          Non-Null Count  Dtype  \n",
            "---  ------          --------------  -----  \n",
            " 0   App             10841 non-null  object \n",
            " 1   Category        10841 non-null  object \n",
            " 2   Rating          9367 non-null   float64\n",
            " 3   Reviews         10841 non-null  object \n",
            " 4   Size            10841 non-null  object \n",
            " 5   Installs        10841 non-null  object \n",
            " 6   Type            10840 non-null  object \n",
            " 7   Price           10841 non-null  object \n",
            " 8   Content Rating  10840 non-null  object \n",
            " 9   Genres          10841 non-null  object \n",
            " 10  Last Updated    10841 non-null  object \n",
            " 11  Current Ver     10833 non-null  object \n",
            " 12  Android Ver     10838 non-null  object \n",
            "dtypes: float64(1), object(12)\n",
            "memory usage: 1.1+ MB\n"
          ]
        }
      ]
    },
    {
      "cell_type": "code",
      "source": [
        "play_store.columns"
      ],
      "metadata": {
        "colab": {
          "base_uri": "https://localhost:8080/"
        },
        "id": "9zHzDcxv6GFV",
        "outputId": "6eacdd9a-af8d-445e-9f26-ffd92dc27566"
      },
      "execution_count": null,
      "outputs": [
        {
          "output_type": "execute_result",
          "data": {
            "text/plain": [
              "Index(['App', 'Category', 'Rating', 'Reviews', 'Size', 'Installs', 'Type',\n",
              "       'Price', 'Content Rating', 'Genres', 'Last Updated', 'Current Ver',\n",
              "       'Android Ver'],\n",
              "      dtype='object')"
            ]
          },
          "metadata": {},
          "execution_count": 8
        }
      ]
    },
    {
      "cell_type": "code",
      "source": [
        "# Exploring user review data\n",
        "user_review.head()"
      ],
      "metadata": {
        "colab": {
          "base_uri": "https://localhost:8080/",
          "height": 206
        },
        "id": "S9vzpgjWp3xO",
        "outputId": "27e7deeb-8014-4a1b-b6a5-beb737f35737"
      },
      "execution_count": null,
      "outputs": [
        {
          "output_type": "execute_result",
          "data": {
            "text/plain": [
              "                     App                                  Translated_Review  \\\n",
              "0  10 Best Foods for You  I like eat delicious food. That's I'm cooking ...   \n",
              "1  10 Best Foods for You    This help eating healthy exercise regular basis   \n",
              "2  10 Best Foods for You                                                NaN   \n",
              "3  10 Best Foods for You         Works great especially going grocery store   \n",
              "4  10 Best Foods for You                                       Best idea us   \n",
              "\n",
              "  Sentiment  Sentiment_Polarity  Sentiment_Subjectivity  \n",
              "0  Positive                1.00                0.533333  \n",
              "1  Positive                0.25                0.288462  \n",
              "2       NaN                 NaN                     NaN  \n",
              "3  Positive                0.40                0.875000  \n",
              "4  Positive                1.00                0.300000  "
            ],
            "text/html": [
              "\n",
              "  <div id=\"df-72a49f55-d982-4e90-920d-91f1f9259469\">\n",
              "    <div class=\"colab-df-container\">\n",
              "      <div>\n",
              "<style scoped>\n",
              "    .dataframe tbody tr th:only-of-type {\n",
              "        vertical-align: middle;\n",
              "    }\n",
              "\n",
              "    .dataframe tbody tr th {\n",
              "        vertical-align: top;\n",
              "    }\n",
              "\n",
              "    .dataframe thead th {\n",
              "        text-align: right;\n",
              "    }\n",
              "</style>\n",
              "<table border=\"1\" class=\"dataframe\">\n",
              "  <thead>\n",
              "    <tr style=\"text-align: right;\">\n",
              "      <th></th>\n",
              "      <th>App</th>\n",
              "      <th>Translated_Review</th>\n",
              "      <th>Sentiment</th>\n",
              "      <th>Sentiment_Polarity</th>\n",
              "      <th>Sentiment_Subjectivity</th>\n",
              "    </tr>\n",
              "  </thead>\n",
              "  <tbody>\n",
              "    <tr>\n",
              "      <th>0</th>\n",
              "      <td>10 Best Foods for You</td>\n",
              "      <td>I like eat delicious food. That's I'm cooking ...</td>\n",
              "      <td>Positive</td>\n",
              "      <td>1.00</td>\n",
              "      <td>0.533333</td>\n",
              "    </tr>\n",
              "    <tr>\n",
              "      <th>1</th>\n",
              "      <td>10 Best Foods for You</td>\n",
              "      <td>This help eating healthy exercise regular basis</td>\n",
              "      <td>Positive</td>\n",
              "      <td>0.25</td>\n",
              "      <td>0.288462</td>\n",
              "    </tr>\n",
              "    <tr>\n",
              "      <th>2</th>\n",
              "      <td>10 Best Foods for You</td>\n",
              "      <td>NaN</td>\n",
              "      <td>NaN</td>\n",
              "      <td>NaN</td>\n",
              "      <td>NaN</td>\n",
              "    </tr>\n",
              "    <tr>\n",
              "      <th>3</th>\n",
              "      <td>10 Best Foods for You</td>\n",
              "      <td>Works great especially going grocery store</td>\n",
              "      <td>Positive</td>\n",
              "      <td>0.40</td>\n",
              "      <td>0.875000</td>\n",
              "    </tr>\n",
              "    <tr>\n",
              "      <th>4</th>\n",
              "      <td>10 Best Foods for You</td>\n",
              "      <td>Best idea us</td>\n",
              "      <td>Positive</td>\n",
              "      <td>1.00</td>\n",
              "      <td>0.300000</td>\n",
              "    </tr>\n",
              "  </tbody>\n",
              "</table>\n",
              "</div>\n",
              "      <button class=\"colab-df-convert\" onclick=\"convertToInteractive('df-72a49f55-d982-4e90-920d-91f1f9259469')\"\n",
              "              title=\"Convert this dataframe to an interactive table.\"\n",
              "              style=\"display:none;\">\n",
              "        \n",
              "  <svg xmlns=\"http://www.w3.org/2000/svg\" height=\"24px\"viewBox=\"0 0 24 24\"\n",
              "       width=\"24px\">\n",
              "    <path d=\"M0 0h24v24H0V0z\" fill=\"none\"/>\n",
              "    <path d=\"M18.56 5.44l.94 2.06.94-2.06 2.06-.94-2.06-.94-.94-2.06-.94 2.06-2.06.94zm-11 1L8.5 8.5l.94-2.06 2.06-.94-2.06-.94L8.5 2.5l-.94 2.06-2.06.94zm10 10l.94 2.06.94-2.06 2.06-.94-2.06-.94-.94-2.06-.94 2.06-2.06.94z\"/><path d=\"M17.41 7.96l-1.37-1.37c-.4-.4-.92-.59-1.43-.59-.52 0-1.04.2-1.43.59L10.3 9.45l-7.72 7.72c-.78.78-.78 2.05 0 2.83L4 21.41c.39.39.9.59 1.41.59.51 0 1.02-.2 1.41-.59l7.78-7.78 2.81-2.81c.8-.78.8-2.07 0-2.86zM5.41 20L4 18.59l7.72-7.72 1.47 1.35L5.41 20z\"/>\n",
              "  </svg>\n",
              "      </button>\n",
              "      \n",
              "  <style>\n",
              "    .colab-df-container {\n",
              "      display:flex;\n",
              "      flex-wrap:wrap;\n",
              "      gap: 12px;\n",
              "    }\n",
              "\n",
              "    .colab-df-convert {\n",
              "      background-color: #E8F0FE;\n",
              "      border: none;\n",
              "      border-radius: 50%;\n",
              "      cursor: pointer;\n",
              "      display: none;\n",
              "      fill: #1967D2;\n",
              "      height: 32px;\n",
              "      padding: 0 0 0 0;\n",
              "      width: 32px;\n",
              "    }\n",
              "\n",
              "    .colab-df-convert:hover {\n",
              "      background-color: #E2EBFA;\n",
              "      box-shadow: 0px 1px 2px rgba(60, 64, 67, 0.3), 0px 1px 3px 1px rgba(60, 64, 67, 0.15);\n",
              "      fill: #174EA6;\n",
              "    }\n",
              "\n",
              "    [theme=dark] .colab-df-convert {\n",
              "      background-color: #3B4455;\n",
              "      fill: #D2E3FC;\n",
              "    }\n",
              "\n",
              "    [theme=dark] .colab-df-convert:hover {\n",
              "      background-color: #434B5C;\n",
              "      box-shadow: 0px 1px 3px 1px rgba(0, 0, 0, 0.15);\n",
              "      filter: drop-shadow(0px 1px 2px rgba(0, 0, 0, 0.3));\n",
              "      fill: #FFFFFF;\n",
              "    }\n",
              "  </style>\n",
              "\n",
              "      <script>\n",
              "        const buttonEl =\n",
              "          document.querySelector('#df-72a49f55-d982-4e90-920d-91f1f9259469 button.colab-df-convert');\n",
              "        buttonEl.style.display =\n",
              "          google.colab.kernel.accessAllowed ? 'block' : 'none';\n",
              "\n",
              "        async function convertToInteractive(key) {\n",
              "          const element = document.querySelector('#df-72a49f55-d982-4e90-920d-91f1f9259469');\n",
              "          const dataTable =\n",
              "            await google.colab.kernel.invokeFunction('convertToInteractive',\n",
              "                                                     [key], {});\n",
              "          if (!dataTable) return;\n",
              "\n",
              "          const docLinkHtml = 'Like what you see? Visit the ' +\n",
              "            '<a target=\"_blank\" href=https://colab.research.google.com/notebooks/data_table.ipynb>data table notebook</a>'\n",
              "            + ' to learn more about interactive tables.';\n",
              "          element.innerHTML = '';\n",
              "          dataTable['output_type'] = 'display_data';\n",
              "          await google.colab.output.renderOutput(dataTable, element);\n",
              "          const docLink = document.createElement('div');\n",
              "          docLink.innerHTML = docLinkHtml;\n",
              "          element.appendChild(docLink);\n",
              "        }\n",
              "      </script>\n",
              "    </div>\n",
              "  </div>\n",
              "  "
            ]
          },
          "metadata": {},
          "execution_count": 9
        }
      ]
    },
    {
      "cell_type": "code",
      "source": [
        "user_review.info()"
      ],
      "metadata": {
        "colab": {
          "base_uri": "https://localhost:8080/"
        },
        "id": "DCHSIGCe6Tcp",
        "outputId": "3734c247-ea79-4332-d6c1-1470322bf739"
      },
      "execution_count": null,
      "outputs": [
        {
          "output_type": "stream",
          "name": "stdout",
          "text": [
            "<class 'pandas.core.frame.DataFrame'>\n",
            "RangeIndex: 64295 entries, 0 to 64294\n",
            "Data columns (total 5 columns):\n",
            " #   Column                  Non-Null Count  Dtype  \n",
            "---  ------                  --------------  -----  \n",
            " 0   App                     64295 non-null  object \n",
            " 1   Translated_Review       37427 non-null  object \n",
            " 2   Sentiment               37432 non-null  object \n",
            " 3   Sentiment_Polarity      37432 non-null  float64\n",
            " 4   Sentiment_Subjectivity  37432 non-null  float64\n",
            "dtypes: float64(2), object(3)\n",
            "memory usage: 2.5+ MB\n"
          ]
        }
      ]
    },
    {
      "cell_type": "code",
      "source": [
        "user_review.columns"
      ],
      "metadata": {
        "colab": {
          "base_uri": "https://localhost:8080/"
        },
        "id": "hEsvvwiC6ZiM",
        "outputId": "d230d691-9584-415e-cdb2-efb3f83c1a7f"
      },
      "execution_count": null,
      "outputs": [
        {
          "output_type": "execute_result",
          "data": {
            "text/plain": [
              "Index(['App', 'Translated_Review', 'Sentiment', 'Sentiment_Polarity',\n",
              "       'Sentiment_Subjectivity'],\n",
              "      dtype='object')"
            ]
          },
          "metadata": {},
          "execution_count": 10
        }
      ]
    },
    {
      "cell_type": "code",
      "source": [
        "# Playstore app data\n",
        "print(f'The total number of rows and column in playstore is{play_store.shape}')\n",
        "print(f'The total number of unique App in playstore is {play_store[\"App\"].nunique()}')"
      ],
      "metadata": {
        "colab": {
          "base_uri": "https://localhost:8080/"
        },
        "id": "DmGOtVYArSMv",
        "outputId": "e4a3619f-0b49-4d58-a2d7-2f26c30e64c5"
      },
      "execution_count": null,
      "outputs": [
        {
          "output_type": "stream",
          "name": "stdout",
          "text": [
            "The total number of rows and column in playstore is(10841, 13)\n",
            "The total number of unique App in playstore is 9660\n"
          ]
        }
      ]
    },
    {
      "cell_type": "code",
      "source": [
        "# User review data\n",
        "print(f'The total number of rows and column in playstore is{user_review.shape}')\n",
        "print(f'The total number of unique App in playstore is {user_review[\"App\"].nunique()}')"
      ],
      "metadata": {
        "colab": {
          "base_uri": "https://localhost:8080/"
        },
        "id": "gsq01zoVsiRn",
        "outputId": "304f9a16-ead1-4b56-96a8-c5ea2a711c1f"
      },
      "execution_count": null,
      "outputs": [
        {
          "output_type": "stream",
          "name": "stdout",
          "text": [
            "The total number of rows and column in playstore is(64295, 5)\n",
            "The total number of unique App in playstore is 1074\n"
          ]
        }
      ]
    },
    {
      "cell_type": "code",
      "source": [
        "# Describe method gives us summary statistics for numerical columns in our DataFrame.\n",
        "play_store.describe(include='all')"
      ],
      "metadata": {
        "colab": {
          "base_uri": "https://localhost:8080/",
          "height": 490
        },
        "id": "W7KqUT9auLVH",
        "outputId": "96ce779a-59e7-4cb2-ce42-bbc0211c3b10"
      },
      "execution_count": null,
      "outputs": [
        {
          "output_type": "execute_result",
          "data": {
            "text/plain": [
              "           App Category       Rating Reviews                Size    Installs  \\\n",
              "count    10841    10841  9367.000000   10841               10841       10841   \n",
              "unique    9660       34          NaN    6002                 462          22   \n",
              "top     ROBLOX   FAMILY          NaN       0  Varies with device  1,000,000+   \n",
              "freq         9     1972          NaN     596                1695        1579   \n",
              "mean       NaN      NaN     4.193338     NaN                 NaN         NaN   \n",
              "std        NaN      NaN     0.537431     NaN                 NaN         NaN   \n",
              "min        NaN      NaN     1.000000     NaN                 NaN         NaN   \n",
              "25%        NaN      NaN     4.000000     NaN                 NaN         NaN   \n",
              "50%        NaN      NaN     4.300000     NaN                 NaN         NaN   \n",
              "75%        NaN      NaN     4.500000     NaN                 NaN         NaN   \n",
              "max        NaN      NaN    19.000000     NaN                 NaN         NaN   \n",
              "\n",
              "         Type  Price Content Rating Genres    Last Updated  \\\n",
              "count   10840  10841          10840  10841           10841   \n",
              "unique      3     93              6    120            1378   \n",
              "top      Free      0       Everyone  Tools  August 3, 2018   \n",
              "freq    10039  10040           8714    842             326   \n",
              "mean      NaN    NaN            NaN    NaN             NaN   \n",
              "std       NaN    NaN            NaN    NaN             NaN   \n",
              "min       NaN    NaN            NaN    NaN             NaN   \n",
              "25%       NaN    NaN            NaN    NaN             NaN   \n",
              "50%       NaN    NaN            NaN    NaN             NaN   \n",
              "75%       NaN    NaN            NaN    NaN             NaN   \n",
              "max       NaN    NaN            NaN    NaN             NaN   \n",
              "\n",
              "               Current Ver Android Ver  \n",
              "count                10833       10838  \n",
              "unique                2832          33  \n",
              "top     Varies with device  4.1 and up  \n",
              "freq                  1459        2451  \n",
              "mean                   NaN         NaN  \n",
              "std                    NaN         NaN  \n",
              "min                    NaN         NaN  \n",
              "25%                    NaN         NaN  \n",
              "50%                    NaN         NaN  \n",
              "75%                    NaN         NaN  \n",
              "max                    NaN         NaN  "
            ],
            "text/html": [
              "\n",
              "  <div id=\"df-906e6e6c-d2f4-4734-84c1-1ec108000d33\">\n",
              "    <div class=\"colab-df-container\">\n",
              "      <div>\n",
              "<style scoped>\n",
              "    .dataframe tbody tr th:only-of-type {\n",
              "        vertical-align: middle;\n",
              "    }\n",
              "\n",
              "    .dataframe tbody tr th {\n",
              "        vertical-align: top;\n",
              "    }\n",
              "\n",
              "    .dataframe thead th {\n",
              "        text-align: right;\n",
              "    }\n",
              "</style>\n",
              "<table border=\"1\" class=\"dataframe\">\n",
              "  <thead>\n",
              "    <tr style=\"text-align: right;\">\n",
              "      <th></th>\n",
              "      <th>App</th>\n",
              "      <th>Category</th>\n",
              "      <th>Rating</th>\n",
              "      <th>Reviews</th>\n",
              "      <th>Size</th>\n",
              "      <th>Installs</th>\n",
              "      <th>Type</th>\n",
              "      <th>Price</th>\n",
              "      <th>Content Rating</th>\n",
              "      <th>Genres</th>\n",
              "      <th>Last Updated</th>\n",
              "      <th>Current Ver</th>\n",
              "      <th>Android Ver</th>\n",
              "    </tr>\n",
              "  </thead>\n",
              "  <tbody>\n",
              "    <tr>\n",
              "      <th>count</th>\n",
              "      <td>10841</td>\n",
              "      <td>10841</td>\n",
              "      <td>9367.000000</td>\n",
              "      <td>10841</td>\n",
              "      <td>10841</td>\n",
              "      <td>10841</td>\n",
              "      <td>10840</td>\n",
              "      <td>10841</td>\n",
              "      <td>10840</td>\n",
              "      <td>10841</td>\n",
              "      <td>10841</td>\n",
              "      <td>10833</td>\n",
              "      <td>10838</td>\n",
              "    </tr>\n",
              "    <tr>\n",
              "      <th>unique</th>\n",
              "      <td>9660</td>\n",
              "      <td>34</td>\n",
              "      <td>NaN</td>\n",
              "      <td>6002</td>\n",
              "      <td>462</td>\n",
              "      <td>22</td>\n",
              "      <td>3</td>\n",
              "      <td>93</td>\n",
              "      <td>6</td>\n",
              "      <td>120</td>\n",
              "      <td>1378</td>\n",
              "      <td>2832</td>\n",
              "      <td>33</td>\n",
              "    </tr>\n",
              "    <tr>\n",
              "      <th>top</th>\n",
              "      <td>ROBLOX</td>\n",
              "      <td>FAMILY</td>\n",
              "      <td>NaN</td>\n",
              "      <td>0</td>\n",
              "      <td>Varies with device</td>\n",
              "      <td>1,000,000+</td>\n",
              "      <td>Free</td>\n",
              "      <td>0</td>\n",
              "      <td>Everyone</td>\n",
              "      <td>Tools</td>\n",
              "      <td>August 3, 2018</td>\n",
              "      <td>Varies with device</td>\n",
              "      <td>4.1 and up</td>\n",
              "    </tr>\n",
              "    <tr>\n",
              "      <th>freq</th>\n",
              "      <td>9</td>\n",
              "      <td>1972</td>\n",
              "      <td>NaN</td>\n",
              "      <td>596</td>\n",
              "      <td>1695</td>\n",
              "      <td>1579</td>\n",
              "      <td>10039</td>\n",
              "      <td>10040</td>\n",
              "      <td>8714</td>\n",
              "      <td>842</td>\n",
              "      <td>326</td>\n",
              "      <td>1459</td>\n",
              "      <td>2451</td>\n",
              "    </tr>\n",
              "    <tr>\n",
              "      <th>mean</th>\n",
              "      <td>NaN</td>\n",
              "      <td>NaN</td>\n",
              "      <td>4.193338</td>\n",
              "      <td>NaN</td>\n",
              "      <td>NaN</td>\n",
              "      <td>NaN</td>\n",
              "      <td>NaN</td>\n",
              "      <td>NaN</td>\n",
              "      <td>NaN</td>\n",
              "      <td>NaN</td>\n",
              "      <td>NaN</td>\n",
              "      <td>NaN</td>\n",
              "      <td>NaN</td>\n",
              "    </tr>\n",
              "    <tr>\n",
              "      <th>std</th>\n",
              "      <td>NaN</td>\n",
              "      <td>NaN</td>\n",
              "      <td>0.537431</td>\n",
              "      <td>NaN</td>\n",
              "      <td>NaN</td>\n",
              "      <td>NaN</td>\n",
              "      <td>NaN</td>\n",
              "      <td>NaN</td>\n",
              "      <td>NaN</td>\n",
              "      <td>NaN</td>\n",
              "      <td>NaN</td>\n",
              "      <td>NaN</td>\n",
              "      <td>NaN</td>\n",
              "    </tr>\n",
              "    <tr>\n",
              "      <th>min</th>\n",
              "      <td>NaN</td>\n",
              "      <td>NaN</td>\n",
              "      <td>1.000000</td>\n",
              "      <td>NaN</td>\n",
              "      <td>NaN</td>\n",
              "      <td>NaN</td>\n",
              "      <td>NaN</td>\n",
              "      <td>NaN</td>\n",
              "      <td>NaN</td>\n",
              "      <td>NaN</td>\n",
              "      <td>NaN</td>\n",
              "      <td>NaN</td>\n",
              "      <td>NaN</td>\n",
              "    </tr>\n",
              "    <tr>\n",
              "      <th>25%</th>\n",
              "      <td>NaN</td>\n",
              "      <td>NaN</td>\n",
              "      <td>4.000000</td>\n",
              "      <td>NaN</td>\n",
              "      <td>NaN</td>\n",
              "      <td>NaN</td>\n",
              "      <td>NaN</td>\n",
              "      <td>NaN</td>\n",
              "      <td>NaN</td>\n",
              "      <td>NaN</td>\n",
              "      <td>NaN</td>\n",
              "      <td>NaN</td>\n",
              "      <td>NaN</td>\n",
              "    </tr>\n",
              "    <tr>\n",
              "      <th>50%</th>\n",
              "      <td>NaN</td>\n",
              "      <td>NaN</td>\n",
              "      <td>4.300000</td>\n",
              "      <td>NaN</td>\n",
              "      <td>NaN</td>\n",
              "      <td>NaN</td>\n",
              "      <td>NaN</td>\n",
              "      <td>NaN</td>\n",
              "      <td>NaN</td>\n",
              "      <td>NaN</td>\n",
              "      <td>NaN</td>\n",
              "      <td>NaN</td>\n",
              "      <td>NaN</td>\n",
              "    </tr>\n",
              "    <tr>\n",
              "      <th>75%</th>\n",
              "      <td>NaN</td>\n",
              "      <td>NaN</td>\n",
              "      <td>4.500000</td>\n",
              "      <td>NaN</td>\n",
              "      <td>NaN</td>\n",
              "      <td>NaN</td>\n",
              "      <td>NaN</td>\n",
              "      <td>NaN</td>\n",
              "      <td>NaN</td>\n",
              "      <td>NaN</td>\n",
              "      <td>NaN</td>\n",
              "      <td>NaN</td>\n",
              "      <td>NaN</td>\n",
              "    </tr>\n",
              "    <tr>\n",
              "      <th>max</th>\n",
              "      <td>NaN</td>\n",
              "      <td>NaN</td>\n",
              "      <td>19.000000</td>\n",
              "      <td>NaN</td>\n",
              "      <td>NaN</td>\n",
              "      <td>NaN</td>\n",
              "      <td>NaN</td>\n",
              "      <td>NaN</td>\n",
              "      <td>NaN</td>\n",
              "      <td>NaN</td>\n",
              "      <td>NaN</td>\n",
              "      <td>NaN</td>\n",
              "      <td>NaN</td>\n",
              "    </tr>\n",
              "  </tbody>\n",
              "</table>\n",
              "</div>\n",
              "      <button class=\"colab-df-convert\" onclick=\"convertToInteractive('df-906e6e6c-d2f4-4734-84c1-1ec108000d33')\"\n",
              "              title=\"Convert this dataframe to an interactive table.\"\n",
              "              style=\"display:none;\">\n",
              "        \n",
              "  <svg xmlns=\"http://www.w3.org/2000/svg\" height=\"24px\"viewBox=\"0 0 24 24\"\n",
              "       width=\"24px\">\n",
              "    <path d=\"M0 0h24v24H0V0z\" fill=\"none\"/>\n",
              "    <path d=\"M18.56 5.44l.94 2.06.94-2.06 2.06-.94-2.06-.94-.94-2.06-.94 2.06-2.06.94zm-11 1L8.5 8.5l.94-2.06 2.06-.94-2.06-.94L8.5 2.5l-.94 2.06-2.06.94zm10 10l.94 2.06.94-2.06 2.06-.94-2.06-.94-.94-2.06-.94 2.06-2.06.94z\"/><path d=\"M17.41 7.96l-1.37-1.37c-.4-.4-.92-.59-1.43-.59-.52 0-1.04.2-1.43.59L10.3 9.45l-7.72 7.72c-.78.78-.78 2.05 0 2.83L4 21.41c.39.39.9.59 1.41.59.51 0 1.02-.2 1.41-.59l7.78-7.78 2.81-2.81c.8-.78.8-2.07 0-2.86zM5.41 20L4 18.59l7.72-7.72 1.47 1.35L5.41 20z\"/>\n",
              "  </svg>\n",
              "      </button>\n",
              "      \n",
              "  <style>\n",
              "    .colab-df-container {\n",
              "      display:flex;\n",
              "      flex-wrap:wrap;\n",
              "      gap: 12px;\n",
              "    }\n",
              "\n",
              "    .colab-df-convert {\n",
              "      background-color: #E8F0FE;\n",
              "      border: none;\n",
              "      border-radius: 50%;\n",
              "      cursor: pointer;\n",
              "      display: none;\n",
              "      fill: #1967D2;\n",
              "      height: 32px;\n",
              "      padding: 0 0 0 0;\n",
              "      width: 32px;\n",
              "    }\n",
              "\n",
              "    .colab-df-convert:hover {\n",
              "      background-color: #E2EBFA;\n",
              "      box-shadow: 0px 1px 2px rgba(60, 64, 67, 0.3), 0px 1px 3px 1px rgba(60, 64, 67, 0.15);\n",
              "      fill: #174EA6;\n",
              "    }\n",
              "\n",
              "    [theme=dark] .colab-df-convert {\n",
              "      background-color: #3B4455;\n",
              "      fill: #D2E3FC;\n",
              "    }\n",
              "\n",
              "    [theme=dark] .colab-df-convert:hover {\n",
              "      background-color: #434B5C;\n",
              "      box-shadow: 0px 1px 3px 1px rgba(0, 0, 0, 0.15);\n",
              "      filter: drop-shadow(0px 1px 2px rgba(0, 0, 0, 0.3));\n",
              "      fill: #FFFFFF;\n",
              "    }\n",
              "  </style>\n",
              "\n",
              "      <script>\n",
              "        const buttonEl =\n",
              "          document.querySelector('#df-906e6e6c-d2f4-4734-84c1-1ec108000d33 button.colab-df-convert');\n",
              "        buttonEl.style.display =\n",
              "          google.colab.kernel.accessAllowed ? 'block' : 'none';\n",
              "\n",
              "        async function convertToInteractive(key) {\n",
              "          const element = document.querySelector('#df-906e6e6c-d2f4-4734-84c1-1ec108000d33');\n",
              "          const dataTable =\n",
              "            await google.colab.kernel.invokeFunction('convertToInteractive',\n",
              "                                                     [key], {});\n",
              "          if (!dataTable) return;\n",
              "\n",
              "          const docLinkHtml = 'Like what you see? Visit the ' +\n",
              "            '<a target=\"_blank\" href=https://colab.research.google.com/notebooks/data_table.ipynb>data table notebook</a>'\n",
              "            + ' to learn more about interactive tables.';\n",
              "          element.innerHTML = '';\n",
              "          dataTable['output_type'] = 'display_data';\n",
              "          await google.colab.output.renderOutput(dataTable, element);\n",
              "          const docLink = document.createElement('div');\n",
              "          docLink.innerHTML = docLinkHtml;\n",
              "          element.appendChild(docLink);\n",
              "        }\n",
              "      </script>\n",
              "    </div>\n",
              "  </div>\n",
              "  "
            ]
          },
          "metadata": {},
          "execution_count": 13
        }
      ]
    },
    {
      "cell_type": "code",
      "source": [
        "user_review.describe(include='all')"
      ],
      "metadata": {
        "colab": {
          "base_uri": "https://localhost:8080/",
          "height": 394
        },
        "id": "iOIjk9XPvVPm",
        "outputId": "ae17dcfa-39d0-4917-e12b-d90689bdb65f"
      },
      "execution_count": null,
      "outputs": [
        {
          "output_type": "execute_result",
          "data": {
            "text/plain": [
              "                        App Translated_Review Sentiment  Sentiment_Polarity  \\\n",
              "count                 64295             37427     37432        37432.000000   \n",
              "unique                 1074             27994         3                 NaN   \n",
              "top     Angry Birds Classic              Good  Positive                 NaN   \n",
              "freq                    320               247     23998                 NaN   \n",
              "mean                    NaN               NaN       NaN            0.182146   \n",
              "std                     NaN               NaN       NaN            0.351301   \n",
              "min                     NaN               NaN       NaN           -1.000000   \n",
              "25%                     NaN               NaN       NaN            0.000000   \n",
              "50%                     NaN               NaN       NaN            0.150000   \n",
              "75%                     NaN               NaN       NaN            0.400000   \n",
              "max                     NaN               NaN       NaN            1.000000   \n",
              "\n",
              "        Sentiment_Subjectivity  \n",
              "count             37432.000000  \n",
              "unique                     NaN  \n",
              "top                        NaN  \n",
              "freq                       NaN  \n",
              "mean                  0.492704  \n",
              "std                   0.259949  \n",
              "min                   0.000000  \n",
              "25%                   0.357143  \n",
              "50%                   0.514286  \n",
              "75%                   0.650000  \n",
              "max                   1.000000  "
            ],
            "text/html": [
              "\n",
              "  <div id=\"df-d2c02851-4ff4-478e-8386-8f4028ca2e61\">\n",
              "    <div class=\"colab-df-container\">\n",
              "      <div>\n",
              "<style scoped>\n",
              "    .dataframe tbody tr th:only-of-type {\n",
              "        vertical-align: middle;\n",
              "    }\n",
              "\n",
              "    .dataframe tbody tr th {\n",
              "        vertical-align: top;\n",
              "    }\n",
              "\n",
              "    .dataframe thead th {\n",
              "        text-align: right;\n",
              "    }\n",
              "</style>\n",
              "<table border=\"1\" class=\"dataframe\">\n",
              "  <thead>\n",
              "    <tr style=\"text-align: right;\">\n",
              "      <th></th>\n",
              "      <th>App</th>\n",
              "      <th>Translated_Review</th>\n",
              "      <th>Sentiment</th>\n",
              "      <th>Sentiment_Polarity</th>\n",
              "      <th>Sentiment_Subjectivity</th>\n",
              "    </tr>\n",
              "  </thead>\n",
              "  <tbody>\n",
              "    <tr>\n",
              "      <th>count</th>\n",
              "      <td>64295</td>\n",
              "      <td>37427</td>\n",
              "      <td>37432</td>\n",
              "      <td>37432.000000</td>\n",
              "      <td>37432.000000</td>\n",
              "    </tr>\n",
              "    <tr>\n",
              "      <th>unique</th>\n",
              "      <td>1074</td>\n",
              "      <td>27994</td>\n",
              "      <td>3</td>\n",
              "      <td>NaN</td>\n",
              "      <td>NaN</td>\n",
              "    </tr>\n",
              "    <tr>\n",
              "      <th>top</th>\n",
              "      <td>Angry Birds Classic</td>\n",
              "      <td>Good</td>\n",
              "      <td>Positive</td>\n",
              "      <td>NaN</td>\n",
              "      <td>NaN</td>\n",
              "    </tr>\n",
              "    <tr>\n",
              "      <th>freq</th>\n",
              "      <td>320</td>\n",
              "      <td>247</td>\n",
              "      <td>23998</td>\n",
              "      <td>NaN</td>\n",
              "      <td>NaN</td>\n",
              "    </tr>\n",
              "    <tr>\n",
              "      <th>mean</th>\n",
              "      <td>NaN</td>\n",
              "      <td>NaN</td>\n",
              "      <td>NaN</td>\n",
              "      <td>0.182146</td>\n",
              "      <td>0.492704</td>\n",
              "    </tr>\n",
              "    <tr>\n",
              "      <th>std</th>\n",
              "      <td>NaN</td>\n",
              "      <td>NaN</td>\n",
              "      <td>NaN</td>\n",
              "      <td>0.351301</td>\n",
              "      <td>0.259949</td>\n",
              "    </tr>\n",
              "    <tr>\n",
              "      <th>min</th>\n",
              "      <td>NaN</td>\n",
              "      <td>NaN</td>\n",
              "      <td>NaN</td>\n",
              "      <td>-1.000000</td>\n",
              "      <td>0.000000</td>\n",
              "    </tr>\n",
              "    <tr>\n",
              "      <th>25%</th>\n",
              "      <td>NaN</td>\n",
              "      <td>NaN</td>\n",
              "      <td>NaN</td>\n",
              "      <td>0.000000</td>\n",
              "      <td>0.357143</td>\n",
              "    </tr>\n",
              "    <tr>\n",
              "      <th>50%</th>\n",
              "      <td>NaN</td>\n",
              "      <td>NaN</td>\n",
              "      <td>NaN</td>\n",
              "      <td>0.150000</td>\n",
              "      <td>0.514286</td>\n",
              "    </tr>\n",
              "    <tr>\n",
              "      <th>75%</th>\n",
              "      <td>NaN</td>\n",
              "      <td>NaN</td>\n",
              "      <td>NaN</td>\n",
              "      <td>0.400000</td>\n",
              "      <td>0.650000</td>\n",
              "    </tr>\n",
              "    <tr>\n",
              "      <th>max</th>\n",
              "      <td>NaN</td>\n",
              "      <td>NaN</td>\n",
              "      <td>NaN</td>\n",
              "      <td>1.000000</td>\n",
              "      <td>1.000000</td>\n",
              "    </tr>\n",
              "  </tbody>\n",
              "</table>\n",
              "</div>\n",
              "      <button class=\"colab-df-convert\" onclick=\"convertToInteractive('df-d2c02851-4ff4-478e-8386-8f4028ca2e61')\"\n",
              "              title=\"Convert this dataframe to an interactive table.\"\n",
              "              style=\"display:none;\">\n",
              "        \n",
              "  <svg xmlns=\"http://www.w3.org/2000/svg\" height=\"24px\"viewBox=\"0 0 24 24\"\n",
              "       width=\"24px\">\n",
              "    <path d=\"M0 0h24v24H0V0z\" fill=\"none\"/>\n",
              "    <path d=\"M18.56 5.44l.94 2.06.94-2.06 2.06-.94-2.06-.94-.94-2.06-.94 2.06-2.06.94zm-11 1L8.5 8.5l.94-2.06 2.06-.94-2.06-.94L8.5 2.5l-.94 2.06-2.06.94zm10 10l.94 2.06.94-2.06 2.06-.94-2.06-.94-.94-2.06-.94 2.06-2.06.94z\"/><path d=\"M17.41 7.96l-1.37-1.37c-.4-.4-.92-.59-1.43-.59-.52 0-1.04.2-1.43.59L10.3 9.45l-7.72 7.72c-.78.78-.78 2.05 0 2.83L4 21.41c.39.39.9.59 1.41.59.51 0 1.02-.2 1.41-.59l7.78-7.78 2.81-2.81c.8-.78.8-2.07 0-2.86zM5.41 20L4 18.59l7.72-7.72 1.47 1.35L5.41 20z\"/>\n",
              "  </svg>\n",
              "      </button>\n",
              "      \n",
              "  <style>\n",
              "    .colab-df-container {\n",
              "      display:flex;\n",
              "      flex-wrap:wrap;\n",
              "      gap: 12px;\n",
              "    }\n",
              "\n",
              "    .colab-df-convert {\n",
              "      background-color: #E8F0FE;\n",
              "      border: none;\n",
              "      border-radius: 50%;\n",
              "      cursor: pointer;\n",
              "      display: none;\n",
              "      fill: #1967D2;\n",
              "      height: 32px;\n",
              "      padding: 0 0 0 0;\n",
              "      width: 32px;\n",
              "    }\n",
              "\n",
              "    .colab-df-convert:hover {\n",
              "      background-color: #E2EBFA;\n",
              "      box-shadow: 0px 1px 2px rgba(60, 64, 67, 0.3), 0px 1px 3px 1px rgba(60, 64, 67, 0.15);\n",
              "      fill: #174EA6;\n",
              "    }\n",
              "\n",
              "    [theme=dark] .colab-df-convert {\n",
              "      background-color: #3B4455;\n",
              "      fill: #D2E3FC;\n",
              "    }\n",
              "\n",
              "    [theme=dark] .colab-df-convert:hover {\n",
              "      background-color: #434B5C;\n",
              "      box-shadow: 0px 1px 3px 1px rgba(0, 0, 0, 0.15);\n",
              "      filter: drop-shadow(0px 1px 2px rgba(0, 0, 0, 0.3));\n",
              "      fill: #FFFFFF;\n",
              "    }\n",
              "  </style>\n",
              "\n",
              "      <script>\n",
              "        const buttonEl =\n",
              "          document.querySelector('#df-d2c02851-4ff4-478e-8386-8f4028ca2e61 button.colab-df-convert');\n",
              "        buttonEl.style.display =\n",
              "          google.colab.kernel.accessAllowed ? 'block' : 'none';\n",
              "\n",
              "        async function convertToInteractive(key) {\n",
              "          const element = document.querySelector('#df-d2c02851-4ff4-478e-8386-8f4028ca2e61');\n",
              "          const dataTable =\n",
              "            await google.colab.kernel.invokeFunction('convertToInteractive',\n",
              "                                                     [key], {});\n",
              "          if (!dataTable) return;\n",
              "\n",
              "          const docLinkHtml = 'Like what you see? Visit the ' +\n",
              "            '<a target=\"_blank\" href=https://colab.research.google.com/notebooks/data_table.ipynb>data table notebook</a>'\n",
              "            + ' to learn more about interactive tables.';\n",
              "          element.innerHTML = '';\n",
              "          dataTable['output_type'] = 'display_data';\n",
              "          await google.colab.output.renderOutput(dataTable, element);\n",
              "          const docLink = document.createElement('div');\n",
              "          docLink.innerHTML = docLinkHtml;\n",
              "          element.appendChild(docLink);\n",
              "        }\n",
              "      </script>\n",
              "    </div>\n",
              "  </div>\n",
              "  "
            ]
          },
          "metadata": {},
          "execution_count": 14
        }
      ]
    },
    {
      "cell_type": "markdown",
      "source": [
        "\n",
        "# Data Cleaning\n",
        "\n"
      ],
      "metadata": {
        "id": "8Kw2xNGvwap7"
      }
    },
    {
      "cell_type": "markdown",
      "source": [
        "## 1. Duplicate data\n",
        "\n"
      ],
      "metadata": {
        "id": "Wyo0L3ZIwybc"
      }
    },
    {
      "cell_type": "code",
      "source": [
        "#Copying the database for comparison after cleaning the data\n",
        "play_store_original = play_store.copy()\n",
        "play_store_original.shape"
      ],
      "metadata": {
        "colab": {
          "base_uri": "https://localhost:8080/"
        },
        "id": "I5S7cUPfxMKR",
        "outputId": "1001458e-2a8b-4c4f-f3ff-3d555d371668"
      },
      "execution_count": null,
      "outputs": [
        {
          "output_type": "execute_result",
          "data": {
            "text/plain": [
              "(10841, 13)"
            ]
          },
          "metadata": {},
          "execution_count": 4
        }
      ]
    },
    {
      "cell_type": "code",
      "source": [
        "#Let's only keep the unique data and remove the duplicate data from the app in column.\n",
        "play_store.drop_duplicates(subset= 'App', inplace=True)"
      ],
      "metadata": {
        "id": "gteuE1-5xyYR"
      },
      "execution_count": null,
      "outputs": []
    },
    {
      "cell_type": "code",
      "source": [
        "print(f'The number of rows and columns in playstore before is {play_store_original.shape} and \\n after cleaning the data by removing duplicates is{play_store.shape}')"
      ],
      "metadata": {
        "colab": {
          "base_uri": "https://localhost:8080/"
        },
        "id": "P56CG1ITzELz",
        "outputId": "cc6dd8b8-84cf-4b9c-9635-3b771c978a7f"
      },
      "execution_count": null,
      "outputs": [
        {
          "output_type": "stream",
          "name": "stdout",
          "text": [
            "The number of rows and columns in playstore before is (10841, 13) and \n",
            " after cleaning the data by removing duplicates is(9660, 13)\n"
          ]
        }
      ]
    },
    {
      "cell_type": "markdown",
      "source": [
        "## 2. Conversion of column for analysis\n",
        "\n",
        " "
      ],
      "metadata": {
        "id": "rwVpXND40beT"
      }
    },
    {
      "cell_type": "code",
      "source": [
        "##(SIZE)\n",
        "#As some of the values are non-numerical value so let's convert the categorical variables the into numerical.\n",
        "play_store['Size'].unique()"
      ],
      "metadata": {
        "colab": {
          "base_uri": "https://localhost:8080/"
        },
        "id": "DcTFd7L20we9",
        "outputId": "858ecd12-fa81-4c40-8f02-ceb6a89c3ff6"
      },
      "execution_count": null,
      "outputs": [
        {
          "output_type": "execute_result",
          "data": {
            "text/plain": [
              "array([1.90e+01, 1.40e+01, 8.70e+00, 2.50e+01, 2.80e+00, 5.60e+00,\n",
              "       2.90e+01, 3.30e+01, 3.10e+00, 2.80e+01, 1.20e+01, 2.00e+01,\n",
              "       2.10e+01, 3.70e+01, 2.70e+00, 5.50e+00, 1.70e+01, 3.90e+01,\n",
              "       3.10e+01, 4.20e+00, 7.00e+00, 2.30e+01, 6.00e+00, 6.10e+00,\n",
              "       4.60e+00, 9.20e+00, 5.20e+00, 1.10e+01, 2.40e+01,      nan,\n",
              "       9.40e+00, 1.50e+01, 1.00e+01, 1.20e+00, 2.60e+01, 8.00e+00,\n",
              "       7.90e+00, 5.60e+01, 5.70e+01, 3.50e+01, 5.40e+01, 2.01e-01,\n",
              "       3.60e+00, 5.70e+00, 8.60e+00, 2.40e+00, 2.70e+01, 2.50e+00,\n",
              "       1.60e+01, 3.40e+00, 8.90e+00, 3.90e+00, 2.90e+00, 3.80e+01,\n",
              "       3.20e+01, 5.40e+00, 1.80e+01, 1.10e+00, 2.20e+00, 4.50e+00,\n",
              "       9.80e+00, 5.20e+01, 9.00e+00, 6.70e+00, 3.00e+01, 2.60e+00,\n",
              "       7.10e+00, 3.70e+00, 2.20e+01, 7.40e+00, 6.40e+00, 3.20e+00,\n",
              "       8.20e+00, 9.90e+00, 4.90e+00, 9.50e+00, 5.00e+00, 5.90e+00,\n",
              "       1.30e+01, 7.30e+01, 6.80e+00, 3.50e+00, 4.00e+00, 2.30e+00,\n",
              "       7.20e+00, 2.10e+00, 4.20e+01, 7.30e+00, 9.10e+00, 5.50e+01,\n",
              "       2.30e-02, 6.50e+00, 1.50e+00, 7.50e+00, 5.10e+01, 4.10e+01,\n",
              "       4.80e+01, 8.50e+00, 4.60e+01, 8.30e+00, 4.30e+00, 4.70e+00,\n",
              "       3.30e+00, 4.00e+01, 7.80e+00, 8.80e+00, 6.60e+00, 5.10e+00,\n",
              "       6.10e+01, 6.60e+01, 7.90e-02, 8.40e+00, 1.18e-01, 4.40e+01,\n",
              "       6.95e-01, 1.60e+00, 6.20e+00, 1.80e-02, 5.30e+01, 1.40e+00,\n",
              "       3.00e+00, 5.80e+00, 3.80e+00, 9.60e+00, 4.50e+01, 6.30e+01,\n",
              "       4.90e+01, 7.70e+01, 4.40e+00, 4.80e+00, 7.00e+01, 6.90e+00,\n",
              "       9.30e+00, 8.10e+00, 3.60e+01, 8.40e+01, 9.70e+01, 2.00e+00,\n",
              "       1.90e+00, 1.80e+00, 5.30e+00, 4.70e+01, 5.56e-01, 5.26e-01,\n",
              "       7.60e+01, 7.60e+00, 5.90e+01, 9.70e+00, 7.80e+01, 7.20e+01,\n",
              "       4.30e+01, 7.70e+00, 6.30e+00, 3.34e-01, 3.40e+01, 9.30e+01,\n",
              "       6.50e+01, 7.90e+01, 1.00e+02, 5.80e+01, 5.00e+01, 6.80e+01,\n",
              "       6.40e+01, 6.70e+01, 6.00e+01, 9.40e+01, 2.32e-01, 9.90e+01,\n",
              "       6.24e-01, 9.50e+01, 8.50e-03, 4.10e-02, 2.92e-01, 1.10e-02,\n",
              "       8.00e+01, 1.70e+00, 7.40e+01, 6.20e+01, 6.90e+01, 7.50e+01,\n",
              "       9.80e+01, 8.50e+01, 8.20e+01, 9.60e+01, 8.70e+01, 7.10e+01,\n",
              "       8.60e+01, 9.10e+01, 8.10e+01, 9.20e+01, 8.30e+01, 8.80e+01,\n",
              "       7.04e-01, 8.62e-01, 8.99e-01, 3.78e-01, 2.66e-01, 3.75e-01,\n",
              "       1.30e+00, 9.75e-01, 9.80e-01, 4.10e+00, 8.90e+01, 6.96e-01,\n",
              "       5.44e-01, 5.25e-01, 9.20e-01, 7.79e-01, 8.53e-01, 7.20e-01,\n",
              "       7.13e-01, 7.72e-01, 3.18e-01, 5.80e-02, 2.41e-01, 1.96e-01,\n",
              "       8.57e-01, 5.10e-02, 9.53e-01, 8.65e-01, 2.51e-01, 9.30e-01,\n",
              "       5.40e-01, 3.13e-01, 7.46e-01, 2.03e-01, 2.60e-02, 3.14e-01,\n",
              "       2.39e-01, 3.71e-01, 2.20e-01, 7.30e-01, 7.56e-01, 9.10e-02,\n",
              "       2.93e-01, 1.70e-02, 7.40e-02, 1.40e-02, 3.17e-01, 7.80e-02,\n",
              "       9.24e-01, 9.02e-01, 8.18e-01, 8.10e-02, 9.39e-01, 1.69e-01,\n",
              "       4.50e-02, 4.75e-01, 9.65e-01, 9.00e+01, 5.45e-01, 6.10e-02,\n",
              "       2.83e-01, 6.55e-01, 7.14e-01, 9.30e-02, 8.72e-01, 1.21e-01,\n",
              "       3.22e-01, 1.00e+00, 9.76e-01, 1.72e-01, 2.38e-01, 5.49e-01,\n",
              "       2.06e-01, 9.54e-01, 4.44e-01, 7.17e-01, 2.10e-01, 6.09e-01,\n",
              "       3.08e-01, 7.05e-01, 3.06e-01, 9.04e-01, 4.73e-01, 1.75e-01,\n",
              "       3.50e-01, 3.83e-01, 4.54e-01, 4.21e-01, 7.00e-02, 8.12e-01,\n",
              "       4.42e-01, 8.42e-01, 4.17e-01, 4.12e-01, 4.59e-01, 4.78e-01,\n",
              "       3.35e-01, 7.82e-01, 7.21e-01, 4.30e-01, 4.29e-01, 1.92e-01,\n",
              "       2.00e-01, 4.60e-01, 7.28e-01, 4.96e-01, 8.16e-01, 4.14e-01,\n",
              "       5.06e-01, 8.87e-01, 6.13e-01, 2.43e-01, 5.69e-01, 7.78e-01,\n",
              "       6.83e-01, 5.92e-01, 3.19e-01, 1.86e-01, 8.40e-01, 6.47e-01,\n",
              "       1.91e-01, 3.73e-01, 4.37e-01, 5.98e-01, 7.16e-01, 5.85e-01,\n",
              "       9.82e-01, 2.22e-01, 2.19e-01, 5.50e-02, 9.48e-01, 3.23e-01,\n",
              "       6.91e-01, 5.11e-01, 9.51e-01, 9.63e-01, 2.50e-02, 5.54e-01,\n",
              "       3.51e-01, 2.70e-02, 8.20e-02, 2.08e-01, 9.13e-01, 5.14e-01,\n",
              "       5.51e-01, 2.90e-02, 1.03e-01, 8.98e-01, 7.43e-01, 1.16e-01,\n",
              "       1.53e-01, 2.09e-01, 3.53e-01, 4.99e-01, 1.73e-01, 5.97e-01,\n",
              "       8.09e-01, 1.22e-01, 4.11e-01, 4.00e-01, 8.01e-01, 7.87e-01,\n",
              "       2.37e-01, 5.00e-02, 6.43e-01, 9.86e-01, 9.70e-02, 5.16e-01,\n",
              "       8.37e-01, 7.80e-01, 9.61e-01, 2.69e-01, 2.00e-02, 4.98e-01,\n",
              "       6.00e-01, 7.49e-01, 6.42e-01, 8.81e-01, 7.20e-02, 6.56e-01,\n",
              "       6.01e-01, 2.21e-01, 2.28e-01, 1.08e-01, 9.40e-01, 1.76e-01,\n",
              "       3.30e-02, 6.63e-01, 3.40e-02, 9.42e-01, 2.59e-01, 1.64e-01,\n",
              "       4.58e-01, 2.45e-01, 6.29e-01, 2.80e-02, 2.88e-01, 7.75e-01,\n",
              "       7.85e-01, 6.36e-01, 9.16e-01, 9.94e-01, 3.09e-01, 4.85e-01,\n",
              "       9.14e-01, 9.03e-01, 6.08e-01, 5.00e-01, 5.40e-02, 5.62e-01,\n",
              "       8.47e-01, 9.57e-01, 6.88e-01, 8.11e-01, 2.70e-01, 4.80e-02,\n",
              "       3.29e-01, 5.23e-01, 9.21e-01, 8.74e-01, 9.81e-01, 7.84e-01,\n",
              "       2.80e-01, 2.40e-02, 5.18e-01, 7.54e-01, 8.92e-01, 1.54e-01,\n",
              "       8.60e-01, 3.64e-01, 3.87e-01, 6.26e-01, 1.61e-01, 8.79e-01,\n",
              "       3.90e-02, 9.70e-01, 1.70e-01, 1.41e-01, 1.60e-01, 1.44e-01,\n",
              "       1.43e-01, 1.90e-01, 3.76e-01, 1.93e-01, 2.46e-01, 7.30e-02,\n",
              "       6.58e-01, 9.92e-01, 2.53e-01, 4.20e-01, 4.04e-01, 4.70e-01,\n",
              "       2.26e-01, 2.40e-01, 8.90e-02, 2.34e-01, 2.57e-01, 8.61e-01,\n",
              "       4.67e-01, 1.57e-01, 4.40e-02, 6.76e-01, 6.70e-02, 5.52e-01,\n",
              "       8.85e-01, 1.02e+00, 5.82e-01, 6.19e-01])"
            ]
          },
          "metadata": {},
          "execution_count": 18
        }
      ]
    },
    {
      "cell_type": "code",
      "source": [
        "play_store['Size'] = play_store['Size'].apply(lambda x: str(x).replace('Varies with device', 'NaN') if 'Varies with device' in str(x) else x)\n",
        "play_store['Size'] = play_store['Size'].apply(lambda x: str(x).replace('M', '') if 'M' in str(x) else x)\n",
        "play_store['Size'] = play_store['Size'].apply(lambda x: str(x).replace(',', '') if 'M' in str(x) else x)\n",
        "play_store['Size'] = play_store['Size'].apply(lambda x: float(str(x).replace('k', '')) / 1000 if 'k' in str(x) else x)"
      ],
      "metadata": {
        "id": "cQm1fv7g1033"
      },
      "execution_count": null,
      "outputs": []
    },
    {
      "cell_type": "code",
      "source": [
        "## (INSTALLS)\n",
        "play_store['Installs'].unique()"
      ],
      "metadata": {
        "colab": {
          "base_uri": "https://localhost:8080/"
        },
        "id": "i6utFIAb20MZ",
        "outputId": "7b2f1bc5-02ed-427f-ba32-8c46203e0f0c"
      },
      "execution_count": null,
      "outputs": [
        {
          "output_type": "execute_result",
          "data": {
            "text/plain": [
              "array([1.e+04, 5.e+05, 5.e+06, 5.e+07, 1.e+05, 5.e+04, 1.e+06, 1.e+07,\n",
              "       5.e+03, 1.e+08, 1.e+09, 1.e+03, 5.e+08, 5.e+01, 1.e+02, 5.e+02,\n",
              "       1.e+01, 1.e+00, 5.e+00, 0.e+00])"
            ]
          },
          "metadata": {},
          "execution_count": 20
        }
      ]
    },
    {
      "cell_type": "code",
      "source": [
        "## Drop the row that has incorrect values for our features\n",
        "play_store = play_store[~(play_store['Installs'] == \"Free\")].reset_index(drop=True)"
      ],
      "metadata": {
        "id": "5kr_eFjb9-C5"
      },
      "execution_count": null,
      "outputs": []
    },
    {
      "cell_type": "code",
      "source": [
        "\n",
        "play_store['Installs'] = play_store['Installs'].apply(lambda x: x.replace('+', '') if '+' in str(x) else x)\n",
        "play_store['Installs'] = play_store['Installs'].apply(lambda x: x.replace(',', '') if ',' in str(x) else x)\n",
        "play_store['Installs'] = play_store['Installs'].apply(lambda x: int(x))"
      ],
      "metadata": {
        "id": "_9UubwG438z5"
      },
      "execution_count": null,
      "outputs": []
    },
    {
      "cell_type": "code",
      "source": [
        "play_store['Installs'].unique()"
      ],
      "metadata": {
        "colab": {
          "base_uri": "https://localhost:8080/"
        },
        "id": "CExXmZNl4irY",
        "outputId": "2ade1ee0-7acd-43fa-e5da-5d0f6cdc0b97"
      },
      "execution_count": null,
      "outputs": [
        {
          "output_type": "execute_result",
          "data": {
            "text/plain": [
              "array([     10000,     500000,    5000000,   50000000,     100000,\n",
              "            50000,    1000000,   10000000,       5000,  100000000,\n",
              "       1000000000,       1000,  500000000,         50,        100,\n",
              "              500,         10,          1,          5,          0])"
            ]
          },
          "metadata": {},
          "execution_count": 23
        }
      ]
    },
    {
      "cell_type": "code",
      "source": [
        "play_store['Price'].unique()"
      ],
      "metadata": {
        "colab": {
          "base_uri": "https://localhost:8080/"
        },
        "id": "nTAR-ia8BgVh",
        "outputId": "378135ba-3e15-400d-f944-17e99d7f6dab"
      },
      "execution_count": null,
      "outputs": [
        {
          "output_type": "execute_result",
          "data": {
            "text/plain": [
              "array([  0.  ,   4.99,   3.99,   6.99,   1.49,   2.99,   7.99,   5.99,\n",
              "         3.49,   1.99,   9.99,   7.49,   0.99,   9.  ,   5.49,  10.  ,\n",
              "        24.99,  11.99,  79.99,  16.99,  14.99,   1.  ,  29.99,  12.99,\n",
              "         2.49,  10.99,   1.5 ,  19.99,  15.99,  33.99,  74.99,  39.99,\n",
              "         3.95,   4.49,   1.7 ,   8.99,   2.  ,   3.88,  25.99, 399.99,\n",
              "        17.99, 400.  ,   3.02,   1.76,   4.84,   4.77,   1.61,   2.5 ,\n",
              "         1.59,   6.49,   1.29,   5.  ,  13.99, 299.99, 379.99,  37.99,\n",
              "        18.99, 389.99,  19.9 ,   8.49,   1.75,  14.  ,   4.85,  46.99,\n",
              "       109.99, 154.99,   3.08,   2.59,   4.8 ,   1.96,  19.4 ,   3.9 ,\n",
              "         4.59,  15.46,   3.04,   4.29,   2.6 ,   3.28,   4.6 ,  28.99,\n",
              "         2.95,   2.9 ,   1.97, 200.  ,  89.99,   2.56,  30.99,   3.61,\n",
              "       394.99,   1.26,   1.2 ,   1.04])"
            ]
          },
          "metadata": {},
          "execution_count": 24
        }
      ]
    },
    {
      "cell_type": "code",
      "source": [
        "## Remove \"$\" from \"Price\" columns to make it numeric\n",
        "play_store['Price'] = play_store['Price'].apply(lambda x: str(x).replace('$', '') if '$' in str(x) else str(x))\n"
      ],
      "metadata": {
        "id": "if-pysyGBnfV"
      },
      "execution_count": null,
      "outputs": []
    },
    {
      "cell_type": "code",
      "source": [
        "play_store['Price'].unique()"
      ],
      "metadata": {
        "colab": {
          "base_uri": "https://localhost:8080/"
        },
        "id": "4SfFidEdB0mP",
        "outputId": "c25bd1c7-7eef-4a0d-b0a2-f83dbab2eac9"
      },
      "execution_count": null,
      "outputs": [
        {
          "output_type": "execute_result",
          "data": {
            "text/plain": [
              "array(['0.0', '4.99', '3.99', '6.99', '1.49', '2.99', '7.99', '5.99',\n",
              "       '3.49', '1.99', '9.99', '7.49', '0.99', '9.0', '5.49', '10.0',\n",
              "       '24.99', '11.99', '79.99', '16.99', '14.99', '1.0', '29.99',\n",
              "       '12.99', '2.49', '10.99', '1.5', '19.99', '15.99', '33.99',\n",
              "       '74.99', '39.99', '3.95', '4.49', '1.7', '8.99', '2.0', '3.88',\n",
              "       '25.99', '399.99', '17.99', '400.0', '3.02', '1.76', '4.84',\n",
              "       '4.77', '1.61', '2.5', '1.59', '6.49', '1.29', '5.0', '13.99',\n",
              "       '299.99', '379.99', '37.99', '18.99', '389.99', '19.9', '8.49',\n",
              "       '1.75', '14.0', '4.85', '46.99', '109.99', '154.99', '3.08',\n",
              "       '2.59', '4.8', '1.96', '19.4', '3.9', '4.59', '15.46', '3.04',\n",
              "       '4.29', '2.6', '3.28', '4.6', '28.99', '2.95', '2.9', '1.97',\n",
              "       '200.0', '89.99', '2.56', '30.99', '3.61', '394.99', '1.26', '1.2',\n",
              "       '1.04'], dtype=object)"
            ]
          },
          "metadata": {},
          "execution_count": 26
        }
      ]
    },
    {
      "cell_type": "code",
      "source": [
        "\n",
        "## Convert the column types to numeric values\n",
        "play_store['Size'] = play_store['Size'].apply(lambda x: float(x))\n",
        "play_store['Installs'] = play_store['Installs'].apply(lambda x: float(x))\n",
        "play_store['Price'] = play_store['Price'].apply(lambda x: float(x))\n",
        "play_store['Reviews'] = play_store['Reviews'].apply(lambda x: int(x))"
      ],
      "metadata": {
        "id": "KK4iwgu2-CJN"
      },
      "execution_count": null,
      "outputs": []
    },
    {
      "cell_type": "code",
      "source": [
        "play_store.dtypes"
      ],
      "metadata": {
        "colab": {
          "base_uri": "https://localhost:8080/"
        },
        "id": "PsJarcMW_jTU",
        "outputId": "80e78444-1513-4779-9b48-fc5c68d857d8"
      },
      "execution_count": null,
      "outputs": [
        {
          "output_type": "execute_result",
          "data": {
            "text/plain": [
              "App                object\n",
              "Category           object\n",
              "Rating            float64\n",
              "Reviews             int64\n",
              "Size              float64\n",
              "Installs          float64\n",
              "Type               object\n",
              "Price             float64\n",
              "Content Rating     object\n",
              "Genres             object\n",
              "Last Updated       object\n",
              "Current Ver        object\n",
              "Android Ver        object\n",
              "dtype: object"
            ]
          },
          "metadata": {},
          "execution_count": 28
        }
      ]
    },
    {
      "cell_type": "markdown",
      "source": [
        "## Null values"
      ],
      "metadata": {
        "id": "OLW3x58YCRfm"
      }
    },
    {
      "cell_type": "code",
      "source": [
        "## Let's get the ratio of missing values for each feature\n",
        "play_store_na = (play_store.isnull().sum() / len(play_store)) * 100\n",
        "play_store_na = play_store_na.drop(play_store_na[play_store_na == 0].index).sort_values(ascending=False)\n",
        "missing_data = pd.DataFrame({'Missing Ratio' :play_store_na})\n",
        "missing_data"
      ],
      "metadata": {
        "colab": {
          "base_uri": "https://localhost:8080/"
        },
        "id": "oZQuA5k8CVNO",
        "outputId": "375ed1ba-a939-4dbd-ab94-54bcd276acb1"
      },
      "execution_count": null,
      "outputs": [
        {
          "output_type": "execute_result",
          "data": {
            "text/plain": [
              "             Missing Ratio\n",
              "Rating           15.146495\n",
              "Size             12.703178\n",
              "Current Ver       0.082824\n",
              "Android Ver       0.020706\n",
              "Type              0.010353"
            ],
            "text/html": [
              "\n",
              "  <div id=\"df-948c9512-c88c-4399-8d32-1fe04bfb4fdc\">\n",
              "    <div class=\"colab-df-container\">\n",
              "      <div>\n",
              "<style scoped>\n",
              "    .dataframe tbody tr th:only-of-type {\n",
              "        vertical-align: middle;\n",
              "    }\n",
              "\n",
              "    .dataframe tbody tr th {\n",
              "        vertical-align: top;\n",
              "    }\n",
              "\n",
              "    .dataframe thead th {\n",
              "        text-align: right;\n",
              "    }\n",
              "</style>\n",
              "<table border=\"1\" class=\"dataframe\">\n",
              "  <thead>\n",
              "    <tr style=\"text-align: right;\">\n",
              "      <th></th>\n",
              "      <th>Missing Ratio</th>\n",
              "    </tr>\n",
              "  </thead>\n",
              "  <tbody>\n",
              "    <tr>\n",
              "      <th>Rating</th>\n",
              "      <td>15.146495</td>\n",
              "    </tr>\n",
              "    <tr>\n",
              "      <th>Size</th>\n",
              "      <td>12.703178</td>\n",
              "    </tr>\n",
              "    <tr>\n",
              "      <th>Current Ver</th>\n",
              "      <td>0.082824</td>\n",
              "    </tr>\n",
              "    <tr>\n",
              "      <th>Android Ver</th>\n",
              "      <td>0.020706</td>\n",
              "    </tr>\n",
              "    <tr>\n",
              "      <th>Type</th>\n",
              "      <td>0.010353</td>\n",
              "    </tr>\n",
              "  </tbody>\n",
              "</table>\n",
              "</div>\n",
              "      <button class=\"colab-df-convert\" onclick=\"convertToInteractive('df-948c9512-c88c-4399-8d32-1fe04bfb4fdc')\"\n",
              "              title=\"Convert this dataframe to an interactive table.\"\n",
              "              style=\"display:none;\">\n",
              "        \n",
              "  <svg xmlns=\"http://www.w3.org/2000/svg\" height=\"24px\"viewBox=\"0 0 24 24\"\n",
              "       width=\"24px\">\n",
              "    <path d=\"M0 0h24v24H0V0z\" fill=\"none\"/>\n",
              "    <path d=\"M18.56 5.44l.94 2.06.94-2.06 2.06-.94-2.06-.94-.94-2.06-.94 2.06-2.06.94zm-11 1L8.5 8.5l.94-2.06 2.06-.94-2.06-.94L8.5 2.5l-.94 2.06-2.06.94zm10 10l.94 2.06.94-2.06 2.06-.94-2.06-.94-.94-2.06-.94 2.06-2.06.94z\"/><path d=\"M17.41 7.96l-1.37-1.37c-.4-.4-.92-.59-1.43-.59-.52 0-1.04.2-1.43.59L10.3 9.45l-7.72 7.72c-.78.78-.78 2.05 0 2.83L4 21.41c.39.39.9.59 1.41.59.51 0 1.02-.2 1.41-.59l7.78-7.78 2.81-2.81c.8-.78.8-2.07 0-2.86zM5.41 20L4 18.59l7.72-7.72 1.47 1.35L5.41 20z\"/>\n",
              "  </svg>\n",
              "      </button>\n",
              "      \n",
              "  <style>\n",
              "    .colab-df-container {\n",
              "      display:flex;\n",
              "      flex-wrap:wrap;\n",
              "      gap: 12px;\n",
              "    }\n",
              "\n",
              "    .colab-df-convert {\n",
              "      background-color: #E8F0FE;\n",
              "      border: none;\n",
              "      border-radius: 50%;\n",
              "      cursor: pointer;\n",
              "      display: none;\n",
              "      fill: #1967D2;\n",
              "      height: 32px;\n",
              "      padding: 0 0 0 0;\n",
              "      width: 32px;\n",
              "    }\n",
              "\n",
              "    .colab-df-convert:hover {\n",
              "      background-color: #E2EBFA;\n",
              "      box-shadow: 0px 1px 2px rgba(60, 64, 67, 0.3), 0px 1px 3px 1px rgba(60, 64, 67, 0.15);\n",
              "      fill: #174EA6;\n",
              "    }\n",
              "\n",
              "    [theme=dark] .colab-df-convert {\n",
              "      background-color: #3B4455;\n",
              "      fill: #D2E3FC;\n",
              "    }\n",
              "\n",
              "    [theme=dark] .colab-df-convert:hover {\n",
              "      background-color: #434B5C;\n",
              "      box-shadow: 0px 1px 3px 1px rgba(0, 0, 0, 0.15);\n",
              "      filter: drop-shadow(0px 1px 2px rgba(0, 0, 0, 0.3));\n",
              "      fill: #FFFFFF;\n",
              "    }\n",
              "  </style>\n",
              "\n",
              "      <script>\n",
              "        const buttonEl =\n",
              "          document.querySelector('#df-948c9512-c88c-4399-8d32-1fe04bfb4fdc button.colab-df-convert');\n",
              "        buttonEl.style.display =\n",
              "          google.colab.kernel.accessAllowed ? 'block' : 'none';\n",
              "\n",
              "        async function convertToInteractive(key) {\n",
              "          const element = document.querySelector('#df-948c9512-c88c-4399-8d32-1fe04bfb4fdc');\n",
              "          const dataTable =\n",
              "            await google.colab.kernel.invokeFunction('convertToInteractive',\n",
              "                                                     [key], {});\n",
              "          if (!dataTable) return;\n",
              "\n",
              "          const docLinkHtml = 'Like what you see? Visit the ' +\n",
              "            '<a target=\"_blank\" href=https://colab.research.google.com/notebooks/data_table.ipynb>data table notebook</a>'\n",
              "            + ' to learn more about interactive tables.';\n",
              "          element.innerHTML = '';\n",
              "          dataTable['output_type'] = 'display_data';\n",
              "          await google.colab.output.renderOutput(dataTable, element);\n",
              "          const docLink = document.createElement('div');\n",
              "          docLink.innerHTML = docLinkHtml;\n",
              "          element.appendChild(docLink);\n",
              "        }\n",
              "      </script>\n",
              "    </div>\n",
              "  </div>\n",
              "  "
            ]
          },
          "metadata": {},
          "execution_count": 29
        }
      ]
    },
    {
      "cell_type": "code",
      "source": [
        "## Drop the Null values in Rating column\n",
        "play_store.dropna(subset =['Rating'], inplace = True)\n",
        "print(\"The number of rows and columns in play_store_df after dropping the NAs from 'Rating' is\",play_store.shape)"
      ],
      "metadata": {
        "colab": {
          "base_uri": "https://localhost:8080/"
        },
        "id": "Hpwkm9HjDDBH",
        "outputId": "de095a2e-fdb2-48d2-ffd1-0d97a2b13c53"
      },
      "execution_count": null,
      "outputs": [
        {
          "output_type": "stream",
          "name": "stdout",
          "text": [
            "The number of rows and columns in play_store_df after dropping the NAs from 'Rating' is (8196, 13)\n"
          ]
        }
      ]
    },
    {
      "cell_type": "code",
      "source": [
        "## Recalculate the missing value ratio\n",
        "play_store_na = (play_store.isnull().sum() / len(play_store)) * 100\n",
        "play_store_na = play_store_na.drop(play_store_na[play_store_na == 0].index).sort_values(ascending=False)\n",
        "missing_data = pd.DataFrame({'Missing Ratio' :play_store_na})\n",
        "missing_data"
      ],
      "metadata": {
        "colab": {
          "base_uri": "https://localhost:8080/"
        },
        "id": "vQuWUvVJDg7n",
        "outputId": "9eccd599-8534-4d40-822b-0b2bdd73de80"
      },
      "execution_count": null,
      "outputs": [
        {
          "output_type": "execute_result",
          "data": {
            "text/plain": [
              "             Missing Ratio\n",
              "Size             14.263055\n",
              "Current Ver       0.048804\n",
              "Android Ver       0.024402"
            ],
            "text/html": [
              "\n",
              "  <div id=\"df-c021a5b1-a67f-4908-89a5-5fd34e79df95\">\n",
              "    <div class=\"colab-df-container\">\n",
              "      <div>\n",
              "<style scoped>\n",
              "    .dataframe tbody tr th:only-of-type {\n",
              "        vertical-align: middle;\n",
              "    }\n",
              "\n",
              "    .dataframe tbody tr th {\n",
              "        vertical-align: top;\n",
              "    }\n",
              "\n",
              "    .dataframe thead th {\n",
              "        text-align: right;\n",
              "    }\n",
              "</style>\n",
              "<table border=\"1\" class=\"dataframe\">\n",
              "  <thead>\n",
              "    <tr style=\"text-align: right;\">\n",
              "      <th></th>\n",
              "      <th>Missing Ratio</th>\n",
              "    </tr>\n",
              "  </thead>\n",
              "  <tbody>\n",
              "    <tr>\n",
              "      <th>Size</th>\n",
              "      <td>14.263055</td>\n",
              "    </tr>\n",
              "    <tr>\n",
              "      <th>Current Ver</th>\n",
              "      <td>0.048804</td>\n",
              "    </tr>\n",
              "    <tr>\n",
              "      <th>Android Ver</th>\n",
              "      <td>0.024402</td>\n",
              "    </tr>\n",
              "  </tbody>\n",
              "</table>\n",
              "</div>\n",
              "      <button class=\"colab-df-convert\" onclick=\"convertToInteractive('df-c021a5b1-a67f-4908-89a5-5fd34e79df95')\"\n",
              "              title=\"Convert this dataframe to an interactive table.\"\n",
              "              style=\"display:none;\">\n",
              "        \n",
              "  <svg xmlns=\"http://www.w3.org/2000/svg\" height=\"24px\"viewBox=\"0 0 24 24\"\n",
              "       width=\"24px\">\n",
              "    <path d=\"M0 0h24v24H0V0z\" fill=\"none\"/>\n",
              "    <path d=\"M18.56 5.44l.94 2.06.94-2.06 2.06-.94-2.06-.94-.94-2.06-.94 2.06-2.06.94zm-11 1L8.5 8.5l.94-2.06 2.06-.94-2.06-.94L8.5 2.5l-.94 2.06-2.06.94zm10 10l.94 2.06.94-2.06 2.06-.94-2.06-.94-.94-2.06-.94 2.06-2.06.94z\"/><path d=\"M17.41 7.96l-1.37-1.37c-.4-.4-.92-.59-1.43-.59-.52 0-1.04.2-1.43.59L10.3 9.45l-7.72 7.72c-.78.78-.78 2.05 0 2.83L4 21.41c.39.39.9.59 1.41.59.51 0 1.02-.2 1.41-.59l7.78-7.78 2.81-2.81c.8-.78.8-2.07 0-2.86zM5.41 20L4 18.59l7.72-7.72 1.47 1.35L5.41 20z\"/>\n",
              "  </svg>\n",
              "      </button>\n",
              "      \n",
              "  <style>\n",
              "    .colab-df-container {\n",
              "      display:flex;\n",
              "      flex-wrap:wrap;\n",
              "      gap: 12px;\n",
              "    }\n",
              "\n",
              "    .colab-df-convert {\n",
              "      background-color: #E8F0FE;\n",
              "      border: none;\n",
              "      border-radius: 50%;\n",
              "      cursor: pointer;\n",
              "      display: none;\n",
              "      fill: #1967D2;\n",
              "      height: 32px;\n",
              "      padding: 0 0 0 0;\n",
              "      width: 32px;\n",
              "    }\n",
              "\n",
              "    .colab-df-convert:hover {\n",
              "      background-color: #E2EBFA;\n",
              "      box-shadow: 0px 1px 2px rgba(60, 64, 67, 0.3), 0px 1px 3px 1px rgba(60, 64, 67, 0.15);\n",
              "      fill: #174EA6;\n",
              "    }\n",
              "\n",
              "    [theme=dark] .colab-df-convert {\n",
              "      background-color: #3B4455;\n",
              "      fill: #D2E3FC;\n",
              "    }\n",
              "\n",
              "    [theme=dark] .colab-df-convert:hover {\n",
              "      background-color: #434B5C;\n",
              "      box-shadow: 0px 1px 3px 1px rgba(0, 0, 0, 0.15);\n",
              "      filter: drop-shadow(0px 1px 2px rgba(0, 0, 0, 0.3));\n",
              "      fill: #FFFFFF;\n",
              "    }\n",
              "  </style>\n",
              "\n",
              "      <script>\n",
              "        const buttonEl =\n",
              "          document.querySelector('#df-c021a5b1-a67f-4908-89a5-5fd34e79df95 button.colab-df-convert');\n",
              "        buttonEl.style.display =\n",
              "          google.colab.kernel.accessAllowed ? 'block' : 'none';\n",
              "\n",
              "        async function convertToInteractive(key) {\n",
              "          const element = document.querySelector('#df-c021a5b1-a67f-4908-89a5-5fd34e79df95');\n",
              "          const dataTable =\n",
              "            await google.colab.kernel.invokeFunction('convertToInteractive',\n",
              "                                                     [key], {});\n",
              "          if (!dataTable) return;\n",
              "\n",
              "          const docLinkHtml = 'Like what you see? Visit the ' +\n",
              "            '<a target=\"_blank\" href=https://colab.research.google.com/notebooks/data_table.ipynb>data table notebook</a>'\n",
              "            + ' to learn more about interactive tables.';\n",
              "          element.innerHTML = '';\n",
              "          dataTable['output_type'] = 'display_data';\n",
              "          await google.colab.output.renderOutput(dataTable, element);\n",
              "          const docLink = document.createElement('div');\n",
              "          docLink.innerHTML = docLinkHtml;\n",
              "          element.appendChild(docLink);\n",
              "        }\n",
              "      </script>\n",
              "    </div>\n",
              "  </div>\n",
              "  "
            ]
          },
          "metadata": {},
          "execution_count": 31
        }
      ]
    },
    {
      "cell_type": "markdown",
      "source": [
        "*Since the ratio of missing values for the rest of the columns is less (<0.05), we proceed to fill these with the mode values instead of dropping these rows.*"
      ],
      "metadata": {
        "id": "DVzoaURAEE8a"
      }
    },
    {
      "cell_type": "code",
      "source": [
        "## Fill the three columns with the mode value\n",
        "play_store['Current Ver'] = play_store['Current Ver'].fillna(play_store['Current Ver'].mode()[0])\n",
        "play_store['Android Ver'] = play_store['Android Ver'].fillna(play_store['Android Ver'].mode()[0])\n",
        "play_store['Content Rating'] = play_store['Content Rating'].fillna(play_store['Content Rating'].mode()[0])"
      ],
      "metadata": {
        "id": "SQR4z1ihDtbu"
      },
      "execution_count": null,
      "outputs": []
    },
    {
      "cell_type": "markdown",
      "source": [
        "# ***EDA (Exploratory Data Analysis)***"
      ],
      "metadata": {
        "id": "vOTb6qNSEhl1"
      }
    },
    {
      "cell_type": "markdown",
      "source": [
        "## Rate Distribution"
      ],
      "metadata": {
        "id": "da4glbgs1Tu1"
      }
    },
    {
      "cell_type": "code",
      "source": [
        "## general distribution of rating\n",
        "rating_distribution = [go.Histogram(\n",
        "        x = play_store.Rating,\n",
        "        xbins = {'start': 1, 'size': 0.1, 'end' :5})]\n",
        "\n",
        "print('Average app rating = ', np.mean(play_store['Rating']))\n",
        "plotly.offline.iplot(rating_distribution, filename='overall_rating_distribution')"
      ],
      "metadata": {
        "colab": {
          "base_uri": "https://localhost:8080/",
          "height": 559
        },
        "id": "riapePjj85Lr",
        "outputId": "0bdb31a8-06ea-435e-af7b-8915d5ab3750"
      },
      "execution_count": null,
      "outputs": [
        {
          "output_type": "stream",
          "name": "stdout",
          "text": [
            "Average app rating =  4.173243045387993\n"
          ]
        },
        {
          "output_type": "display_data",
          "data": {
            "text/html": [
              "<html>\n",
              "<head><meta charset=\"utf-8\" /></head>\n",
              "<body>\n",
              "    <div>            <script src=\"https://cdnjs.cloudflare.com/ajax/libs/mathjax/2.7.5/MathJax.js?config=TeX-AMS-MML_SVG\"></script><script type=\"text/javascript\">if (window.MathJax) {MathJax.Hub.Config({SVG: {font: \"STIX-Web\"}});}</script>                <script type=\"text/javascript\">window.PlotlyConfig = {MathJaxConfig: 'local'};</script>\n",
              "        <script src=\"https://cdn.plot.ly/plotly-2.8.3.min.js\"></script>                <div id=\"ceb30977-9cc8-4c75-aab6-8c32789a519c\" class=\"plotly-graph-div\" style=\"height:525px; width:100%;\"></div>            <script type=\"text/javascript\">                                    window.PLOTLYENV=window.PLOTLYENV || {};                                    if (document.getElementById(\"ceb30977-9cc8-4c75-aab6-8c32789a519c\")) {                    Plotly.newPlot(                        \"ceb30977-9cc8-4c75-aab6-8c32789a519c\",                        [{\"x\":[4.1,3.9,4.7,4.5,4.3,4.4,3.8,4.1,4.4,4.7,4.4,4.4,4.2,4.6,4.4,3.2,4.7,4.5,4.3,4.6,4.0,4.1,4.7,4.7,4.8,4.7,4.1,3.9,4.1,4.2,4.1,4.5,4.2,4.7,3.8,4.7,4.1,4.7,4.0,4.2,4.5,4.4,3.8,4.2,4.7,4.6,4.2,4.3,4.2,4.0,3.8,4.6,3.9,4.3,4.9,4.4,4.2,4.0,3.9,4.6,4.9,4.3,4.6,4.9,3.9,4.0,4.3,3.9,4.2,4.8,3.6,4.2,4.8,4.8,4.6,4.5,4.3,4.5,4.9,3.9,4.4,4.0,4.3,3.7,4.4,4.3,3.2,4.6,4.6,4.5,3.7,4.6,4.6,4.6,4.0,4.4,4.0,4.7,4.9,4.7,3.9,3.9,4.2,4.6,4.3,4.7,4.7,4.8,4.2,4.3,4.5,4.1,4.2,4.5,4.4,4.0,4.1,4.1,4.4,4.6,4.5,3.9,4.4,4.6,3.8,4.0,4.3,4.5,4.1,3.7,4.7,4.2,4.6,4.5,4.6,4.4,4.2,4.5,4.5,4.5,4.5,4.4,4.5,4.6,4.8,3.9,4.6,4.2,4.1,4.7,4.2,4.3,3.3,4.6,4.8,4.7,4.1,4.6,4.1,4.6,4.7,4.5,3.9,4.4,4.3,4.2,4.5,4.4,3.4,4.9,4.6,4.4,4.4,4.4,4.4,3.5,4.4,4.1,4.3,4.4,4.3,4.3,4.1,4.4,4.3,3.9,4.8,4.5,4.4,4.0,4.3,4.0,4.2,4.5,4.2,4.2,4.6,4.1,4.6,3.1,3.9,4.3,4.1,4.4,4.1,4.1,4.5,4.4,4.4,4.3,4.4,4.6,4.2,4.4,4.7,3.8,3.9,4.3,4.4,4.7,4.5,4.2,4.7,4.8,4.2,4.3,4.4,4.1,3.8,4.3,3.8,3.5,4.1,4.6,4.3,4.5,4.1,4.5,4.6,4.0,4.2,4.4,4.0,4.2,4.2,4.1,3.8,3.9,3.9,4.5,4.5,4.6,4.7,4.7,4.8,3.9,4.1,4.4,4.6,4.5,4.7,4.4,4.5,3.9,3.2,3.2,4.1,4.5,4.2,4.2,3.7,4.5,4.6,4.5,4.7,4.4,3.5,3.3,4.5,4.4,4.2,5.0,4.4,4.7,4.4,4.4,4.6,4.0,4.4,4.3,4.3,4.4,4.3,4.0,4.3,4.3,4.4,4.3,4.3,4.3,4.3,4.3,4.0,4.5,4.3,3.7,4.5,3.9,4.4,3.6,4.4,4.2,4.4,4.1,4.4,4.3,4.2,4.2,4.4,4.4,3.9,4.2,4.4,4.6,4.3,4.3,4.4,3.7,4.3,3.9,4.5,3.7,4.3,4.0,4.1,4.2,4.2,4.1,4.4,4.1,4.3,4.3,4.5,4.3,4.2,4.2,4.5,4.3,4.3,4.3,4.2,4.6,4.2,4.5,4.1,4.2,4.1,4.3,4.1,4.2,4.0,4.2,4.2,4.3,4.4,4.2,4.4,4.2,4.8,4.4,4.4,4.4,4.0,4.5,4.4,4.1,4.2,4.5,4.3,4.5,4.0,4.2,4.5,4.6,4.1,4.0,4.2,4.6,4.1,4.3,4.2,4.3,4.1,4.6,4.2,2.6,3.5,4.0,4.1,3.7,4.1,4.2,4.5,4.4,4.2,4.0,4.1,3.1,4.4,4.2,4.1,3.9,4.3,4.4,3.5,4.0,3.3,4.5,4.4,4.1,3.9,3.9,3.6,4.0,3.6,3.4,4.2,4.1,3.4,3.0,4.6,4.1,3.9,1.9,3.5,2.5,3.9,3.4,3.5,4.4,3.8,4.2,2.5,2.8,4.1,4.2,3.5,4.3,3.3,4.1,4.2,3.5,4.2,4.4,4.1,4.2,4.3,3.0,4.0,3.3,4.1,3.7,4.0,4.0,4.1,3.3,4.4,4.3,3.4,4.0,3.6,4.2,3.5,4.0,4.1,4.4,4.2,4.1,4.2,3.9,4.1,3.9,4.0,4.2,4.5,3.9,3.6,4.4,3.5,4.4,4.8,4.6,4.7,4.8,2.7,5.0,4.8,5.0,4.8,4.9,3.0,4.7,1.0,5.0,4.7,5.0,5.0,3.0,4.1,5.0,3.7,4.5,4.2,4.3,4.4,3.4,4.7,4.8,4.7,3.5,4.7,3.8,2.9,4.7,4.6,4.7,4.6,4.7,4.5,4.7,4.8,4.6,4.6,4.6,4.2,4.9,3.8,4.2,4.4,4.4,4.3,4.5,4.4,4.6,3.9,4.4,4.3,4.4,4.2,4.4,4.0,4.2,3.8,4.5,4.7,4.5,4.3,4.2,4.3,4.7,4.7,4.6,4.5,4.4,4.6,4.5,4.5,4.4,4.4,4.2,4.5,4.1,4.0,4.1,4.3,4.3,4.3,4.6,4.1,4.6,4.7,4.7,4.3,4.7,4.6,4.6,4.6,4.3,4.2,4.0,4.5,4.2,4.1,4.4,4.0,4.5,4.4,4.0,4.2,4.3,4.2,4.5,4.2,4.6,4.2,4.7,4.4,4.4,4.0,4.6,4.4,4.3,4.1,4.2,4.3,4.3,4.3,4.0,4.2,4.0,4.0,3.8,4.1,3.9,4.1,4.5,4.4,4.0,4.4,4.5,4.3,4.5,4.2,3.5,4.8,4.4,4.1,4.9,4.7,4.7,4.7,4.4,4.0,4.2,4.3,4.5,3.5,4.2,3.1,4.6,4.2,4.3,4.3,4.1,3.8,3.4,4.3,4.4,4.4,4.0,3.7,3.9,4.5,4.4,4.3,4.2,4.2,4.5,4.7,4.5,4.5,3.4,4.2,4.3,4.2,4.6,4.1,4.2,4.2,4.3,4.4,3.9,4.1,4.3,4.6,3.6,4.3,4.3,4.1,4.1,4.2,3.9,4.2,3.7,4.5,3.7,3.8,4.3,3.0,4.1,4.2,4.1,3.9,4.0,4.4,4.2,4.0,3.9,4.0,4.2,4.0,4.3,3.9,4.5,4.1,4.5,3.6,3.8,3.7,3.8,3.7,4.1,3.7,3.9,3.9,3.9,4.1,3.9,4.2,4.3,4.6,4.3,4.6,4.5,4.6,3.9,4.2,4.4,4.2,4.3,4.6,4.3,4.5,4.0,4.0,4.5,4.5,4.0,4.0,4.2,4.4,4.6,4.6,4.1,4.6,4.4,4.6,4.9,4.5,4.6,4.7,4.3,4.2,4.3,5.0,4.4,5.0,4.5,4.5,4.8,4.4,5.0,3.7,4.1,4.8,4.6,4.4,4.4,3.6,3.7,3.8,4.2,4.2,4.2,3.3,3.4,4.3,4.2,4.7,4.1,4.7,4.0,3.6,4.0,3.6,4.3,4.2,4.2,4.1,4.0,4.1,4.4,4.7,4.5,4.3,4.6,4.3,4.0,4.5,4.5,3.6,4.2,4.1,3.5,4.4,4.0,4.5,4.2,4.6,4.2,4.8,4.5,4.2,4.3,4.4,4.4,4.6,4.6,4.6,4.4,4.3,4.2,4.2,3.8,4.5,4.6,4.6,4.7,4.6,4.6,3.8,4.3,4.3,4.5,4.6,4.6,4.7,4.5,4.4,3.9,4.5,4.6,4.1,4.5,4.4,4.5,4.6,4.2,4.4,4.1,3.9,4.5,3.7,4.1,4.4,4.6,4.3,4.3,4.4,4.3,4.4,4.1,4.4,4.2,4.3,4.3,3.9,4.1,4.1,4.2,4.5,4.7,4.4,4.6,4.6,4.3,4.0,4.4,4.6,4.2,4.1,3.6,4.1,4.6,4.7,4.7,4.7,4.7,4.1,3.4,3.8,3.7,4.2,3.1,3.5,4.7,4.5,4.2,4.3,4.0,4.5,4.6,4.7,4.1,4.3,3.8,4.4,4.3,4.2,4.3,3.8,4.3,3.7,4.5,3.6,4.8,3.3,4.7,4.6,4.6,3.4,4.6,4.0,4.1,4.5,4.4,4.5,4.0,4.1,4.5,4.6,4.1,4.5,4.6,4.5,4.3,3.6,4.4,4.6,4.1,4.3,3.9,4.1,4.3,4.7,4.6,4.4,4.2,4.5,4.2,4.5,4.5,4.3,4.0,4.8,4.0,4.9,4.8,4.9,4.8,4.4,3.3,4.7,4.6,4.8,4.8,4.8,4.5,4.4,4.5,4.5,4.5,4.8,3.9,4.6,4.5,4.5,4.7,4.7,4.4,4.2,3.9,4.2,4.4,4.6,4.6,4.2,4.5,4.7,4.5,4.5,3.7,4.5,4.6,4.6,4.7,4.5,4.5,4.6,4.0,4.3,4.4,4.5,4.2,4.6,4.9,4.5,4.6,4.5,4.6,4.6,4.5,4.5,4.4,3.9,4.6,4.4,4.5,4.5,4.4,4.4,4.4,4.2,4.5,4.5,4.4,4.3,4.6,4.6,4.9,4.4,4.3,4.1,4.6,4.8,4.5,4.7,4.6,4.3,4.6,4.3,4.6,4.6,4.5,4.6,4.6,4.5,4.1,4.5,4.6,4.5,4.8,4.8,4.5,4.1,4.4,4.2,4.5,4.3,4.6,4.0,4.6,4.6,4.4,4.7,4.4,4.4,4.4,4.5,4.0,4.6,4.1,4.0,4.4,4.4,4.1,3.5,4.3,4.5,4.2,4.5,4.1,4.5,3.7,4.3,4.5,4.6,4.7,4.6,4.0,4.4,4.8,4.2,4.1,4.4,4.3,4.5,4.8,4.2,4.5,4.1,4.1,4.0,4.3,4.5,4.6,3.7,3.7,4.2,4.5,4.3,3.9,4.6,4.3,4.4,4.6,4.5,3.8,4.4,4.7,3.4,4.3,4.3,4.0,4.0,3.8,4.3,3.6,3.8,4.5,4.6,4.5,4.7,4.3,3.7,4.2,3.4,3.9,4.0,4.0,4.0,4.0,4.1,3.9,4.4,4.4,4.3,4.1,3.9,4.4,4.6,4.1,3.8,4.6,3.5,4.7,4.3,4.5,4.4,3.4,4.3,4.3,4.6,4.6,4.2,4.6,4.4,3.9,4.5,3.8,4.3,3.7,5.0,3.2,4.5,4.7,4.0,4.1,3.8,4.7,4.5,4.2,4.1,3.1,4.1,4.1,4.3,4.0,4.6,4.4,4.4,4.3,4.6,3.2,4.5,4.6,4.6,4.3,3.0,4.4,4.4,4.3,3.5,4.3,4.5,3.7,4.5,4.2,4.3,4.6,4.5,3.9,4.3,3.3,4.7,4.2,3.2,4.4,3.5,3.7,3.8,3.8,3.7,4.6,4.0,3.6,3.8,4.1,4.7,3.9,4.1,4.6,4.2,4.6,4.2,4.4,4.6,4.1,3.9,4.0,4.1,4.1,4.1,4.1,4.4,4.3,4.4,4.2,4.4,4.3,4.1,4.0,4.2,4.1,3.9,4.4,4.6,4.5,4.5,4.8,4.4,4.5,4.5,4.6,4.5,4.5,4.5,4.4,4.7,4.5,4.2,4.4,4.6,4.3,4.3,4.2,4.6,4.4,4.4,4.5,4.4,4.3,4.6,4.3,4.2,4.2,4.5,4.5,4.5,4.7,4.7,4.5,4.4,4.3,3.8,4.6,4.6,4.4,4.3,4.1,4.3,4.4,4.6,4.3,4.4,4.7,4.5,4.4,4.6,4.5,4.4,4.6,4.5,4.7,4.6,4.7,4.5,4.8,4.5,4.7,4.5,4.3,4.5,4.5,4.6,4.7,4.6,4.4,4.5,4.6,4.5,4.5,4.4,4.2,4.5,4.7,4.1,4.4,4.2,4.4,4.7,4.3,4.7,4.2,4.3,4.4,4.1,4.1,4.2,4.7,4.6,4.5,3.1,4.1,3.4,4.4,4.3,4.6,4.4,4.3,4.6,4.2,4.5,4.2,4.5,4.4,4.6,4.5,4.3,4.6,4.4,4.4,4.5,4.6,4.6,4.6,4.1,4.5,4.6,4.4,4.7,4.6,4.3,4.5,4.6,4.2,4.5,4.8,4.1,4.3,4.4,4.0,4.2,4.0,4.2,4.5,4.7,4.2,4.4,4.6,4.9,4.4,4.5,4.6,4.2,4.5,4.6,4.6,4.6,4.3,4.6,4.3,4.3,4.6,4.5,4.2,4.7,4.3,4.0,4.4,4.3,4.6,4.7,4.4,4.4,4.3,4.2,4.5,4.5,4.5,4.6,4.3,4.5,4.4,4.6,4.5,4.5,4.6,4.6,4.3,4.5,4.7,4.5,4.7,4.7,4.6,4.4,4.3,4.5,4.3,4.4,4.2,4.4,4.7,4.2,4.1,4.5,4.5,4.5,4.1,4.3,4.5,4.4,4.5,4.6,4.0,4.3,4.5,4.6,4.5,4.5,4.4,4.7,4.4,4.4,4.6,4.2,4.6,4.6,4.6,4.3,4.6,4.4,4.3,4.7,4.4,4.4,4.5,4.6,4.5,4.3,4.7,4.5,4.5,4.4,4.3,4.6,4.2,4.5,4.3,4.5,4.4,4.4,4.8,4.4,4.3,4.6,4.5,4.5,4.5,4.0,4.6,4.5,4.5,4.4,4.5,4.5,4.2,4.3,4.5,4.2,4.3,4.4,4.6,4.5,4.2,4.5,4.6,4.6,4.1,4.5,4.6,4.6,4.5,4.3,3.8,4.5,4.1,4.8,3.9,4.5,4.4,4.3,4.2,3.0,4.1,4.5,4.6,4.3,4.3,4.5,4.2,4.2,4.4,4.5,4.1,4.2,4.1,4.7,4.3,4.4,4.4,4.3,4.3,4.2,4.2,4.3,4.3,4.1,4.2,4.5,4.3,4.5,4.1,4.2,4.4,4.0,4.1,4.4,4.1,4.0,4.3,4.6,4.3,4.7,4.3,4.4,4.2,4.7,3.9,4.1,4.1,4.1,4.2,4.4,4.3,4.5,4.3,4.3,4.1,4.1,4.1,4.6,4.1,4.4,4.4,4.3,4.0,4.8,3.8,4.7,4.5,4.8,4.4,4.8,4.2,4.2,4.0,4.7,4.7,3.9,4.5,4.1,4.4,3.9,4.4,3.6,4.4,4.1,3.6,4.6,4.3,4.5,4.4,4.1,3.9,4.1,3.9,4.2,3.8,4.3,3.9,4.0,4.0,4.0,4.3,4.3,4.2,4.3,4.2,4.6,4.1,4.5,4.5,4.3,4.2,4.4,4.6,4.5,4.8,4.5,3.2,4.6,4.5,4.1,4.6,4.5,4.4,4.4,4.4,3.8,4.6,2.5,4.0,5.0,4.3,3.4,3.4,4.3,4.4,4.4,4.2,5.0,4.1,3.9,4.6,4.2,4.4,4.2,3.6,4.5,4.7,4.6,4.5,4.2,4.2,4.3,4.4,4.1,4.4,4.6,4.4,4.2,4.5,2.6,4.6,4.8,4.2,4.7,3.0,3.5,4.6,4.8,4.2,4.6,4.4,4.8,4.0,3.7,4.2,4.8,4.7,3.5,3.9,4.2,4.8,2.7,4.2,4.7,4.6,4.5,4.7,4.7,4.5,4.7,4.0,3.4,3.5,3.0,4.7,4.6,4.2,4.8,4.5,4.2,3.8,3.0,4.4,4.5,4.0,3.6,4.4,4.7,3.6,4.5,4.1,4.6,4.7,4.7,2.8,4.3,4.6,4.3,3.4,4.0,4.8,4.2,3.0,4.5,3.7,4.5,4.5,3.6,4.4,4.4,4.5,4.1,4.6,4.3,4.3,4.7,4.5,4.2,4.4,3.9,4.2,4.1,4.1,3.5,4.2,4.0,4.3,4.3,2.3,4.5,4.3,3.1,4.4,2.9,3.1,3.7,4.0,3.8,4.4,4.3,3.7,5.0,3.0,3.7,3.7,5.0,5.0,5.0,5.0,5.0,5.0,5.0,5.0,5.0,4.3,4.9,5.0,4.9,4.6,5.0,4.0,5.0,2.6,4.3,4.7,2.5,4.5,4.3,4.4,4.5,3.8,4.0,4.5,3.7,4.3,4.4,3.8,4.3,3.8,5.0,3.6,4.0,4.3,4.7,5.0,4.7,4.6,3.1,4.4,5.0,3.6,2.8,4.4,4.6,4.2,3.8,3.5,4.1,4.5,4.3,4.4,4.4,4.2,4.0,4.3,4.6,4.4,4.2,4.4,4.4,4.3,4.6,4.4,4.5,4.6,4.6,4.6,4.4,4.5,4.5,4.3,4.4,4.6,4.3,4.8,4.2,4.6,4.0,4.6,4.3,3.6,4.0,4.5,4.4,4.5,4.2,4.5,4.3,4.2,4.2,4.3,4.3,4.1,4.5,4.3,4.2,4.1,4.3,4.2,4.1,4.1,3.7,3.9,3.7,3.6,4.1,4.1,4.1,4.3,4.3,4.2,4.5,4.1,3.8,4.4,4.0,4.2,4.0,4.4,4.0,4.4,4.1,4.3,4.0,4.4,4.2,4.0,4.5,4.6,4.3,4.2,4.3,4.6,4.4,4.4,4.5,4.3,4.2,4.2,4.4,4.6,4.2,3.6,4.5,4.4,3.8,4.7,3.6,4.2,3.6,4.3,4.4,4.5,4.1,4.3,4.3,4.7,4.3,4.2,4.2,4.3,4.2,4.3,4.6,4.4,4.3,3.8,4.6,4.5,4.1,4.4,4.3,3.8,4.0,3.3,4.1,4.1,4.2,4.1,4.4,4.1,4.2,4.5,4.3,4.1,4.5,4.4,4.6,4.5,4.6,4.7,4.3,4.4,4.4,4.7,4.1,4.2,4.5,4.2,4.3,4.1,4.6,4.2,4.2,4.2,4.2,4.0,4.4,4.0,4.5,3.9,4.5,4.2,4.3,4.4,4.5,4.6,4.3,4.7,4.4,4.0,4.5,4.1,4.4,4.5,4.4,4.3,3.8,4.5,4.1,4.6,4.8,4.0,4.7,4.7,4.1,4.5,3.6,4.5,4.7,4.7,4.5,4.2,4.5,4.4,4.5,4.5,4.4,3.7,4.3,4.5,4.4,3.3,4.3,4.4,4.5,4.4,4.2,4.5,4.7,4.5,4.6,4.6,4.4,4.3,4.3,4.6,4.4,4.5,4.5,4.2,4.0,4.4,4.7,4.3,4.6,4.4,4.5,4.3,4.3,4.4,4.4,4.6,4.3,4.2,4.3,3.9,4.3,4.4,4.2,4.3,4.3,4.3,4.1,4.4,4.3,4.0,4.0,4.0,4.4,4.3,4.1,4.2,3.9,4.4,4.4,4.1,4.0,4.3,4.2,4.0,4.1,4.1,4.0,4.3,4.5,4.0,4.4,4.1,4.3,4.3,4.2,4.3,4.4,3.8,4.4,4.4,4.6,4.0,4.2,4.6,4.1,4.2,4.6,4.6,4.4,4.7,4.4,4.3,4.5,4.2,3.8,4.4,4.6,4.2,4.5,4.5,4.2,4.1,4.3,4.0,4.3,4.5,4.2,4.3,4.4,4.2,4.1,4.4,4.7,4.6,4.2,4.3,4.3,4.5,4.6,4.5,4.4,4.7,4.2,4.3,4.2,3.9,3.9,4.2,4.3,4.6,4.3,4.0,4.0,4.0,4.6,4.3,4.2,4.3,4.4,4.0,4.6,4.7,4.3,4.0,4.5,4.7,4.4,4.8,3.3,4.3,3.9,4.4,3.9,4.4,4.4,4.1,4.0,3.1,2.9,4.0,4.5,4.3,4.1,4.3,4.5,4.6,4.4,4.2,4.3,3.4,4.6,4.2,4.0,4.1,4.0,4.6,4.5,4.4,3.5,4.0,4.8,4.1,4.6,4.3,4.6,4.5,4.3,4.5,4.0,4.6,4.1,3.5,4.5,3.9,4.6,4.6,4.5,4.5,4.4,4.0,4.2,4.2,4.5,4.1,4.2,4.4,4.4,4.1,4.3,4.5,4.5,4.4,4.5,4.7,4.4,4.1,4.4,4.4,4.3,4.0,4.7,4.3,4.6,3.9,3.6,4.0,4.1,4.2,3.9,4.3,3.1,3.7,3.4,4.4,3.6,3.3,3.7,3.0,3.6,4.8,3.9,3.8,4.3,4.5,3.4,3.7,4.4,4.1,4.5,4.0,3.9,4.4,4.8,4.3,3.7,4.2,3.5,4.3,4.7,4.3,4.1,3.1,4.3,4.1,4.2,4.3,4.3,4.3,4.6,4.4,4.2,4.2,4.4,4.4,4.4,4.4,4.4,3.7,4.4,3.6,4.4,4.0,4.1,4.4,4.4,4.3,4.2,4.3,4.3,4.2,4.4,4.1,4.6,4.4,4.1,4.5,4.5,4.2,4.2,4.2,4.5,4.7,4.0,4.2,4.1,4.4,4.4,4.2,4.2,4.1,4.5,4.6,4.1,4.2,4.1,4.0,4.6,3.1,4.6,4.5,3.2,4.3,4.6,4.4,4.6,4.5,4.6,4.4,4.2,4.4,3.1,3.6,4.1,4.2,3.5,3.9,3.0,3.9,4.5,3.4,4.4,3.4,4.3,3.7,3.5,3.8,3.6,3.1,3.8,4.2,4.0,4.3,4.3,4.5,4.5,4.5,4.4,4.4,4.3,4.2,4.7,4.4,4.3,4.4,4.3,4.5,4.7,4.5,4.6,4.7,4.6,4.8,3.9,4.5,4.6,4.5,4.4,4.5,4.0,4.3,4.0,4.4,4.1,4.3,4.1,4.3,4.2,4.2,4.2,4.2,4.3,4.5,4.4,4.5,4.1,4.4,4.5,4.3,4.4,4.1,4.4,4.2,4.1,4.6,4.5,4.3,4.1,4.1,4.2,4.1,4.6,4.5,4.0,3.5,4.4,4.4,4.4,4.1,4.2,4.6,4.4,4.6,4.6,4.5,4.7,4.4,4.5,4.6,4.6,4.0,4.6,4.5,4.7,4.7,4.4,4.3,4.7,4.1,4.7,4.4,4.6,4.5,4.4,4.4,4.3,4.3,4.6,4.7,4.3,4.5,4.6,4.4,4.5,4.7,4.3,3.7,4.7,4.5,4.4,4.3,4.8,4.6,4.1,4.7,4.1,4.2,4.3,4.2,4.0,4.2,3.9,4.3,4.1,4.2,4.4,4.3,4.3,4.4,4.3,4.1,4.2,4.1,4.1,4.2,4.1,4.4,4.1,4.3,4.6,4.1,4.6,4.2,4.1,4.2,4.5,4.3,4.2,4.0,4.2,4.2,4.4,4.4,4.3,4.3,4.6,4.5,4.1,4.3,4.4,4.2,4.2,4.1,4.5,4.7,4.3,4.4,4.4,3.8,4.4,4.3,4.2,4.5,3.2,4.5,4.2,4.4,4.7,4.4,4.0,4.4,4.0,4.6,4.5,4.2,4.0,4.4,4.5,3.9,4.2,4.3,4.2,4.2,4.4,4.7,4.6,3.1,4.4,4.1,4.5,4.6,4.3,3.9,4.5,4.3,3.7,4.5,4.4,4.0,4.0,4.4,4.7,4.6,4.2,4.5,4.6,4.0,4.5,4.4,4.3,4.5,4.5,4.4,4.6,4.3,4.5,4.3,4.1,4.2,4.2,4.6,4.2,4.3,4.3,4.5,4.2,4.6,4.4,4.3,4.6,4.2,4.2,4.2,4.0,4.3,4.6,4.3,4.0,4.2,4.2,4.5,4.2,4.4,4.6,4.3,4.6,4.4,4.6,4.6,4.1,4.4,4.1,4.3,4.1,4.1,4.5,3.9,3.8,4.6,4.7,4.0,4.7,4.1,3.7,4.1,3.7,4.6,4.4,4.6,4.1,4.4,4.7,4.4,4.8,4.0,4.9,4.8,4.4,4.7,4.2,4.6,4.6,4.5,4.6,4.1,3.8,4.8,4.8,4.5,4.0,4.4,4.7,3.9,4.4,4.4,4.5,4.4,4.8,4.4,4.8,4.5,4.7,4.5,3.5,4.4,4.3,4.4,4.2,4.6,4.4,4.4,3.9,4.3,4.5,4.2,3.7,4.2,3.9,3.6,4.5,4.3,4.3,4.2,4.6,4.5,4.5,4.2,3.9,4.8,3.8,4.5,4.5,4.2,4.0,4.2,4.3,4.3,4.2,4.3,3.6,3.9,4.8,3.9,3.7,4.6,4.4,4.4,4.2,4.1,3.8,4.4,4.5,4.6,4.7,4.3,4.5,4.3,3.7,3.9,3.6,4.5,4.4,3.8,4.6,4.2,4.3,3.8,4.4,3.1,4.6,4.1,4.5,4.0,4.5,4.3,3.7,3.9,3.5,3.3,4.3,4.4,4.4,4.5,4.4,4.3,4.5,4.3,4.6,4.1,4.2,3.5,4.0,3.8,4.3,4.3,4.1,4.3,4.5,4.4,4.0,4.1,4.6,4.3,3.9,4.5,4.7,4.3,4.5,3.1,4.7,3.8,4.0,4.2,4.0,4.2,3.4,4.6,4.5,4.0,4.4,4.2,4.1,4.4,4.0,3.7,4.6,4.5,4.6,4.5,3.9,4.3,4.4,4.3,4.4,3.6,4.5,3.6,4.1,4.4,4.1,4.2,4.7,3.9,3.9,4.4,4.6,4.0,4.3,4.2,4.3,4.0,4.1,4.6,4.5,4.2,4.3,4.2,4.2,4.0,4.2,4.3,3.9,4.0,4.5,4.1,4.5,4.6,4.2,4.1,4.4,4.4,4.2,4.5,4.2,4.4,4.4,4.0,4.3,4.4,4.2,4.3,4.1,4.4,4.3,4.4,4.2,4.7,4.3,4.5,3.7,4.3,4.2,4.1,4.5,4.8,4.3,4.7,4.3,4.2,3.7,4.6,4.5,4.3,4.5,4.2,4.2,4.3,4.3,4.4,3.7,4.4,4.4,4.2,3.5,4.2,4.2,4.2,3.9,4.3,3.7,4.3,4.3,4.6,4.6,3.9,4.6,4.1,4.8,4.3,4.4,3.3,4.2,3.8,3.7,4.5,4.1,4.4,3.7,4.8,4.3,4.1,4.5,4.4,4.3,3.8,4.5,3.7,4.5,4.6,4.3,4.4,4.3,4.3,4.4,4.2,4.9,4.6,4.6,3.4,3.8,4.7,4.6,3.8,4.4,3.9,4.1,4.5,3.7,4.4,3.8,3.1,5.0,4.4,4.3,2.9,3.1,3.3,4.1,4.4,4.5,4.3,4.3,2.2,4.2,4.5,3.9,4.1,3.3,4.5,4.1,4.8,4.1,4.5,4.5,4.3,4.4,4.7,4.4,4.2,4.2,4.5,4.6,4.7,4.8,4.7,4.7,1.7,4.5,4.0,3.6,2.0,4.7,4.1,4.3,4.3,4.5,4.4,4.6,3.7,4.5,4.0,4.8,4.0,4.7,4.8,4.6,4.3,4.2,4.8,4.2,4.2,4.5,4.6,4.5,4.3,4.8,4.2,4.4,4.5,4.2,4.6,4.6,4.5,4.5,4.5,4.4,4.1,4.6,4.5,4.5,4.3,4.3,3.3,3.7,4.5,4.4,3.1,4.0,3.9,4.4,4.8,3.6,3.4,4.7,4.4,4.4,4.5,4.3,4.5,4.0,4.3,4.5,4.0,4.2,4.3,4.6,4.4,4.3,4.2,4.3,4.3,4.6,3.6,4.2,4.2,4.4,4.3,4.9,4.5,4.2,3.8,4.2,1.0,4.4,4.0,4.4,4.4,4.5,3.4,3.8,3.7,4.1,4.4,4.2,4.5,4.3,4.2,3.6,4.4,4.6,4.5,4.4,4.2,4.3,1.8,3.8,4.4,3.0,3.4,4.6,3.7,3.0,4.6,3.1,4.3,4.3,3.8,4.5,3.6,4.2,4.5,4.2,3.3,4.3,4.2,3.8,2.9,4.5,4.3,4.9,4.4,4.4,4.4,2.9,4.2,4.0,4.3,4.3,3.9,4.0,4.6,3.7,4.0,4.6,4.4,4.5,3.0,3.1,4.5,4.5,4.5,4.1,4.6,4.2,3.9,3.9,3.9,4.2,3.7,2.8,4.1,4.4,2.7,4.7,4.2,4.4,4.0,4.0,4.7,4.3,4.4,4.0,4.3,4.2,4.6,3.3,2.3,4.2,4.1,3.2,3.5,4.6,4.1,4.1,4.1,4.7,3.5,3.9,4.1,4.7,4.6,4.5,4.7,4.9,4.3,4.1,4.4,4.2,4.1,4.6,4.3,4.4,4.5,4.6,4.8,4.3,4.8,4.8,3.7,4.1,3.7,4.2,4.5,4.6,4.9,4.4,4.6,4.0,4.8,4.3,4.4,4.2,4.6,4.8,4.0,4.3,4.7,4.3,4.0,4.0,4.0,4.1,4.6,3.1,4.9,4.5,4.0,4.0,3.6,4.5,4.2,4.3,3.9,4.3,4.3,4.4,4.3,4.4,4.3,4.4,3.5,4.4,4.4,4.5,4.4,4.4,3.9,3.9,4.3,4.9,3.7,3.3,3.8,3.5,4.2,3.5,3.6,3.9,4.2,4.2,4.0,3.2,2.4,4.5,4.1,4.2,3.7,4.3,4.2,4.1,3.9,3.8,4.4,3.4,4.0,4.4,3.3,4.8,4.5,3.4,4.3,4.3,4.1,4.0,4.4,3.8,4.4,3.8,4.2,3.8,4.8,4.7,4.3,3.5,3.9,4.2,4.6,4.7,4.5,3.8,4.5,3.7,3.5,4.1,3.9,4.1,4.6,4.4,4.6,4.0,4.4,4.4,4.4,4.0,3.8,3.9,3.7,4.2,4.1,4.3,4.3,4.1,4.4,3.8,4.3,3.8,4.5,3.8,3.9,4.0,4.3,4.4,4.6,5.0,4.4,4.4,4.2,4.0,4.2,4.6,4.1,3.9,4.6,4.4,3.9,4.6,4.5,3.0,3.6,4.4,4.6,4.3,5.0,4.5,4.1,4.1,4.5,4.8,4.5,4.0,4.8,3.7,4.5,4.7,2.7,2.9,4.2,4.4,4.2,3.4,2.6,4.1,4.3,4.2,4.4,4.0,4.4,4.1,4.8,2.2,3.8,3.1,3.1,3.8,3.8,4.3,3.6,4.0,4.4,4.6,4.5,1.8,4.7,3.9,4.4,3.6,4.4,3.9,3.9,3.8,4.2,4.1,4.4,4.4,5.0,4.1,4.5,4.3,3.9,3.5,3.2,3.3,4.8,4.5,3.7,4.8,4.7,4.3,3.8,4.1,4.7,4.2,4.2,4.6,4.6,4.2,4.1,3.5,4.1,4.4,4.5,4.1,4.5,4.3,4.4,4.3,4.3,3.8,3.9,4.1,4.8,4.0,4.3,4.0,3.7,3.3,4.1,3.0,4.1,3.0,3.8,4.0,4.6,4.1,3.6,4.7,3.5,3.1,3.9,4.2,4.4,4.4,3.3,4.8,4.2,4.5,3.8,4.1,4.2,4.2,4.0,4.2,3.8,4.5,3.7,4.3,4.5,4.1,4.2,4.5,4.0,4.3,4.7,4.1,3.2,3.9,4.1,3.4,3.0,4.6,4.6,4.1,3.1,3.4,4.2,4.2,3.0,2.4,4.1,2.9,4.0,4.0,3.8,2.4,4.4,3.7,4.3,4.6,4.2,4.8,3.6,3.2,4.0,3.5,4.4,2.5,3.9,4.4,4.2,4.2,4.3,4.1,4.2,4.2,3.9,3.9,3.8,4.5,4.2,3.7,4.3,4.6,3.3,3.6,4.1,3.8,3.3,4.5,4.8,4.6,4.3,4.5,4.2,3.8,4.7,4.2,4.3,4.7,4.7,3.6,4.2,4.0,4.3,4.7,4.6,4.8,3.8,4.2,3.2,4.3,4.3,4.4,1.9,2.5,4.2,4.3,4.0,4.5,4.8,4.2,4.7,4.4,4.4,4.4,4.6,4.6,4.2,4.0,4.2,4.5,4.7,4.2,4.4,3.2,4.1,4.0,4.7,4.6,4.6,4.7,4.8,4.6,4.2,4.3,3.3,4.7,4.5,4.0,4.5,4.2,4.6,4.2,4.7,4.7,4.2,4.3,4.3,4.5,4.4,4.5,4.6,4.3,3.8,4.5,4.5,3.9,4.0,2.7,4.5,4.0,2.9,4.6,4.4,4.6,4.4,4.4,4.2,4.8,4.3,4.6,4.6,4.1,4.4,4.5,4.4,4.2,4.5,4.6,4.5,4.6,4.0,4.5,4.2,3.9,4.7,4.5,4.3,4.2,3.9,4.1,2.2,4.2,4.2,2.8,3.9,4.3,4.8,4.3,4.1,4.2,4.4,4.1,4.6,4.3,4.3,3.8,4.8,3.8,3.9,4.3,4.3,4.3,4.1,4.2,4.5,4.6,3.8,4.7,4.5,4.7,4.5,4.8,4.6,4.3,4.8,3.4,4.6,4.5,4.4,4.4,4.6,4.2,4.3,4.3,3.8,3.9,4.3,4.8,4.2,4.5,4.8,4.6,4.2,4.2,4.0,4.3,4.8,4.1,4.7,4.8,4.0,3.5,3.8,3.5,3.3,3.7,3.3,3.4,1.8,1.6,1.9,3.6,3.4,3.2,2.5,4.7,2.6,2.8,3.9,4.2,3.9,4.0,3.5,3.1,3.7,3.6,3.4,4.0,3.7,1.7,2.4,4.3,3.3,4.1,4.1,3.4,3.0,3.0,2.2,3.7,3.7,4.8,3.7,3.6,3.7,4.4,3.8,3.7,3.7,4.8,4.2,4.1,4.1,4.3,3.9,3.8,4.0,4.5,4.6,4.1,4.4,3.7,3.9,3.9,4.5,4.5,4.4,4.3,4.5,4.7,4.7,4.1,3.3,4.2,4.1,3.4,4.3,4.9,4.5,4.1,4.4,4.4,3.4,4.1,4.1,3.5,3.8,4.6,5.0,4.2,3.9,3.7,4.3,1.9,4.2,4.2,4.0,4.4,4.2,4.5,4.3,4.4,4.0,4.2,4.3,4.0,4.3,3.9,4.0,3.7,4.1,3.9,4.2,4.4,4.5,3.9,3.9,4.2,4.5,4.1,4.7,4.4,4.7,4.7,4.0,3.9,3.8,3.9,4.4,4.5,3.8,3.5,4.2,4.7,2.0,4.3,2.8,3.9,3.4,4.5,4.7,2.0,4.4,4.7,3.3,4.1,4.2,4.4,3.7,3.9,5.0,4.1,4.8,4.0,4.1,3.8,4.6,4.3,4.1,4.1,4.4,4.2,4.1,4.3,4.3,4.0,4.5,4.1,3.8,4.5,4.1,3.9,3.7,4.5,4.4,3.4,2.3,4.7,3.4,4.7,5.0,3.6,5.0,4.3,5.0,4.1,4.1,4.5,3.4,2.9,4.6,5.0,3.9,3.9,5.0,4.1,5.0,3.0,4.0,1.0,4.0,4.0,3.8,3.5,2.6,3.4,4.5,3.4,3.8,3.0,4.4,4.0,3.9,4.6,3.8,3.8,4.0,3.6,4.4,3.1,4.2,4.6,4.0,5.0,3.3,4.1,3.6,3.2,4.4,4.0,4.4,4.5,4.3,4.7,4.4,4.4,4.4,3.7,3.3,3.7,3.0,2.6,3.5,3.9,4.6,3.8,4.4,4.5,4.5,4.7,4.4,5.0,2.8,4.6,2.8,5.0,5.0,2.8,3.8,4.1,4.8,5.0,5.0,4.4,5.0,4.1,4.8,4.8,4.0,5.0,4.6,5.0,4.5,5.0,4.4,4.0,3.9,4.1,4.8,4.3,3.9,4.5,3.7,4.3,4.2,3.7,3.8,4.6,3.3,3.0,3.9,3.9,4.1,4.6,4.4,3.8,4.4,4.9,3.6,4.3,3.6,4.1,3.4,4.5,4.7,4.5,4.4,4.3,4.6,4.2,4.8,4.6,4.8,4.6,4.6,4.6,4.1,4.7,4.7,4.8,3.6,4.7,4.6,4.5,4.7,4.5,4.3,4.5,4.8,4.7,4.7,4.7,4.7,4.7,4.7,4.7,4.6,4.7,4.7,4.6,3.8,3.9,4.0,3.8,4.1,2.9,3.8,3.5,4.2,4.6,4.4,4.4,4.1,3.9,3.6,4.0,3.8,4.3,4.6,3.6,3.9,4.0,4.2,4.2,4.2,4.5,4.7,3.5,4.5,4.6,4.2,4.1,4.5,4.2,4.5,4.4,3.7,4.4,4.3,4.3,4.5,3.8,4.5,4.5,4.4,4.7,3.5,4.9,4.0,4.1,4.2,4.4,4.1,4.6,4.6,4.7,4.5,4.4,4.4,4.2,4.4,4.0,4.2,4.2,4.2,4.8,3.7,3.4,4.3,4.3,4.6,4.2,4.6,4.1,4.6,4.3,4.4,4.7,4.2,3.8,4.3,3.7,4.3,2.9,4.3,4.3,4.0,3.3,4.1,5.0,3.9,4.6,4.0,3.6,4.0,4.5,2.9,4.2,4.5,4.6,4.7,4.2,4.7,4.7,3.9,4.7,3.7,4.8,4.0,4.6,4.4,4.7,3.6,4.4,4.6,2.9,4.5,5.0,3.7,3.7,4.2,3.0,5.0,4.4,4.7,4.3,3.9,4.4,4.3,4.6,4.5,3.9,4.7,5.0,5.0,5.0,2.7,4.6,4.4,4.1,3.8,4.4,4.6,4.1,4.5,4.2,4.7,4.3,4.3,4.2,3.8,4.0,4.6,4.3,4.3,4.3,4.7,4.4,3.8,4.6,4.6,4.5,4.5,3.8,4.3,4.3,3.7,3.2,4.0,3.8,4.4,3.8,3.4,2.9,4.5,3.7,3.8,4.1,4.1,3.7,3.6,3.0,4.1,3.8,4.2,4.4,4.5,3.6,3.6,3.7,3.9,4.2,4.1,4.5,2.8,2.6,4.3,4.4,4.1,4.0,4.3,3.9,3.5,3.7,4.3,4.3,4.1,4.2,4.3,4.3,4.1,4.4,4.4,4.4,4.3,2.4,4.5,4.5,4.5,4.4,4.6,3.4,3.9,4.3,4.4,4.5,4.4,4.0,4.3,4.2,4.0,4.4,4.6,4.0,4.4,3.5,4.6,4.0,4.0,4.1,4.1,3.3,3.9,4.1,4.2,4.0,4.5,3.8,3.5,4.3,4.6,4.7,3.8,4.7,4.8,3.2,4.5,3.9,3.6,3.7,4.4,4.1,4.0,3.1,4.0,2.8,3.7,2.7,3.9,3.6,4.5,3.5,4.0,3.8,3.6,4.2,4.4,4.0,4.7,4.1,4.0,4.7,3.8,5.0,4.4,4.0,3.8,4.1,4.3,4.5,4.4,3.4,4.1,4.1,3.8,4.3,4.4,4.4,3.3,3.3,4.4,3.7,3.4,2.3,3.3,2.7,4.6,3.5,3.4,4.3,4.1,4.7,4.4,3.8,3.0,4.4,4.2,4.5,3.5,4.5,4.5,4.5,4.0,4.8,4.3,1.7,4.3,4.2,4.2,4.3,4.0,4.2,4.6,4.1,4.6,4.1,4.0,3.3,4.1,4.0,4.4,4.2,3.8,3.1,5.0,4.2,4.7,4.4,4.6,4.4,2.9,2.7,4.6,4.0,4.8,5.0,3.9,4.2,4.1,4.7,4.2,4.2,3.7,4.1,4.1,3.8,4.6,4.4,4.2,4.4,4.6,5.0,4.5,3.5,3.9,4.4,3.0,3.1,4.4,3.0,3.7,3.7,3.9,4.8,4.6,4.6,4.5,4.3,5.0,4.3,4.7,4.0,3.8,5.0,4.8,4.5,4.3,3.7,4.3,3.8,4.5,4.6,4.1,4.2,5.0,3.3,3.6,4.0,4.0,4.0,4.2,4.3,4.2,4.5,4.3,4.6,4.4,4.2,4.2,4.2,3.4,3.2,4.0,4.6,3.2,4.4,4.0,4.7,3.7,3.9,4.2,4.1,3.5,4.8,4.3,3.9,3.5,4.3,4.4,4.8,3.9,3.8,4.2,4.0,4.0,4.4,4.7,4.5,4.3,4.3,4.1,2.1,3.7,4.4,4.2,2.1,2.4,4.1,3.1,5.0,3.5,4.2,4.7,4.8,4.5,4.6,4.6,4.9,4.8,4.0,3.9,4.1,4.1,4.5,4.2,4.0,4.4,1.9,3.7,4.2,4.0,4.3,2.5,4.4,4.7,4.6,4.4,4.3,4.4,3.6,3.8,4.4,4.4,3.0,3.7,5.0,4.2,4.8,4.4,4.1,4.7,4.7,3.3,4.0,1.0,4.4,4.2,4.4,4.6,4.3,4.4,3.7,2.9,4.0,3.3,4.2,4.5,2.3,5.0,3.6,3.9,4.4,4.2,4.8,4.3,4.2,4.4,4.3,4.0,1.4,3.3,4.3,4.6,4.7,4.2,3.9,3.4,4.3,4.8,4.8,4.5,3.3,4.2,4.9,4.2,4.6,4.1,4.6,4.0,4.2,5.0,4.1,3.7,4.1,3.8,4.7,3.5,4.0,4.2,3.3,3.7,3.4,3.7,5.0,4.4,5.0,4.8,4.4,4.9,4.0,4.4,4.5,4.9,4.4,5.0,4.8,4.6,4.3,3.8,4.3,4.3,4.1,4.5,4.2,3.8,4.3,4.4,4.2,4.2,3.8,4.2,4.0,4.2,4.3,4.3,4.4,4.1,4.5,4.2,4.3,4.4,4.5,4.3,4.0,3.4,4.4,3.8,3.0,4.1,4.4,4.1,4.1,4.1,4.5,4.1,2.2,3.9,4.0,4.3,3.9,4.0,4.2,4.2,3.6,4.3,4.4,2.6,4.1,3.5,4.2,3.7,4.5,2.4,2.9,4.2,4.2,4.0,2.6,4.4,4.8,4.7,4.4,4.6,2.7,3.8,1.7,4.6,3.3,4.6,2.3,4.5,4.8,5.0,4.1,4.9,3.0,4.8,4.5,3.4,4.0,3.7,2.2,4.8,5.0,4.5,4.3,3.8,4.5,4.5,4.8,4.5,4.4,3.9,4.3,4.3,4.0,4.1,3.7,3.4,4.5,4.4,4.4,2.4,4.1,4.6,4.3,4.3,4.7,4.2,4.3,4.3,4.7,4.2,4.1,4.6,4.7,4.3,4.5,4.6,2.9,4.0,3.0,3.9,4.8,3.9,4.0,5.0,4.0,5.0,4.5,4.8,4.6,4.2,3.4,2.6,2.4,4.6,3.3,4.1,4.6,3.9,4.0,3.4,4.5,4.0,5.0,3.6,3.5,4.6,4.9,3.7,5.0,4.0,3.9,5.0,4.0,4.9,4.4,3.6,4.7,4.3,3.9,4.5,4.6,4.3,4.6,4.5,4.2,4.5,4.0,4.2,4.7,4.4,4.2,4.0,2.3,4.5,3.6,4.4,3.9,3.9,4.8,4.2,3.7,4.0,1.0,4.4,4.2,4.7,3.6,4.1,3.3,5.0,4.3,4.7,4.0,4.4,4.6,5.0,4.3,4.3,3.8,4.1,4.6,4.0,4.7,3.6,4.5,4.0,4.1,4.0,3.8,4.5,2.8,4.2,4.8,5.0,5.0,4.3,4.3,4.5,4.5,5.0,3.8,4.4,5.0,4.7,4.7,2.2,4.6,4.6,4.7,4.6,4.4,3.8,3.6,4.9,4.8,4.4,5.0,4.8,4.6,5.0,4.6,5.0,4.0,4.3,4.5,4.0,3.2,4.6,4.2,4.8,3.0,4.3,3.9,3.9,4.8,3.5,4.4,4.1,4.2,4.7,4.0,4.4,4.2,5.0,3.5,3.8,4.5,4.1,4.3,4.3,4.4,4.0,4.3,4.0,4.9,4.7,4.3,4.2,4.1,3.2,3.9,4.2,4.1,4.9,3.7,3.5,4.9,3.3,4.9,3.4,4.5,4.3,5.0,3.5,4.4,3.7,4.8,4.3,4.9,5.0,4.3,4.3,4.4,1.0,4.5,4.0,5.0,4.9,4.7,3.9,3.2,3.5,3.7,3.0,4.2,4.0,4.1,4.0,3.1,4.4,3.2,3.9,4.2,4.7,4.0,4.0,3.7,4.1,4.4,4.0,3.9,3.6,4.6,4.4,1.9,4.3,4.5,4.1,3.8,4.1,4.6,3.7,3.9,4.4,4.5,4.4,3.5,4.3,4.5,4.5,4.4,4.2,4.3,3.6,4.0,3.8,4.4,3.9,4.1,4.3,3.5,4.3,4.7,4.5,3.8,4.5,4.2,4.3,4.1,4.6,4.5,3.0,2.6,3.4,4.0,3.4,3.7,4.5,3.9,4.0,4.5,4.0,4.4,1.8,4.3,5.0,5.0,3.2,4.2,4.6,3.8,3.9,4.2,4.0,3.8,4.1,3.9,4.4,2.1,1.8,4.2,2.0,3.4,3.6,3.7,4.7,4.5,4.6,3.6,4.4,4.6,2.3,3.0,5.0,4.5,4.4,4.5,4.8,4.3,3.7,4.5,4.3,4.4,3.4,4.5,1.6,4.5,3.8,4.3,4.3,3.0,4.0,4.8,4.0,4.5,4.7,1.9,4.9,4.4,4.7,4.9,4.8,4.5,4.6,4.5,5.0,3.9,4.3,4.8,4.3,4.6,4.1,4.5,4.3,3.8,2.4,4.3,2.8,4.5,4.6,4.1,4.2,4.6,4.3,4.6,5.0,5.0,3.9,4.2,3.9,4.2,3.5,4.0,3.7,3.8,4.3,4.5,4.6,4.5,4.3,4.4,4.6,3.9,3.9,3.1,3.9,4.4,4.4,4.4,4.6,3.9,4.6,2.5,4.6,2.8,4.0,3.4,3.8,4.5,4.8,3.3,3.9,3.5,4.5,4.0,3.6,4.7,3.9,5.0,4.6,3.9,4.9,3.6,3.7,3.9,2.7,3.8,2.8,3.5,4.1,4.7,4.3,4.5,4.1,4.8,3.4,5.0,4.3,4.4,1.8,4.2,3.3,5.0,4.8,4.5,5.0,4.5,4.7,4.6,4.5,3.5,3.5,2.9,5.0,4.8,4.7,4.3,4.1,5.0,5.0,4.0,4.3,4.1,5.0,5.0,4.0,3.5,4.1,4.6,4.1,4.2,2.2,4.3,4.7,3.8,4.1,3.1,4.2,3.0,4.8,3.7,3.1,4.6,2.9,4.2,4.7,4.5,2.8,4.4,4.4,4.1,4.6,3.0,4.1,4.4,4.5,4.5,3.6,2.0,4.0,4.5,4.0,4.3,4.5,4.8,4.5,4.2,4.5,4.6,3.9,4.3,3.9,4.3,3.7,4.7,4.3,1.7,4.5,4.7,5.0,4.6,2.9,4.8,2.3,3.8,4.2,4.4,4.0,4.1,3.4,4.3,4.0,4.2,4.1,4.7,4.2,3.9,3.8,4.1,4.2,3.8,4.7,3.7,4.3,4.0,4.2,4.6,4.7,4.3,4.2,3.5,4.7,4.7,4.5,4.5,4.7,4.6,4.6,4.9,4.2,4.3,4.4,4.5,4.3,4.4,4.4,3.0,4.8,4.7,4.6,4.0,3.7,3.5,2.7,4.7,4.1,4.5,4.6,4.5,4.4,4.3,4.4,4.5,4.6,4.6,3.1,4.7,4.6,4.7,4.4,4.8,4.1,4.3,4.4,4.7,4.0,3.4,4.6,2.8,3.1,3.9,4.2,4.1,4.2,3.3,4.4,4.4,4.6,4.4,4.5,4.1,2.2,4.2,4.8,3.2,4.3,4.6,4.4,4.5,3.4,3.3,4.2,2.4,3.2,3.1,3.8,4.8,3.7,4.2,3.7,3.0,3.9,4.0,5.0,4.0,2.7,3.1,4.1,4.0,3.8,3.8,4.3,3.5,4.5,3.9,4.5,3.3,4.1,5.0,3.7,4.8,1.5,5.0,4.6,5.0,4.7,4.7,5.0,4.5,5.0,5.0,4.2,1.0,4.5,4.2,5.0,4.2,4.4,3.9,4.6,3.8,4.0,4.6,3.4,5.0,4.6,5.0,3.0,3.8,4.2,4.3,4.4,3.2,3.5,4.4,4.5,3.7,5.0,4.5,4.5,4.1,3.4,4.1,5.0,4.2,4.1,4.1,4.2,4.3,5.0,4.4,4.3,4.5,4.8,4.4,4.4,4.7,4.3,4.4,4.6,2.8,5.0,4.4,2.0,5.0,4.4,5.0,3.4,4.4,3.4,3.3,1.5,5.0,4.3,4.3,2.2,4.6,5.0,4.7,4.7,3.5,4.3,3.6,4.3,3.6,2.6,4.7,4.5,4.0,4.6,5.0,4.2,4.2,4.7,4.5,3.6,3.8,4.2,3.8,3.5,4.1,5.0,4.2,4.1,3.6,4.3,4.1,4.4,4.0,5.0,5.0,3.8,4.3,4.7,4.5,4.4,4.7,3.7,4.3,4.0,3.9,4.9,3.5,3.5,4.4,4.2,4.3,4.7,4.5,4.4,4.2,4.4,3.3,4.9,4.5,4.7,4.7,3.9,4.7,4.7,4.4,4.8,4.8,4.0,3.7,5.0,3.0,3.9,4.6,4.6,4.3,4.2,5.0,4.5,4.2,1.0,4.6,4.1,4.7,4.4,4.8,4.2,5.0,4.6,4.5,5.0,2.9,4.4,3.0,4.5,2.4,4.3,3.9,1.9,4.4,5.0,4.0,4.7,3.9,5.0,4.2,4.2,2.8,4.2,1.0,3.9,4.1,4.1,3.2,5.0,5.0,4.3,4.1,3.8,4.0,4.2,5.0,4.1,5.0,4.1,3.5,3.9,4.2,3.8,3.7,2.8,4.7,4.3,4.1,4.7,4.2,4.0,3.2,4.6,5.0,4.4,4.5,4.0,4.6,4.7,4.1,4.5,4.3,5.0,5.0,4.2,4.0,5.0,2.7,4.1,4.4,4.3,4.1,4.7,4.4,3.6,4.0,4.1,4.0,4.1,4.0,5.0,3.6,4.1,4.3,4.1,2.6,2.7,3.8,5.0,4.2,5.0,2.6,4.4,4.3,4.7,2.8,4.1,3.6,4.0,5.0,5.0,4.7,4.7,4.7,4.6,4.6,4.6,4.6,3.8,4.1,3.4,4.5,4.5,4.5,4.0,4.7,4.4,4.4,4.7,4.7,4.2,4.2,4.0,3.6,4.7,4.4,4.3,4.4,4.4,4.4,4.3,3.3,3.6,4.5,4.3,3.6,4.3,4.4,4.1,4.2,4.8,4.2,3.7,4.5,4.1,4.6,4.5,4.7,4.3,4.3,4.6,4.1,4.2,4.3,4.2,4.3,3.6,4.2,4.2,4.0,4.6,4.3,4.4,4.5,4.3,4.2,4.7,4.6,4.5,4.1,4.5,3.4,4.2,3.9,4.4,4.1,4.3,3.9,4.0,5.0,4.2,4.3,4.5,4.5,4.5,3.5,3.6,1.9,4.3,3.2,1.6,4.2,4.9,4.4,3.6,3.4,4.7,2.9,4.3,4.4,4.3,4.6,4.6,4.2,3.5,2.9,4.4,4.7,4.5,4.4,2.0,4.7,4.4,4.4,4.4,4.5,3.5,4.2,3.7,4.4,3.4,4.3,3.6,4.6,4.6,4.2,4.3,3.8,1.4,4.4,4.0,4.6,3.9,3.8,4.7,4.2,4.3,4.1,4.3,4.2,3.6,4.6,4.3,5.0,5.0,5.0,4.5,3.8,3.9,4.8,4.1,4.0,4.8,4.8,4.4,4.1,4.4,4.3,3.7,4.3,4.3,2.7,4.4,4.5,4.2,3.7,5.0,4.2,3.9,4.5,3.5,4.7,4.2,4.4,4.7,4.6,4.0,2.5,3.8,4.7,4.5,4.6,4.6,5.0,3.9,5.0,2.3,3.6,4.0,3.7,4.2,4.1,4.4,4.6,4.2,4.4,4.3,4.0,4.5,3.9,3.7,4.6,3.8,4.7,3.4,4.5,4.1,4.3,4.6,4.3,4.3,4.0,3.5,2.3,3.9,4.1,4.5,4.6,4.4,3.1,4.3,3.3,5.0,4.2,3.8,3.3,5.0,1.0,4.5,4.6,4.3,4.4,4.1,4.5,4.2,3.7,4.1,3.9,4.5,3.6,3.2,3.5,3.7,4.6,4.8,4.1,4.4,4.3,4.0,3.1,4.2,4.1,3.5,4.3,3.8,4.3,4.8,2.3,4.3,4.4,3.6,5.0,4.3,4.2,4.3,4.7,3.9,4.4,4.4,4.3,2.6,4.3,3.8,4.2,4.2,4.1,4.0,4.4,4.7,2.6,4.3,5.0,3.7,4.3,4.1,4.3,3.8,4.5,5.0,3.9,3.8,4.6,4.6,4.7,5.0,4.5,3.5,3.3,4.8,3.9,4.5,3.4,5.0,5.0,4.8,3.6,4.3,4.0,4.5,4.6,4.7,3.8,3.4,4.7,4.0,4.6,2.0,4.3,2.0,3.6,4.7,3.5,4.0,3.5,4.3,4.1,4.6,3.8,4.3,3.8,1.0,3.8,3.3,4.8,3.0,4.0,3.6,3.8,4.3,3.9,4.2,4.0,4.6,4.6,4.5,3.7,4.4,4.6,3.9,4.4,4.5,4.5,4.3,3.7,3.9,3.9,4.3,4.1,4.1,4.4,4.4,4.2,4.5,4.6,4.4,4.4,4.4,3.8,2.6,4.2,4.4,4.2,4.0,4.2,4.0,4.4,4.5,3.2,4.3,3.4,2.3,4.4,4.3,4.3,3.6,4.6,4.2,4.0,3.2,1.7,2.2,3.8,4.8,4.4,4.5,4.8,4.6,3.7,4.4,3.5,3.8,3.8,4.3,4.6,4.5,3.7,4.8,4.3,5.0,3.9,3.0,5.0,4.4,4.6,3.9,3.3,4.1,3.0,4.2,4.2,4.2,4.0,3.2,4.6,3.2,4.1,3.3,4.4,4.0,4.2,4.1,4.3,3.3,4.7,4.4,3.1,3.1,3.3,3.9,3.4,3.9,4.4,3.9,3.7,4.5,4.7,4.6,5.0,3.0,3.9,5.0,3.9,3.8,3.6,3.9,3.8,4.8,4.5,4.0,4.7,4.8,4.7,4.7,4.5,4.0,3.2,4.7,4.5,4.5,4.9,4.2,5.0,5.0,5.0,4.2,4.7,4.5,4.5,4.5,3.8,4.5,4.3,3.9,3.9,4.2,4.5,4.1,4.1,4.6,3.3,4.5,2.2,4.4,3.9,4.5,2.8,3.3,3.1,3.2,4.4,4.1,5.0,3.8,4.3,4.6,3.7,4.9,4.3,5.0,2.9,4.4,4.4,4.6,4.5,4.0,3.5,4.8,4.8,3.5,4.6,4.4,4.3,4.7,4.4,4.0,3.5,4.6,3.9,3.5,4.6,4.2,4.6,4.0,4.2,3.8,4.1,4.1,4.2,4.0,3.6,3.3,4.7,4.5,3.9,4.3,3.9,4.3,3.1,4.4,3.7,4.6,4.6,2.7,4.1,4.2,1.9,4.6,4.2,4.4,4.2,3.9,2.4,5.0,3.9,3.7,5.0,4.0,3.0,4.1,4.8,4.5,3.5,4.5,4.5,4.3,4.4,4.4,4.2,4.5,4.3,4.3,4.2,4.9,4.1,1.4,4.0,5.0,4.2,4.3,3.8,4.1,4.2,4.1,4.3,3.6,4.3,4.6,4.4,5.0,4.4,4.5,4.7,5.0,3.4,3.1,4.5,5.0,4.3,4.4,4.3,4.0,4.5,4.0,4.1,3.8,4.6,4.1,4.3,4.3,4.2,4.3,4.4,3.9,4.5,3.5,4.2,4.1,4.1,4.7,4.5,3.3,4.2,4.6,4.3,4.3,4.0,4.7,5.0,5.0,4.9,4.3,4.5,4.1,4.3,4.5,3.9,3.7,4.2,3.6,3.6,2.1,4.7,3.2,3.0,4.3,3.0,4.3,3.9,3.3,4.3,4.0,3.7,2.8,4.4,5.0,3.9,4.2,4.8,4.0,3.0,4.5,2.6,5.0,5.0,4.1,4.5,5.0,4.7,4.5,4.4,4.4,4.3,4.2,3.0,4.1,4.2,4.2,4.0,4.3,4.1,3.6,4.3,5.0,3.9,4.1,3.8,5.0,3.7,4.3,4.2,4.3,2.5,4.3,4.3,4.2,4.6,4.0,2.9,4.5,3.8,4.7,3.9,4.5,4.2,4.4,4.8,4.2,4.5,4.5,4.6,4.1,4.3,4.7,4.4,4.2,4.3,4.5,4.8,4.5,4.6,4.7,4.4,4.1,4.3,4.2,4.2,3.6,2.8,3.9,3.8,4.4,3.7,2.7,3.8,3.2,3.9,2.3,4.1,4.3,3.1,4.6,4.1,4.4,3.2,4.5,3.7,4.4,4.5,5.0,4.8,4.6,4.0,4.1,4.1,4.8,4.3,2.8,4.7,4.5,4.2,4.3,3.8,3.8,4.2,3.8,4.0,4.0,4.6,4.0,4.3,4.3,3.9,5.0,4.0,4.1,3.9,4.2,4.3,4.5,4.4,4.1,4.5,4.6,4.1,3.9,4.7,3.9,4.3,2.9,4.4,3.7,4.4,4.1,2.8,4.9,3.4,2.8,2.5,4.7,3.1,3.2,4.3,3.9,3.6,3.2,3.5,3.3,2.4,4.4,2.8,5.0,4.4,5.0,3.3,2.9,4.1,4.6,2.2,4.3,5.0,2.5,3.0,3.7,5.0,5.0,4.1,4.1,2.6,4.6,4.5,4.5,3.3,4.4,4.7,4.7,4.0,4.5,4.3,4.6,4.7,4.4,4.0,4.2,4.1,4.3,4.7,4.1,3.1,4.0,4.4,4.4,4.6,4.0,4.6,4.3,4.3,3.9,4.5,4.7,4.3,4.6,4.2,4.3,4.2,4.1,4.6,4.4,3.7,4.4,3.9,4.3,4.3,4.5,4.5,4.5,4.7,4.3,4.4,4.5,4.3,4.3,4.2,4.2,4.3,4.2,4.7,4.1,4.3,4.1,3.8,4.5,4.1,4.3,4.5,4.1,4.4,4.3,4.4,4.3,4.1,4.6,4.7,4.2,3.7,4.7,4.4,4.7,4.2,4.6,4.5,4.8,3.7,4.3,4.2,4.1,2.3,4.3,4.6,4.5,4.0,4.2,4.6,4.2,4.5,4.4,4.0,2.8,3.8,4.1,3.8,3.4,4.5,4.3,3.1,4.6,3.3,3.9,4.2,4.9,3.9,3.7,4.6,4.4,4.0,4.2,4.6,4.4,4.6,4.5,3.7,4.1,4.2,4.0,4.5,4.6,4.5,4.4,3.3,4.2,4.2,4.0,4.0,4.0,3.5,4.5,3.9,3.9,4.1,4.4,4.2,4.4,4.3,4.1,4.0,4.3,4.5,4.6,3.7,3.8,3.4,4.3,3.8,4.7,4.4,4.4,4.1,4.4,4.0,3.9,4.3,4.2,3.3,4.0,4.6,4.1,4.1,3.4,3.4,4.1,4.0,3.4,3.2,3.8,3.8,3.9,3.6,3.8,3.9,3.2,1.0,4.6,3.6,4.9,2.6,3.9,3.5,3.2,3.3,3.8,3.9,4.6,1.8,4.3,3.9,4.8,3.7,4.0,4.1,4.6,4.0,4.8,4.0,3.5,3.0,4.6,1.6,3.8,1.7,4.6,5.0,4.6,4.4,4.5,3.8,4.0,4.1,5.0,5.0,1.0,4.4,4.7,4.6,2.4,4.5,4.4,4.3,5.0,4.1,3.8,3.9,3.1,4.7,3.5,4.5,4.6,4.5,4.5,4.4,4.4,4.2,4.6,4.5,3.8,4.3,4.6,4.3,3.6,4.2,4.7,4.3,4.7,4.8,3.1,4.5,4.4,4.5,4.5,4.7,4.1,4.4,4.3,4.6,3.4,4.7,3.6,3.7,2.1,2.0,3.5,4.3,2.4,4.5,2.8,4.5,2.8,3.9,3.2,3.1,2.4,4.6,2.9,4.0,3.7,2.3,2.9,4.6,4.3,5.0,4.2,4.6,4.5,4.2,4.8,3.5,4.6,3.5,3.6,5.0,3.0,2.9,3.7,4.6,4.2,3.2,2.5,4.4,4.3,2.7,4.0,4.5,3.4,4.3,4.3,4.3,4.0,4.9,3.4,4.9,4.3,4.7,4.8,4.3,4.3,4.0,3.5,5.0,4.7,4.2,4.4,4.2,5.0,5.0,2.0,3.7,3.9,4.5,3.1,4.5,4.7,4.4,3.8,4.2,4.5,4.5,4.6,4.2,4.5,4.2,4.2,4.1,4.3,5.0,4.6,4.0,4.4,4.5,3.6,4.6,4.0,4.6,4.5,4.5,4.8,5.0,4.4,4.0,3.5,5.0,4.0,4.2,4.0,3.9,4.5,3.6,4.2,3.0,3.0,4.0,3.4,4.9,4.0,4.4,4.1,4.4,4.0,4.5,4.2,3.9,3.6,5.0,4.4,3.6,4.7,4.2,4.5,4.7,4.3,4.2,4.4,4.7,4.4,4.1,4.5,4.1,4.0,4.3,4.2,4.2,4.1,4.2,5.0,4.0,4.0,4.5,4.1,4.7,4.4,4.9,3.6,4.2,4.4,4.5,4.2,4.2,4.5,4.4,4.4,4.5,3.9,4.3,4.4,4.5,4.0,4.5,4.0,4.4,4.3,2.5,4.4,3.8,4.4,4.2,4.1,4.2,3.9,4.5,4.1,4.4,4.3,4.5,3.4,3.4,4.4,4.2,4.4,3.5,4.1,4.6,1.7,3.3,5.0,4.8,4.6,3.3,4.2,3.5,3.7,5.0,4.6,4.1,3.5,5.0,3.7,4.0,4.2,4.5,3.8,2.5,4.0,4.0,4.1,3.4,3.6,3.4,3.9,4.6,4.3,4.7,5.0,3.9,3.9,4.2,4.3,3.5,4.1,4.2,4.4,4.5,3.8,3.4,3.9,4.5,3.0,4.1,4.6,3.9,4.7,4.5,3.4,5.0,5.0,5.0,4.0,4.0,4.9,5.0,4.6,4.8,4.1,4.1,4.7,5.0,4.4,3.3,4.0,3.5,2.8,3.6,3.2,3.6,3.7,3.3,3.1,4.1,3.1,3.5,3.6,5.0,2.3,3.1,2.9,3.0,2.9,3.9,5.0,3.4,5.0,4.8,4.2,5.0,4.3,4.6,4.7,4.4,4.8,4.1,4.6,4.6,4.0,2.9,4.1,4.2,4.3,4.4,2.4,4.2,3.1,3.0,4.7,3.4,4.7,4.7,4.2,5.0,4.5,3.3,4.4,4.2,4.2,4.7,4.3,4.8,4.2,4.0,4.2,4.1,4.6,4.6,3.8,4.4,4.0,3.9,3.5,5.0,4.6,3.6,4.2,3.8,3.4,3.8,4.2,4.2,3.7,4.0,4.4,4.5,3.7,4.2,3.9,4.0,3.7,4.2,4.0,3.9,4.1,4.3,4.5,4.5,3.3,4.4,4.2,4.2,4.1,4.1,4.4,4.1,3.9,3.9,4.4,3.8,3.0,3.4,4.3,5.0,4.1,2.4,3.9,4.0,3.0,4.4,3.4,2.9,5.0,4.5,3.7,3.0,4.0,3.2,3.6,3.2,3.7,4.7,4.4,3.9,4.3,4.9,2.6,5.0,4.1,4.0,4.1,3.3,4.2,4.0,4.3,4.4,5.0,4.3,4.4,3.9,4.3,4.0,3.8,4.5,3.8,4.4,4.3,4.7,3.9,4.2,3.8,4.3,3.8,4.2,4.5,4.2,3.6,4.0,3.5,4.4,3.5,4.1,4.8,4.4,4.3,4.0,4.2,4.4,3.5,4.3,4.7,5.0,3.8,5.0,4.8,4.9,4.3,5.0,4.9,4.9,4.9,4.5,4.5,5.0,5.0,3.0,4.9,5.0,5.0,4.1,4.1,4.3,4.3,4.1,4.7,4.9,5.0,5.0,4.6,4.2,3.7,5.0,4.3,4.0,4.3,4.0,4.0,3.1,3.4,4.2,4.2,4.1,3.4,4.0,3.9,4.8,4.1,4.3,4.3,4.4,4.4,4.5,4.5,4.8,4.4,4.5,4.6,4.6,4.5,4.7,4.5,4.2,4.2,4.7,4.1,4.1,4.6,4.4,4.5,3.8,3.9,3.5,3.8,4.2,4.6,3.7,3.6,3.4,4.0,4.3,4.5,4.4,4.5,4.1,4.4,4.3,4.5,4.5,4.5,4.3,4.1,4.6,4.3,4.0,4.4,4.4,4.6,4.6,4.3,4.3,4.2,4.5,4.0,4.6,3.8,4.3,4.3,4.9,4.0,4.5,4.5,4.2,4.4,4.4,4.0,4.3,4.4,4.4,4.0,4.7,4.2,4.4,4.1,4.3,3.5,4.7,2.6,4.2,5.0,4.3,4.4,4.3,4.3,4.5,4.6,4.6,4.7,4.2,4.5,4.3,4.5,3.5,4.3,4.6,4.5,4.4,3.4,4.3,3.8,4.5,5.0,4.9,5.0,4.2,4.3,4.4,2.3,4.7,4.4,4.3,4.4,4.0,3.6,4.1,4.6,3.9,4.4,3.7,3.9,4.3,4.1,3.6,3.5,3.9,3.9,3.8,4.0,4.5,3.6,3.9,4.3,4.0,4.2,3.7,3.9,4.2,3.5,4.0,3.8,4.1,4.2,4.1,4.4,3.7,4.7,3.8,4.0,4.2,3.8,3.9,4.0,3.1,5.0,3.5,4.1,4.5,4.7,4.1,3.9,4.0,4.3,3.1,4.2,4.4,3.2,3.3,4.3,4.7,4.3,4.2,4.7,4.3,4.2,4.2,4.2,4.1,4.2,4.3,4.4,4.3,3.5,4.3,1.8,4.2,4.2,4.6,4.0,4.3,5.0,3.8,4.3,3.0,5.0,4.7,4.6,4.4,4.7,5.0,4.8,3.0,4.6,4.6,4.6,4.5,4.3,4.2,4.7,4.9,4.3,4.4,3.6,4.6,4.5,3.9,4.3,4.8,3.7,4.5,4.3,4.4,4.0,4.7,4.3,4.5,4.2,4.2,4.5,4.2,4.1,4.2,4.6,4.5,3.9,3.6,4.6,3.4,4.2,3.4,3.6,4.2,3.5,4.3,3.9,4.3,3.6,3.9,4.3,3.7,3.8,4.1,4.1,4.7,4.1,1.9,3.6,3.8,4.5,2.7,4.5,5.0,4.0,4.2,4.4,4.0,3.1,5.0,4.7,3.7,3.9,3.0,4.2,3.0,4.2,3.7,4.6,4.5,4.6,4.7,4.3,2.3,2.8,2.8,3.6,3.0,3.2,3.5,3.8,3.5,4.2,4.5,3.4,3.0,4.4,4.0,4.3,4.1,3.6,3.7,4.2,3.7,4.3,3.3,4.4,3.5,4.0,4.9,4.0,4.6,3.6,3.9,3.9,4.0,4.2,4.4,4.3,3.7,4.3,3.4,3.5,4.2,4.2,3.6,3.9,3.8,3.8,4.0,4.5,3.8,4.9,3.8,3.5,3.0,4.5,4.7,3.8,3.3,4.0,3.7,3.9,3.5,4.4,4.0,4.0,4.6,4.4,4.5,4.3,4.4,4.3,4.1,4.2,2.7,4.2,2.3,3.9,4.1,2.9,3.3,4.2,2.9,3.5,2.8,4.3,3.5,4.6,4.2,4.2,3.7,4.7,3.9,4.3,4.4,4.0,4.4,3.7,4.3,3.5,4.3,4.0,4.5,4.2,4.3,4.1,2.5,2.7,1.2,4.7,4.9,4.7,4.4,4.7,4.0,4.7,4.3,4.7,4.4,4.6,4.4,4.4,4.4,4.6,3.1,4.3,3.7,4.1,4.2,4.4,4.1,3.6,4.4,3.8,4.0,3.2,2.8,3.1,2.9,4.1,3.3,3.5,4.2,2.8,2.1,4.4,4.4,4.2,4.1,3.3,3.5,4.7,3.1,4.3,4.1,4.2,2.5,3.9,3.0,3.2,4.3,4.3,4.2,4.3,2.2,3.9,2.8,4.4,4.6,4.4,3.9,2.9,4.1,5.0,4.6,3.7,4.4,3.9,3.6,3.4,4.3,4.4,4.3,4.3,4.5,4.3,4.1,4.4,3.5,4.1,3.8,4.2,4.3,4.5,4.0,4.3,3.4,4.0,4.3,4.7,4.5,4.3,4.1,4.1,4.4,3.8,3.9,4.2,4.2,3.7,4.3,4.2,3.6,4.3,4.3,4.3,4.5,4.3,4.7,3.8,4.0,4.1,3.9,4.3,3.4,4.2,4.5,4.4,4.2,4.7,4.6,4.4,4.4,4.8,4.6,4.3,4.4,4.4,3.3,4.5,4.6,4.3,4.9,4.3,4.5,4.9,3.7,4.5,4.6,4.5,4.1,4.8,5.0,3.4,4.5,4.5,4.5,4.5,4.5,4.5,4.1,4.1,3.6,4.7,4.6,4.9,4.6,4.1,4.5,3.9,3.9,4.6,3.8,4.7,3.9,4.1,3.9,4.0,4.3,4.0,4.4,4.1,5.0,4.8,4.6,5.0,4.2,4.7,4.0,4.4,4.9,3.5,4.1,4.2,4.4,4.5,3.1,4.5,4.6,4.3,4.4,4.6,4.3,4.8,2.8,4.1,1.0,3.0,5.0,5.0,4.1,4.4,3.0,3.8,3.9,5.0,4.5,5.0,3.3,4.5,4.9,4.3,4.5,4.1,4.8,3.8,4.1,3.9,4.2,4.2,4.8,4.1,4.1,4.0,3.9,4.1,4.1,4.2,3.7,3.9,3.9,3.6,3.7,3.6,4.3,3.9,4.5,2.6,4.4,1.0,4.2,4.8,5.0,4.3,4.4,4.5,4.9,5.0,4.2,4.2,4.0,2.1,4.2,2.5,4.4,4.4,4.6,4.4,4.2,4.5,3.3,3.9,4.5,4.1,4.8,4.6,4.4,3.8,3.7,4.2,3.7,4.3,4.5,3.5,4.0,4.5,2.9,3.9,3.6,4.6,2.1,4.7,4.5,4.1,4.5,3.7,2.9,4.0,4.2,3.7,3.6,3.9,3.4,3.5,3.4,3.9,3.0,3.6,3.2,4.1,4.1,4.2,4.2,4.7,4.6,4.5,4.3,4.5,4.5,4.4,4.3,4.2,3.7,4.3,4.0,3.5,4.2,4.4,4.2,4.4,3.8,3.9,4.0,3.8,3.6,4.2,3.8,3.7,4.0,4.2,4.4,4.4,4.9,5.0,4.8,4.0,4.0,4.9,3.8,4.9,1.5,5.0,4.8,3.9,3.7,4.6,4.7,4.6,4.3,4.2,4.6,4.7,4.6,2.0,3.6,3.2,3.8,4.0,3.8,3.8,4.4,4.4,4.4,3.8,4.3,4.6,1.0,3.2,4.7,4.3,4.5,4.1,4.9,4.1,4.2,3.5,4.2,5.0,3.8,4.7,4.5,5.0,3.3,5.0,4.0,4.5,3.2,4.5,4.2,3.7,3.8,5.0,4.1,2.9,4.7,5.0,3.2,3.8,3.8,4.6,4.6,4.4,4.8,4.2,3.3,3.9,4.5,3.9,4.3,4.4,3.9,3.4,4.6,4.2,4.8,5.0,5.0,3.8,2.9,4.6,3.8,4.1,4.5,4.2,2.5,3.5,4.6,4.4,4.6,4.3,4.2,4.2,4.1,4.2,4.3,4.5,4.4,5.0,4.6,5.0,3.4,4.6,4.5,3.8,4.1,4.4,4.4,4.4,4.2,4.2,3.9,4.2,5.0,4.0,4.3,4.6,3.6,4.4,4.1,4.2,4.3,3.9,4.3,3.5,4.0,3.8,3.6,4.3,4.2,5.0,3.4,3.5,3.7,4.2,3.6,4.2,4.3,4.4,2.7,4.1,4.4,4.5,3.4,2.9,4.8,4.0,3.9,5.0,3.9,4.0,3.6,4.1,4.3,3.8,4.2,4.3,4.2,4.2,4.1,4.0,4.1,4.0,4.2,4.4,4.2,4.7,4.6,4.7,4.1,4.9,4.0,4.3,4.2,4.3,4.7,4.8,4.1,4.0,4.2,4.0,3.3,5.0,4.0,4.2,3.4,4.6,3.8,3.8,4.8,4.0,4.5,5.0,4.5,4.5],\"xbins\":{\"end\":5,\"size\":0.1,\"start\":1},\"type\":\"histogram\"}],                        {\"template\":{\"data\":{\"barpolar\":[{\"marker\":{\"line\":{\"color\":\"#E5ECF6\",\"width\":0.5},\"pattern\":{\"fillmode\":\"overlay\",\"size\":10,\"solidity\":0.2}},\"type\":\"barpolar\"}],\"bar\":[{\"error_x\":{\"color\":\"#2a3f5f\"},\"error_y\":{\"color\":\"#2a3f5f\"},\"marker\":{\"line\":{\"color\":\"#E5ECF6\",\"width\":0.5},\"pattern\":{\"fillmode\":\"overlay\",\"size\":10,\"solidity\":0.2}},\"type\":\"bar\"}],\"carpet\":[{\"aaxis\":{\"endlinecolor\":\"#2a3f5f\",\"gridcolor\":\"white\",\"linecolor\":\"white\",\"minorgridcolor\":\"white\",\"startlinecolor\":\"#2a3f5f\"},\"baxis\":{\"endlinecolor\":\"#2a3f5f\",\"gridcolor\":\"white\",\"linecolor\":\"white\",\"minorgridcolor\":\"white\",\"startlinecolor\":\"#2a3f5f\"},\"type\":\"carpet\"}],\"choropleth\":[{\"colorbar\":{\"outlinewidth\":0,\"ticks\":\"\"},\"type\":\"choropleth\"}],\"contourcarpet\":[{\"colorbar\":{\"outlinewidth\":0,\"ticks\":\"\"},\"type\":\"contourcarpet\"}],\"contour\":[{\"colorbar\":{\"outlinewidth\":0,\"ticks\":\"\"},\"colorscale\":[[0.0,\"#0d0887\"],[0.1111111111111111,\"#46039f\"],[0.2222222222222222,\"#7201a8\"],[0.3333333333333333,\"#9c179e\"],[0.4444444444444444,\"#bd3786\"],[0.5555555555555556,\"#d8576b\"],[0.6666666666666666,\"#ed7953\"],[0.7777777777777778,\"#fb9f3a\"],[0.8888888888888888,\"#fdca26\"],[1.0,\"#f0f921\"]],\"type\":\"contour\"}],\"heatmapgl\":[{\"colorbar\":{\"outlinewidth\":0,\"ticks\":\"\"},\"colorscale\":[[0.0,\"#0d0887\"],[0.1111111111111111,\"#46039f\"],[0.2222222222222222,\"#7201a8\"],[0.3333333333333333,\"#9c179e\"],[0.4444444444444444,\"#bd3786\"],[0.5555555555555556,\"#d8576b\"],[0.6666666666666666,\"#ed7953\"],[0.7777777777777778,\"#fb9f3a\"],[0.8888888888888888,\"#fdca26\"],[1.0,\"#f0f921\"]],\"type\":\"heatmapgl\"}],\"heatmap\":[{\"colorbar\":{\"outlinewidth\":0,\"ticks\":\"\"},\"colorscale\":[[0.0,\"#0d0887\"],[0.1111111111111111,\"#46039f\"],[0.2222222222222222,\"#7201a8\"],[0.3333333333333333,\"#9c179e\"],[0.4444444444444444,\"#bd3786\"],[0.5555555555555556,\"#d8576b\"],[0.6666666666666666,\"#ed7953\"],[0.7777777777777778,\"#fb9f3a\"],[0.8888888888888888,\"#fdca26\"],[1.0,\"#f0f921\"]],\"type\":\"heatmap\"}],\"histogram2dcontour\":[{\"colorbar\":{\"outlinewidth\":0,\"ticks\":\"\"},\"colorscale\":[[0.0,\"#0d0887\"],[0.1111111111111111,\"#46039f\"],[0.2222222222222222,\"#7201a8\"],[0.3333333333333333,\"#9c179e\"],[0.4444444444444444,\"#bd3786\"],[0.5555555555555556,\"#d8576b\"],[0.6666666666666666,\"#ed7953\"],[0.7777777777777778,\"#fb9f3a\"],[0.8888888888888888,\"#fdca26\"],[1.0,\"#f0f921\"]],\"type\":\"histogram2dcontour\"}],\"histogram2d\":[{\"colorbar\":{\"outlinewidth\":0,\"ticks\":\"\"},\"colorscale\":[[0.0,\"#0d0887\"],[0.1111111111111111,\"#46039f\"],[0.2222222222222222,\"#7201a8\"],[0.3333333333333333,\"#9c179e\"],[0.4444444444444444,\"#bd3786\"],[0.5555555555555556,\"#d8576b\"],[0.6666666666666666,\"#ed7953\"],[0.7777777777777778,\"#fb9f3a\"],[0.8888888888888888,\"#fdca26\"],[1.0,\"#f0f921\"]],\"type\":\"histogram2d\"}],\"histogram\":[{\"marker\":{\"pattern\":{\"fillmode\":\"overlay\",\"size\":10,\"solidity\":0.2}},\"type\":\"histogram\"}],\"mesh3d\":[{\"colorbar\":{\"outlinewidth\":0,\"ticks\":\"\"},\"type\":\"mesh3d\"}],\"parcoords\":[{\"line\":{\"colorbar\":{\"outlinewidth\":0,\"ticks\":\"\"}},\"type\":\"parcoords\"}],\"pie\":[{\"automargin\":true,\"type\":\"pie\"}],\"scatter3d\":[{\"line\":{\"colorbar\":{\"outlinewidth\":0,\"ticks\":\"\"}},\"marker\":{\"colorbar\":{\"outlinewidth\":0,\"ticks\":\"\"}},\"type\":\"scatter3d\"}],\"scattercarpet\":[{\"marker\":{\"colorbar\":{\"outlinewidth\":0,\"ticks\":\"\"}},\"type\":\"scattercarpet\"}],\"scattergeo\":[{\"marker\":{\"colorbar\":{\"outlinewidth\":0,\"ticks\":\"\"}},\"type\":\"scattergeo\"}],\"scattergl\":[{\"marker\":{\"colorbar\":{\"outlinewidth\":0,\"ticks\":\"\"}},\"type\":\"scattergl\"}],\"scattermapbox\":[{\"marker\":{\"colorbar\":{\"outlinewidth\":0,\"ticks\":\"\"}},\"type\":\"scattermapbox\"}],\"scatterpolargl\":[{\"marker\":{\"colorbar\":{\"outlinewidth\":0,\"ticks\":\"\"}},\"type\":\"scatterpolargl\"}],\"scatterpolar\":[{\"marker\":{\"colorbar\":{\"outlinewidth\":0,\"ticks\":\"\"}},\"type\":\"scatterpolar\"}],\"scatter\":[{\"marker\":{\"colorbar\":{\"outlinewidth\":0,\"ticks\":\"\"}},\"type\":\"scatter\"}],\"scatterternary\":[{\"marker\":{\"colorbar\":{\"outlinewidth\":0,\"ticks\":\"\"}},\"type\":\"scatterternary\"}],\"surface\":[{\"colorbar\":{\"outlinewidth\":0,\"ticks\":\"\"},\"colorscale\":[[0.0,\"#0d0887\"],[0.1111111111111111,\"#46039f\"],[0.2222222222222222,\"#7201a8\"],[0.3333333333333333,\"#9c179e\"],[0.4444444444444444,\"#bd3786\"],[0.5555555555555556,\"#d8576b\"],[0.6666666666666666,\"#ed7953\"],[0.7777777777777778,\"#fb9f3a\"],[0.8888888888888888,\"#fdca26\"],[1.0,\"#f0f921\"]],\"type\":\"surface\"}],\"table\":[{\"cells\":{\"fill\":{\"color\":\"#EBF0F8\"},\"line\":{\"color\":\"white\"}},\"header\":{\"fill\":{\"color\":\"#C8D4E3\"},\"line\":{\"color\":\"white\"}},\"type\":\"table\"}]},\"layout\":{\"annotationdefaults\":{\"arrowcolor\":\"#2a3f5f\",\"arrowhead\":0,\"arrowwidth\":1},\"autotypenumbers\":\"strict\",\"coloraxis\":{\"colorbar\":{\"outlinewidth\":0,\"ticks\":\"\"}},\"colorscale\":{\"diverging\":[[0,\"#8e0152\"],[0.1,\"#c51b7d\"],[0.2,\"#de77ae\"],[0.3,\"#f1b6da\"],[0.4,\"#fde0ef\"],[0.5,\"#f7f7f7\"],[0.6,\"#e6f5d0\"],[0.7,\"#b8e186\"],[0.8,\"#7fbc41\"],[0.9,\"#4d9221\"],[1,\"#276419\"]],\"sequential\":[[0.0,\"#0d0887\"],[0.1111111111111111,\"#46039f\"],[0.2222222222222222,\"#7201a8\"],[0.3333333333333333,\"#9c179e\"],[0.4444444444444444,\"#bd3786\"],[0.5555555555555556,\"#d8576b\"],[0.6666666666666666,\"#ed7953\"],[0.7777777777777778,\"#fb9f3a\"],[0.8888888888888888,\"#fdca26\"],[1.0,\"#f0f921\"]],\"sequentialminus\":[[0.0,\"#0d0887\"],[0.1111111111111111,\"#46039f\"],[0.2222222222222222,\"#7201a8\"],[0.3333333333333333,\"#9c179e\"],[0.4444444444444444,\"#bd3786\"],[0.5555555555555556,\"#d8576b\"],[0.6666666666666666,\"#ed7953\"],[0.7777777777777778,\"#fb9f3a\"],[0.8888888888888888,\"#fdca26\"],[1.0,\"#f0f921\"]]},\"colorway\":[\"#636efa\",\"#EF553B\",\"#00cc96\",\"#ab63fa\",\"#FFA15A\",\"#19d3f3\",\"#FF6692\",\"#B6E880\",\"#FF97FF\",\"#FECB52\"],\"font\":{\"color\":\"#2a3f5f\"},\"geo\":{\"bgcolor\":\"white\",\"lakecolor\":\"white\",\"landcolor\":\"#E5ECF6\",\"showlakes\":true,\"showland\":true,\"subunitcolor\":\"white\"},\"hoverlabel\":{\"align\":\"left\"},\"hovermode\":\"closest\",\"mapbox\":{\"style\":\"light\"},\"paper_bgcolor\":\"white\",\"plot_bgcolor\":\"#E5ECF6\",\"polar\":{\"angularaxis\":{\"gridcolor\":\"white\",\"linecolor\":\"white\",\"ticks\":\"\"},\"bgcolor\":\"#E5ECF6\",\"radialaxis\":{\"gridcolor\":\"white\",\"linecolor\":\"white\",\"ticks\":\"\"}},\"scene\":{\"xaxis\":{\"backgroundcolor\":\"#E5ECF6\",\"gridcolor\":\"white\",\"gridwidth\":2,\"linecolor\":\"white\",\"showbackground\":true,\"ticks\":\"\",\"zerolinecolor\":\"white\"},\"yaxis\":{\"backgroundcolor\":\"#E5ECF6\",\"gridcolor\":\"white\",\"gridwidth\":2,\"linecolor\":\"white\",\"showbackground\":true,\"ticks\":\"\",\"zerolinecolor\":\"white\"},\"zaxis\":{\"backgroundcolor\":\"#E5ECF6\",\"gridcolor\":\"white\",\"gridwidth\":2,\"linecolor\":\"white\",\"showbackground\":true,\"ticks\":\"\",\"zerolinecolor\":\"white\"}},\"shapedefaults\":{\"line\":{\"color\":\"#2a3f5f\"}},\"ternary\":{\"aaxis\":{\"gridcolor\":\"white\",\"linecolor\":\"white\",\"ticks\":\"\"},\"baxis\":{\"gridcolor\":\"white\",\"linecolor\":\"white\",\"ticks\":\"\"},\"bgcolor\":\"#E5ECF6\",\"caxis\":{\"gridcolor\":\"white\",\"linecolor\":\"white\",\"ticks\":\"\"}},\"title\":{\"x\":0.05},\"xaxis\":{\"automargin\":true,\"gridcolor\":\"white\",\"linecolor\":\"white\",\"ticks\":\"\",\"title\":{\"standoff\":15},\"zerolinecolor\":\"white\",\"zerolinewidth\":2},\"yaxis\":{\"automargin\":true,\"gridcolor\":\"white\",\"linecolor\":\"white\",\"ticks\":\"\",\"title\":{\"standoff\":15},\"zerolinecolor\":\"white\",\"zerolinewidth\":2}}}},                        {\"responsive\": true}                    ).then(function(){\n",
              "                            \n",
              "var gd = document.getElementById('ceb30977-9cc8-4c75-aab6-8c32789a519c');\n",
              "var x = new MutationObserver(function (mutations, observer) {{\n",
              "        var display = window.getComputedStyle(gd).display;\n",
              "        if (!display || display === 'none') {{\n",
              "            console.log([gd, 'removed!']);\n",
              "            Plotly.purge(gd);\n",
              "            observer.disconnect();\n",
              "        }}\n",
              "}});\n",
              "\n",
              "// Listen for the removal of the full notebook cells\n",
              "var notebookContainer = gd.closest('#notebook-container');\n",
              "if (notebookContainer) {{\n",
              "    x.observe(notebookContainer, {childList: true});\n",
              "}}\n",
              "\n",
              "// Listen for the clearing of the current output cell\n",
              "var outputEl = gd.closest('.output');\n",
              "if (outputEl) {{\n",
              "    x.observe(outputEl, {childList: true});\n",
              "}}\n",
              "\n",
              "                        })                };                            </script>        </div>\n",
              "</body>\n",
              "</html>"
            ]
          },
          "metadata": {}
        }
      ]
    },
    {
      "cell_type": "code",
      "source": [
        "#We will brake down the average rating by category to check if any category performs exceedingly good or bad."
      ],
      "metadata": {
        "id": "U9UnrtZxjHOz"
      },
      "execution_count": null,
      "outputs": []
    },
    {
      "cell_type": "code",
      "source": [
        "top_categories = play_store.groupby(\"Category\").filter(lambda x: len(x) > 200).reset_index()\n",
        "array = top_categories['Rating'].hist(by=top_categories['Category'], sharex=True, figsize=(30,30))"
      ],
      "metadata": {
        "colab": {
          "base_uri": "https://localhost:8080/",
          "height": 939
        },
        "id": "VY7gnXek85tZ",
        "outputId": "85469371-ad5e-4540-ba0d-bee0d75707d0"
      },
      "execution_count": null,
      "outputs": [
        {
          "output_type": "display_data",
          "data": {
            "text/plain": [
              "<Figure size 2160x2160 with 16 Axes>"
            ],
            "image/png": "[encoded data removed]"
          },
          "metadata": {
            "needs_background": "light"
          }
        }
      ]
    },
    {
      "cell_type": "code",
      "source": [
        "# Let's compare the categories with the rating using boxplot."
      ],
      "metadata": {
        "id": "2aWsrN4hjM1z"
      },
      "execution_count": null,
      "outputs": []
    },
    {
      "cell_type": "code",
      "source": [
        "topcat = play_store.groupby('Category').filter(lambda x: len(x) >= 170).reset_index()\n",
        "topcat.head()\n",
        "sns.set_style(\"darkgrid\")\n",
        "fig, ax = plt.subplots()\n",
        "fig.set_size_inches(11.7, 8.27)\n",
        "plt.title(\"App Ratings Across Major Categories\", fontsize=16)\n",
        "ax = sns.boxplot(x='Category', y='Rating', data=topcat, palette='Set1', showmeans=True)\n",
        "ax.set_xticklabels(ax.get_xticklabels(), rotation=90, ha=\"right\")"
      ],
      "metadata": {
        "colab": {
          "base_uri": "https://localhost:8080/",
          "height": 936
        },
        "id": "XnR_7-xu_G3P",
        "outputId": "150e8d4f-6058-48fd-9a9f-1a8a2f3da6db"
      },
      "execution_count": null,
      "outputs": [
        {
          "output_type": "execute_result",
          "data": {
            "text/plain": [
              "[Text(0, 0, 'BUSINESS'),\n",
              " Text(0, 0, 'COMMUNICATION'),\n",
              " Text(0, 0, 'FINANCE'),\n",
              " Text(0, 0, 'HEALTH_AND_FITNESS'),\n",
              " Text(0, 0, 'LIFESTYLE'),\n",
              " Text(0, 0, 'GAME'),\n",
              " Text(0, 0, 'FAMILY'),\n",
              " Text(0, 0, 'MEDICAL'),\n",
              " Text(0, 0, 'SOCIAL'),\n",
              " Text(0, 0, 'SHOPPING'),\n",
              " Text(0, 0, 'PHOTOGRAPHY'),\n",
              " Text(0, 0, 'SPORTS'),\n",
              " Text(0, 0, 'TRAVEL_AND_LOCAL'),\n",
              " Text(0, 0, 'TOOLS'),\n",
              " Text(0, 0, 'PERSONALIZATION'),\n",
              " Text(0, 0, 'PRODUCTIVITY'),\n",
              " Text(0, 0, 'NEWS_AND_MAGAZINES')]"
            ]
          },
          "metadata": {},
          "execution_count": 37
        },
        {
          "output_type": "display_data",
          "data": {
            "text/plain": [
              "<Figure size 842.4x595.44 with 1 Axes>"
            ],
            "image/png": "[encoded data removed]"
          },
          "metadata": {}
        }
      ]
    },
    {
      "cell_type": "markdown",
      "source": [
        "## Content Rating v/s Rating"
      ],
      "metadata": {
        "id": "olNz_JhtdK4o"
      }
    },
    {
      "cell_type": "code",
      "source": [
        "#Compairing rating of all categories under content rating using barplot.\n",
        "sns.barplot(x=play_store[\"Content Rating\"], y=play_store[\"Rating\"])\n",
        "sns.set(rc={'figure.figsize':(9,6)})"
      ],
      "metadata": {
        "colab": {
          "base_uri": "https://localhost:8080/",
          "height": 279
        },
        "id": "D4_uLOXvdM9J",
        "outputId": "7c2b6f35-a497-4802-c9ca-ed58b230cf7b"
      },
      "execution_count": null,
      "outputs": [
        {
          "output_type": "display_data",
          "data": {
            "text/plain": [
              "<Figure size 432x288 with 1 Axes>"
            ],
            "image/png": "[encoded data removed]"
          },
          "metadata": {
            "needs_background": "light"
          }
        }
      ]
    },
    {
      "cell_type": "markdown",
      "source": [
        "## Comparision between paid and free apps."
      ],
      "metadata": {
        "id": "Cz3KFnzQ_ntf"
      }
    },
    {
      "cell_type": "code",
      "source": [
        "categoty_type_installs_df = play_store.groupby(['Category','Type'])[['Installs']].sum().unstack().reset_index()\n",
        "categoty_type_installs_df = categoty_type_installs_df[~categoty_type_installs_df['Installs']['Paid'].isna()].set_index('Category')\n",
        "categoty_type_installs_df"
      ],
      "metadata": {
        "colab": {
          "base_uri": "https://localhost:8080/",
          "height": 990
        },
        "id": "ze2xDSwLAzBg",
        "outputId": "ae0dd875-5c25-48ab-af23-a81feb7af70b"
      },
      "execution_count": null,
      "outputs": [
        {
          "output_type": "execute_result",
          "data": {
            "text/plain": [
              "                         Installs            \n",
              "Type                         Free        Paid\n",
              "Category                                     \n",
              "ART_AND_DESIGN       1.142171e+08     16000.0\n",
              "AUTO_AND_VEHICLES    5.307980e+07     50000.0\n",
              "BOOKS_AND_REFERENCE  1.665769e+09     22650.0\n",
              "BUSINESS             6.968055e+08    212660.0\n",
              "COMMUNICATION        1.103688e+10   1360000.0\n",
              "DATING               1.409013e+08     11100.0\n",
              "EDUCATION            3.522500e+08    602000.0\n",
              "ENTERTAINMENT        2.113460e+09    200000.0\n",
              "FAMILY               4.406833e+09  20646830.0\n",
              "FINANCE              4.551268e+08    185600.0\n",
              "FOOD_AND_DRINK       2.116178e+08     60000.0\n",
              "GAME                 1.385776e+10  20999262.0\n",
              "HEALTH_AND_FITNESS   1.143533e+09    473000.0\n",
              "LIFESTYLE            5.025620e+08   1179110.0\n",
              "MAPS_AND_NAVIGATION  5.031465e+08    121100.0\n",
              "MEDICAL              3.759518e+07    557500.0\n",
              "NEWS_AND_MAGAZINES   2.369105e+09      5500.0\n",
              "PARENTING            3.106601e+07     50100.0\n",
              "PERSONALIZATION      1.529094e+09   3258520.0\n",
              "PHOTOGRAPHY          4.647265e+09   1878520.0\n",
              "PRODUCTIVITY         5.791659e+09   1410810.0\n",
              "SHOPPING             1.400321e+09     10100.0\n",
              "SOCIAL               5.487835e+09      6000.0\n",
              "SPORTS               1.095188e+09   1243800.0\n",
              "TOOLS                7.997998e+09   1726820.0\n",
              "TRAVEL_AND_LOCAL     2.894677e+09    182000.0\n",
              "VIDEO_PLAYERS        3.926726e+09     71000.0\n",
              "WEATHER              3.602850e+08    811500.0"
            ],
            "text/html": [
              "\n",
              "  <div id=\"df-98fb9172-4240-45bb-b651-7123184355c1\">\n",
              "    <div class=\"colab-df-container\">\n",
              "      <div>\n",
              "<style scoped>\n",
              "    .dataframe tbody tr th:only-of-type {\n",
              "        vertical-align: middle;\n",
              "    }\n",
              "\n",
              "    .dataframe tbody tr th {\n",
              "        vertical-align: top;\n",
              "    }\n",
              "\n",
              "    .dataframe thead tr th {\n",
              "        text-align: left;\n",
              "    }\n",
              "\n",
              "    .dataframe thead tr:last-of-type th {\n",
              "        text-align: right;\n",
              "    }\n",
              "</style>\n",
              "<table border=\"1\" class=\"dataframe\">\n",
              "  <thead>\n",
              "    <tr>\n",
              "      <th></th>\n",
              "      <th colspan=\"2\" halign=\"left\">Installs</th>\n",
              "    </tr>\n",
              "    <tr>\n",
              "      <th>Type</th>\n",
              "      <th>Free</th>\n",
              "      <th>Paid</th>\n",
              "    </tr>\n",
              "    <tr>\n",
              "      <th>Category</th>\n",
              "      <th></th>\n",
              "      <th></th>\n",
              "    </tr>\n",
              "  </thead>\n",
              "  <tbody>\n",
              "    <tr>\n",
              "      <th>ART_AND_DESIGN</th>\n",
              "      <td>1.142171e+08</td>\n",
              "      <td>16000.0</td>\n",
              "    </tr>\n",
              "    <tr>\n",
              "      <th>AUTO_AND_VEHICLES</th>\n",
              "      <td>5.307980e+07</td>\n",
              "      <td>50000.0</td>\n",
              "    </tr>\n",
              "    <tr>\n",
              "      <th>BOOKS_AND_REFERENCE</th>\n",
              "      <td>1.665769e+09</td>\n",
              "      <td>22650.0</td>\n",
              "    </tr>\n",
              "    <tr>\n",
              "      <th>BUSINESS</th>\n",
              "      <td>6.968055e+08</td>\n",
              "      <td>212660.0</td>\n",
              "    </tr>\n",
              "    <tr>\n",
              "      <th>COMMUNICATION</th>\n",
              "      <td>1.103688e+10</td>\n",
              "      <td>1360000.0</td>\n",
              "    </tr>\n",
              "    <tr>\n",
              "      <th>DATING</th>\n",
              "      <td>1.409013e+08</td>\n",
              "      <td>11100.0</td>\n",
              "    </tr>\n",
              "    <tr>\n",
              "      <th>EDUCATION</th>\n",
              "      <td>3.522500e+08</td>\n",
              "      <td>602000.0</td>\n",
              "    </tr>\n",
              "    <tr>\n",
              "      <th>ENTERTAINMENT</th>\n",
              "      <td>2.113460e+09</td>\n",
              "      <td>200000.0</td>\n",
              "    </tr>\n",
              "    <tr>\n",
              "      <th>FAMILY</th>\n",
              "      <td>4.406833e+09</td>\n",
              "      <td>20646830.0</td>\n",
              "    </tr>\n",
              "    <tr>\n",
              "      <th>FINANCE</th>\n",
              "      <td>4.551268e+08</td>\n",
              "      <td>185600.0</td>\n",
              "    </tr>\n",
              "    <tr>\n",
              "      <th>FOOD_AND_DRINK</th>\n",
              "      <td>2.116178e+08</td>\n",
              "      <td>60000.0</td>\n",
              "    </tr>\n",
              "    <tr>\n",
              "      <th>GAME</th>\n",
              "      <td>1.385776e+10</td>\n",
              "      <td>20999262.0</td>\n",
              "    </tr>\n",
              "    <tr>\n",
              "      <th>HEALTH_AND_FITNESS</th>\n",
              "      <td>1.143533e+09</td>\n",
              "      <td>473000.0</td>\n",
              "    </tr>\n",
              "    <tr>\n",
              "      <th>LIFESTYLE</th>\n",
              "      <td>5.025620e+08</td>\n",
              "      <td>1179110.0</td>\n",
              "    </tr>\n",
              "    <tr>\n",
              "      <th>MAPS_AND_NAVIGATION</th>\n",
              "      <td>5.031465e+08</td>\n",
              "      <td>121100.0</td>\n",
              "    </tr>\n",
              "    <tr>\n",
              "      <th>MEDICAL</th>\n",
              "      <td>3.759518e+07</td>\n",
              "      <td>557500.0</td>\n",
              "    </tr>\n",
              "    <tr>\n",
              "      <th>NEWS_AND_MAGAZINES</th>\n",
              "      <td>2.369105e+09</td>\n",
              "      <td>5500.0</td>\n",
              "    </tr>\n",
              "    <tr>\n",
              "      <th>PARENTING</th>\n",
              "      <td>3.106601e+07</td>\n",
              "      <td>50100.0</td>\n",
              "    </tr>\n",
              "    <tr>\n",
              "      <th>PERSONALIZATION</th>\n",
              "      <td>1.529094e+09</td>\n",
              "      <td>3258520.0</td>\n",
              "    </tr>\n",
              "    <tr>\n",
              "      <th>PHOTOGRAPHY</th>\n",
              "      <td>4.647265e+09</td>\n",
              "      <td>1878520.0</td>\n",
              "    </tr>\n",
              "    <tr>\n",
              "      <th>PRODUCTIVITY</th>\n",
              "      <td>5.791659e+09</td>\n",
              "      <td>1410810.0</td>\n",
              "    </tr>\n",
              "    <tr>\n",
              "      <th>SHOPPING</th>\n",
              "      <td>1.400321e+09</td>\n",
              "      <td>10100.0</td>\n",
              "    </tr>\n",
              "    <tr>\n",
              "      <th>SOCIAL</th>\n",
              "      <td>5.487835e+09</td>\n",
              "      <td>6000.0</td>\n",
              "    </tr>\n",
              "    <tr>\n",
              "      <th>SPORTS</th>\n",
              "      <td>1.095188e+09</td>\n",
              "      <td>1243800.0</td>\n",
              "    </tr>\n",
              "    <tr>\n",
              "      <th>TOOLS</th>\n",
              "      <td>7.997998e+09</td>\n",
              "      <td>1726820.0</td>\n",
              "    </tr>\n",
              "    <tr>\n",
              "      <th>TRAVEL_AND_LOCAL</th>\n",
              "      <td>2.894677e+09</td>\n",
              "      <td>182000.0</td>\n",
              "    </tr>\n",
              "    <tr>\n",
              "      <th>VIDEO_PLAYERS</th>\n",
              "      <td>3.926726e+09</td>\n",
              "      <td>71000.0</td>\n",
              "    </tr>\n",
              "    <tr>\n",
              "      <th>WEATHER</th>\n",
              "      <td>3.602850e+08</td>\n",
              "      <td>811500.0</td>\n",
              "    </tr>\n",
              "  </tbody>\n",
              "</table>\n",
              "</div>\n",
              "      <button class=\"colab-df-convert\" onclick=\"convertToInteractive('df-98fb9172-4240-45bb-b651-7123184355c1')\"\n",
              "              title=\"Convert this dataframe to an interactive table.\"\n",
              "              style=\"display:none;\">\n",
              "        \n",
              "  <svg xmlns=\"http://www.w3.org/2000/svg\" height=\"24px\"viewBox=\"0 0 24 24\"\n",
              "       width=\"24px\">\n",
              "    <path d=\"M0 0h24v24H0V0z\" fill=\"none\"/>\n",
              "    <path d=\"M18.56 5.44l.94 2.06.94-2.06 2.06-.94-2.06-.94-.94-2.06-.94 2.06-2.06.94zm-11 1L8.5 8.5l.94-2.06 2.06-.94-2.06-.94L8.5 2.5l-.94 2.06-2.06.94zm10 10l.94 2.06.94-2.06 2.06-.94-2.06-.94-.94-2.06-.94 2.06-2.06.94z\"/><path d=\"M17.41 7.96l-1.37-1.37c-.4-.4-.92-.59-1.43-.59-.52 0-1.04.2-1.43.59L10.3 9.45l-7.72 7.72c-.78.78-.78 2.05 0 2.83L4 21.41c.39.39.9.59 1.41.59.51 0 1.02-.2 1.41-.59l7.78-7.78 2.81-2.81c.8-.78.8-2.07 0-2.86zM5.41 20L4 18.59l7.72-7.72 1.47 1.35L5.41 20z\"/>\n",
              "  </svg>\n",
              "      </button>\n",
              "      \n",
              "  <style>\n",
              "    .colab-df-container {\n",
              "      display:flex;\n",
              "      flex-wrap:wrap;\n",
              "      gap: 12px;\n",
              "    }\n",
              "\n",
              "    .colab-df-convert {\n",
              "      background-color: #E8F0FE;\n",
              "      border: none;\n",
              "      border-radius: 50%;\n",
              "      cursor: pointer;\n",
              "      display: none;\n",
              "      fill: #1967D2;\n",
              "      height: 32px;\n",
              "      padding: 0 0 0 0;\n",
              "      width: 32px;\n",
              "    }\n",
              "\n",
              "    .colab-df-convert:hover {\n",
              "      background-color: #E2EBFA;\n",
              "      box-shadow: 0px 1px 2px rgba(60, 64, 67, 0.3), 0px 1px 3px 1px rgba(60, 64, 67, 0.15);\n",
              "      fill: #174EA6;\n",
              "    }\n",
              "\n",
              "    [theme=dark] .colab-df-convert {\n",
              "      background-color: #3B4455;\n",
              "      fill: #D2E3FC;\n",
              "    }\n",
              "\n",
              "    [theme=dark] .colab-df-convert:hover {\n",
              "      background-color: #434B5C;\n",
              "      box-shadow: 0px 1px 3px 1px rgba(0, 0, 0, 0.15);\n",
              "      filter: drop-shadow(0px 1px 2px rgba(0, 0, 0, 0.3));\n",
              "      fill: #FFFFFF;\n",
              "    }\n",
              "  </style>\n",
              "\n",
              "      <script>\n",
              "        const buttonEl =\n",
              "          document.querySelector('#df-98fb9172-4240-45bb-b651-7123184355c1 button.colab-df-convert');\n",
              "        buttonEl.style.display =\n",
              "          google.colab.kernel.accessAllowed ? 'block' : 'none';\n",
              "\n",
              "        async function convertToInteractive(key) {\n",
              "          const element = document.querySelector('#df-98fb9172-4240-45bb-b651-7123184355c1');\n",
              "          const dataTable =\n",
              "            await google.colab.kernel.invokeFunction('convertToInteractive',\n",
              "                                                     [key], {});\n",
              "          if (!dataTable) return;\n",
              "\n",
              "          const docLinkHtml = 'Like what you see? Visit the ' +\n",
              "            '<a target=\"_blank\" href=https://colab.research.google.com/notebooks/data_table.ipynb>data table notebook</a>'\n",
              "            + ' to learn more about interactive tables.';\n",
              "          element.innerHTML = '';\n",
              "          dataTable['output_type'] = 'display_data';\n",
              "          await google.colab.output.renderOutput(dataTable, element);\n",
              "          const docLink = document.createElement('div');\n",
              "          docLink.innerHTML = docLinkHtml;\n",
              "          element.appendChild(docLink);\n",
              "        }\n",
              "      </script>\n",
              "    </div>\n",
              "  </div>\n",
              "  "
            ]
          },
          "metadata": {},
          "execution_count": 61
        }
      ]
    },
    {
      "cell_type": "code",
      "source": [
        "ind = categoty_type_installs_df.index\n",
        "column0 = categoty_type_installs_df['Installs']['Paid']\n",
        "column1 = categoty_type_installs_df['Installs']['Free']\n",
        "title0 = 'Paid app install Counts(in millions)'\n",
        "title1 = 'Free app install Counts(in 100 millions)'\n",
        "\n",
        "fig, axes = plt.subplots(figsize=(20,10), ncols=2, sharey=True)\n",
        "fig.tight_layout()\n",
        "\n",
        "axes[0].barh(ind, column0, align='center', color=color_red, zorder=10)\n",
        "axes[0].set_title(title0, fontsize=18, pad=15, color=color_red)\n",
        "axes[1].barh(ind, column1, align='center', color=color_blue, zorder=10)\n",
        "axes[1].set_title(title1, fontsize=18, pad=15, color=color_blue)\n",
        "    \n",
        "# If you have positive numbers and want to invert the x-axis of the left plot\n",
        "axes[0].invert_xaxis() \n",
        "\n",
        "# To show data from highest to lowest\n",
        "# plt.gca().invert_yaxis()\n",
        "axes[0].set(yticks=ind, yticklabels=ind)\n",
        "axes[0].yaxis.tick_left()\n",
        "\n",
        "plt.subplots_adjust(wspace=0, top=0.85, bottom=0.1, left=0.18, right=0.95)"
      ],
      "metadata": {
        "colab": {
          "base_uri": "https://localhost:8080/",
          "height": 630
        },
        "id": "nWx85Be5A2sD",
        "outputId": "ed4f240f-64ab-4515-99be-b67233c5bb23"
      },
      "execution_count": null,
      "outputs": [
        {
          "output_type": "display_data",
          "data": {
            "text/plain": [
              "<Figure size 1440x720 with 2 Axes>"
            ],
            "image/png": "[encoded data removed]"
          },
          "metadata": {
            "needs_background": "light"
          }
        }
      ]
    },
    {
      "cell_type": "markdown",
      "source": [
        "## Paid apps v/s free apps on play store.\n"
      ],
      "metadata": {
        "id": "eAOc9lnWcQQw"
      }
    },
    {
      "cell_type": "code",
      "source": [
        "# Calculating total number of paid and free apps.\n",
        "play_store_df = play_store['Type'].value_counts()\n",
        "play_store_df\n"
      ],
      "metadata": {
        "colab": {
          "base_uri": "https://localhost:8080/"
        },
        "id": "BuF5DYPOa7ML",
        "outputId": "f207f00c-744f-49d9-88a3-eb326f60405f"
      },
      "execution_count": null,
      "outputs": [
        {
          "output_type": "execute_result",
          "data": {
            "text/plain": [
              "Free    10039\n",
              "Paid      800\n",
              "0           1\n",
              "Name: Type, dtype: int64"
            ]
          },
          "metadata": {},
          "execution_count": 12
        }
      ]
    },
    {
      "cell_type": "code",
      "source": [
        "play_store['Type'].value_counts().plot(kind='pie', explode=None, shadow=True,autopct='%1.2f%%', pctdistance=1.3, labeldistance=1.6)"
      ],
      "metadata": {
        "colab": {
          "base_uri": "https://localhost:8080/",
          "height": 374
        },
        "id": "p9QYW_wdbFbv",
        "outputId": "02a9c81b-d519-4803-b0ac-1fe95d23fb8e"
      },
      "execution_count": null,
      "outputs": [
        {
          "output_type": "execute_result",
          "data": {
            "text/plain": [
              "<matplotlib.axes._subplots.AxesSubplot at 0x7f9e8d831ee0>"
            ]
          },
          "metadata": {},
          "execution_count": 44
        },
        {
          "output_type": "display_data",
          "data": {
            "text/plain": [
              "<Figure size 648x432 with 1 Axes>"
            ],
            "image/png": "[encoded data removed]"
          },
          "metadata": {}
        }
      ]
    },
    {
      "cell_type": "markdown",
      "source": [
        "## Rating given by different age categories."
      ],
      "metadata": {
        "id": "rDVWf62HD-08"
      }
    },
    {
      "cell_type": "code",
      "source": [
        "content_rating_df = play_store['Content Rating'].value_counts()\n",
        "content_rating_df"
      ],
      "metadata": {
        "colab": {
          "base_uri": "https://localhost:8080/"
        },
        "id": "KFAzE_0HEHKp",
        "outputId": "74bc24c9-01c2-4a06-ed0b-5c07d4fe8cf9"
      },
      "execution_count": null,
      "outputs": [
        {
          "output_type": "execute_result",
          "data": {
            "text/plain": [
              "Everyone           6618\n",
              "Teen                912\n",
              "Mature 17+          357\n",
              "Everyone 10+        305\n",
              "Adults only 18+       3\n",
              "Unrated               1\n",
              "Name: Content Rating, dtype: int64"
            ]
          },
          "metadata": {},
          "execution_count": 45
        }
      ]
    },
    {
      "cell_type": "code",
      "source": [
        "content_rating_df = [go.Histogram(\n",
        "        x = play_store['Content Rating'],\n",
        "        xbins = {'start': 0.5, 'size': 1, 'end' :6})]\n",
        " \n",
        "plotly.offline.iplot(content_rating_df, filename='Rating')"
      ],
      "metadata": {
        "colab": {
          "base_uri": "https://localhost:8080/",
          "height": 542
        },
        "id": "lEqFCVtTUkzJ",
        "outputId": "2f5e748c-9bb2-4dad-b340-a21e18f21b2d"
      },
      "execution_count": null,
      "outputs": [
        {
          "output_type": "display_data",
          "data": {
            "text/html": [
              "<html>\n",
              "<head><meta charset=\"utf-8\" /></head>\n",
              "<body>\n",
              "    <div>            <script src=\"https://cdnjs.cloudflare.com/ajax/libs/mathjax/2.7.5/MathJax.js?config=TeX-AMS-MML_SVG\"></script><script type=\"text/javascript\">if (window.MathJax) {MathJax.Hub.Config({SVG: {font: \"STIX-Web\"}});}</script>                <script type=\"text/javascript\">window.PlotlyConfig = {MathJaxConfig: 'local'};</script>\n",
              "        <script src=\"https://cdn.plot.ly/plotly-2.8.3.min.js\"></script>                <div id=\"c63f3ba9-06dd-4fa8-a1d0-a6cfafd88f55\" class=\"plotly-graph-div\" style=\"height:525px; width:100%;\"></div>            <script type=\"text/javascript\">                                    window.PLOTLYENV=window.PLOTLYENV || {};                                    if (document.getElementById(\"c63f3ba9-06dd-4fa8-a1d0-a6cfafd88f55\")) {                    Plotly.newPlot(                        \"c63f3ba9-06dd-4fa8-a1d0-a6cfafd88f55\",                        [{\"x\":[\"Everyone\",\"Everyone\",\"Everyone\",\"Teen\",\"Everyone\",\"Everyone\",\"Everyone\",\"Everyone\",\"Everyone\",\"Everyone\",\"Everyone\",\"Everyone\",\"Teen\",\"Everyone\",\"Everyone\",\"Everyone\",\"Everyone\",\"Everyone\",\"Everyone\",\"Everyone\",\"Everyone\",\"Everyone\",\"Everyone 10+\",\"Everyone\",\"Everyone\",\"Everyone\",\"Everyone\",\"Everyone\",\"Everyone\",\"Everyone\",\"Everyone\",\"Everyone\",\"Everyone\",\"Teen\",\"Everyone\",\"Everyone\",\"Everyone\",\"Everyone\",\"Everyone\",\"Everyone\",\"Everyone\",\"Everyone\",\"Everyone\",\"Everyone\",\"Everyone\",\"Everyone\",\"Everyone\",\"Everyone\",\"Everyone\",\"Everyone\",\"Everyone\",\"Everyone\",\"Everyone\",\"Everyone\",\"Everyone\",\"Everyone\",\"Everyone\",\"Everyone\",\"Everyone\",\"Everyone\",\"Everyone\",\"Everyone\",\"Everyone\",\"Everyone\",\"Everyone\",\"Everyone\",\"Everyone\",\"Everyone\",\"Everyone\",\"Everyone\",\"Everyone\",\"Teen\",\"Everyone\",\"Everyone\",\"Everyone\",\"Everyone\",\"Everyone 10+\",\"Everyone\",\"Everyone\",\"Everyone\",\"Everyone\",\"Everyone\",\"Everyone\",\"Everyone\",\"Everyone\",\"Everyone\",\"Everyone\",\"Everyone\",\"Everyone\",\"Everyone\",\"Everyone\",\"Everyone\",\"Everyone\",\"Everyone\",\"Everyone\",\"Everyone\",\"Everyone\",\"Everyone\",\"Everyone\",\"Everyone\",\"Everyone\",\"Everyone\",\"Everyone\",\"Everyone\",\"Everyone\",\"Everyone\",\"Everyone\",\"Everyone\",\"Everyone\",\"Everyone\",\"Everyone\",\"Teen\",\"Everyone\",\"Everyone\",\"Everyone\",\"Everyone\",\"Everyone\",\"Everyone\",\"Everyone\",\"Everyone\",\"Everyone\",\"Everyone\",\"Everyone\",\"Everyone\",\"Everyone\",\"Everyone\",\"Everyone\",\"Mature 17+\",\"Everyone\",\"Everyone\",\"Everyone\",\"Everyone\",\"Teen\",\"Everyone\",\"Everyone 10+\",\"Everyone\",\"Teen\",\"Everyone\",\"Everyone\",\"Teen\",\"Everyone\",\"Teen\",\"Everyone\",\"Everyone\",\"Teen\",\"Teen\",\"Everyone\",\"Everyone\",\"Everyone\",\"Everyone\",\"Teen\",\"Everyone\",\"Everyone\",\"Everyone\",\"Everyone\",\"Everyone\",\"Everyone\",\"Teen\",\"Mature 17+\",\"Everyone\",\"Everyone\",\"Everyone\",\"Mature 17+\",\"Everyone\",\"Everyone\",\"Everyone\",\"Everyone\",\"Everyone\",\"Everyone\",\"Everyone\",\"Everyone\",\"Everyone\",\"Everyone\",\"Everyone\",\"Everyone\",\"Everyone\",\"Everyone 10+\",\"Everyone\",\"Everyone\",\"Everyone\",\"Everyone\",\"Everyone\",\"Everyone\",\"Everyone\",\"Everyone\",\"Everyone\",\"Everyone\",\"Everyone\",\"Everyone\",\"Everyone\",\"Everyone\",\"Everyone\",\"Everyone\",\"Everyone\",\"Everyone\",\"Everyone\",\"Everyone\",\"Everyone\",\"Everyone\",\"Everyone\",\"Everyone\",\"Everyone\",\"Everyone\",\"Everyone\",\"Everyone\",\"Everyone\",\"Everyone\",\"Everyone\",\"Everyone\",\"Everyone\",\"Everyone\",\"Everyone\",\"Everyone\",\"Everyone\",\"Everyone\",\"Everyone\",\"Everyone\",\"Everyone\",\"Everyone\",\"Everyone\",\"Everyone\",\"Everyone\",\"Everyone\",\"Everyone\",\"Everyone\",\"Everyone\",\"Everyone\",\"Everyone\",\"Everyone\",\"Everyone\",\"Everyone\",\"Everyone\",\"Everyone\",\"Everyone\",\"Everyone\",\"Everyone\",\"Everyone\",\"Everyone\",\"Everyone\",\"Everyone\",\"Everyone\",\"Everyone\",\"Everyone\",\"Everyone\",\"Everyone\",\"Everyone\",\"Everyone\",\"Everyone\",\"Everyone\",\"Everyone\",\"Teen\",\"Adults only 18+\",\"Teen\",\"Everyone\",\"Everyone\",\"Mature 17+\",\"Mature 17+\",\"Teen\",\"Teen\",\"Everyone\",\"Everyone\",\"Everyone 10+\",\"Everyone\",\"Teen\",\"Teen\",\"Mature 17+\",\"Mature 17+\",\"Everyone\",\"Teen\",\"Teen\",\"Teen\",\"Teen\",\"Everyone\",\"Everyone\",\"Everyone\",\"Teen\",\"Mature 17+\",\"Teen\",\"Everyone 10+\",\"Mature 17+\",\"Everyone\",\"Everyone\",\"Everyone\",\"Teen\",\"Everyone\",\"Everyone\",\"Everyone\",\"Everyone\",\"Everyone\",\"Teen\",\"Everyone\",\"Everyone\",\"Everyone\",\"Everyone\",\"Everyone\",\"Everyone\",\"Everyone\",\"Everyone\",\"Everyone\",\"Everyone\",\"Everyone\",\"Everyone\",\"Everyone\",\"Everyone\",\"Everyone\",\"Everyone\",\"Everyone\",\"Everyone\",\"Everyone\",\"Everyone\",\"Everyone\",\"Everyone\",\"Everyone\",\"Everyone\",\"Mature 17+\",\"Teen\",\"Everyone\",\"Everyone\",\"Teen\",\"Everyone\",\"Everyone\",\"Everyone\",\"Mature 17+\",\"Everyone\",\"Everyone\",\"Everyone\",\"Everyone\",\"Everyone\",\"Everyone\",\"Teen\",\"Teen\",\"Everyone\",\"Everyone\",\"Everyone\",\"Everyone\",\"Everyone\",\"Everyone\",\"Everyone\",\"Everyone\",\"Everyone\",\"Everyone\",\"Everyone\",\"Everyone\",\"Everyone\",\"Everyone\",\"Everyone\",\"Everyone\",\"Everyone\",\"Everyone\",\"Everyone\",\"Everyone\",\"Everyone\",\"Everyone\",\"Everyone\",\"Everyone\",\"Everyone\",\"Everyone\",\"Everyone\",\"Everyone\",\"Everyone\",\"Everyone\",\"Everyone\",\"Everyone\",\"Everyone\",\"Everyone\",\"Everyone\",\"Mature 17+\",\"Mature 17+\",\"Everyone\",\"Everyone\",\"Everyone\",\"Everyone\",\"Everyone\",\"Everyone\",\"Everyone\",\"Everyone\",\"Everyone\",\"Everyone\",\"Everyone\",\"Everyone\",\"Everyone\",\"Everyone\",\"Everyone\",\"Everyone\",\"Everyone\",\"Everyone\",\"Everyone\",\"Everyone\",\"Everyone\",\"Everyone\",\"Everyone\",\"Everyone\",\"Everyone\",\"Everyone\",\"Mature 17+\",\"Everyone\",\"Mature 17+\",\"Mature 17+\",\"Mature 17+\",\"Mature 17+\",\"Mature 17+\",\"Mature 17+\",\"Mature 17+\",\"Mature 17+\",\"Mature 17+\",\"Mature 17+\",\"Mature 17+\",\"Mature 17+\",\"Mature 17+\",\"Mature 17+\",\"Mature 17+\",\"Mature 17+\",\"Mature 17+\",\"Mature 17+\",\"Mature 17+\",\"Mature 17+\",\"Mature 17+\",\"Mature 17+\",\"Mature 17+\",\"Mature 17+\",\"Mature 17+\",\"Mature 17+\",\"Mature 17+\",\"Mature 17+\",\"Mature 17+\",\"Mature 17+\",\"Mature 17+\",\"Mature 17+\",\"Mature 17+\",\"Mature 17+\",\"Mature 17+\",\"Mature 17+\",\"Mature 17+\",\"Mature 17+\",\"Mature 17+\",\"Mature 17+\",\"Mature 17+\",\"Mature 17+\",\"Mature 17+\",\"Everyone\",\"Mature 17+\",\"Mature 17+\",\"Mature 17+\",\"Teen\",\"Mature 17+\",\"Mature 17+\",\"Mature 17+\",\"Mature 17+\",\"Mature 17+\",\"Mature 17+\",\"Mature 17+\",\"Mature 17+\",\"Mature 17+\",\"Mature 17+\",\"Mature 17+\",\"Mature 17+\",\"Mature 17+\",\"Mature 17+\",\"Mature 17+\",\"Mature 17+\",\"Teen\",\"Mature 17+\",\"Mature 17+\",\"Mature 17+\",\"Mature 17+\",\"Mature 17+\",\"Mature 17+\",\"Mature 17+\",\"Mature 17+\",\"Mature 17+\",\"Mature 17+\",\"Mature 17+\",\"Mature 17+\",\"Mature 17+\",\"Mature 17+\",\"Mature 17+\",\"Mature 17+\",\"Mature 17+\",\"Mature 17+\",\"Mature 17+\",\"Mature 17+\",\"Mature 17+\",\"Mature 17+\",\"Mature 17+\",\"Mature 17+\",\"Mature 17+\",\"Mature 17+\",\"Everyone\",\"Mature 17+\",\"Everyone\",\"Mature 17+\",\"Mature 17+\",\"Mature 17+\",\"Mature 17+\",\"Mature 17+\",\"Mature 17+\",\"Mature 17+\",\"Mature 17+\",\"Mature 17+\",\"Mature 17+\",\"Mature 17+\",\"Mature 17+\",\"Mature 17+\",\"Teen\",\"Mature 17+\",\"Mature 17+\",\"Mature 17+\",\"Mature 17+\",\"Mature 17+\",\"Mature 17+\",\"Mature 17+\",\"Mature 17+\",\"Mature 17+\",\"Mature 17+\",\"Mature 17+\",\"Mature 17+\",\"Mature 17+\",\"Mature 17+\",\"Mature 17+\",\"Mature 17+\",\"Mature 17+\",\"Mature 17+\",\"Mature 17+\",\"Everyone\",\"Everyone 10+\",\"Everyone\",\"Everyone\",\"Everyone\",\"Everyone\",\"Everyone\",\"Everyone\",\"Everyone\",\"Everyone\",\"Everyone\",\"Everyone\",\"Everyone\",\"Everyone\",\"Everyone\",\"Everyone\",\"Everyone\",\"Everyone\",\"Everyone\",\"Everyone\",\"Everyone\",\"Mature 17+\",\"Everyone\",\"Everyone\",\"Mature 17+\",\"Mature 17+\",\"Everyone\",\"Everyone\",\"Everyone\",\"Everyone\",\"Everyone\",\"Everyone\",\"Everyone\",\"Everyone\",\"Everyone\",\"Everyone\",\"Everyone\",\"Everyone\",\"Everyone\",\"Everyone\",\"Everyone\",\"Everyone 10+\",\"Everyone\",\"Everyone\",\"Everyone\",\"Everyone\",\"Everyone\",\"Everyone\",\"Everyone\",\"Everyone\",\"Everyone\",\"Everyone\",\"Everyone\",\"Everyone\",\"Everyone\",\"Everyone\",\"Everyone\",\"Everyone\",\"Everyone\",\"Everyone\",\"Everyone\",\"Everyone\",\"Everyone\",\"Everyone\",\"Everyone\",\"Everyone\",\"Everyone\",\"Everyone\",\"Everyone\",\"Everyone\",\"Everyone\",\"Everyone\",\"Everyone\",\"Everyone\",\"Everyone\",\"Everyone\",\"Everyone\",\"Everyone\",\"Everyone\",\"Everyone\",\"Everyone\",\"Everyone\",\"Everyone\",\"Everyone\",\"Everyone\",\"Everyone\",\"Everyone\",\"Everyone\",\"Everyone 10+\",\"Everyone\",\"Everyone\",\"Everyone\",\"Everyone\",\"Everyone\",\"Everyone\",\"Everyone\",\"Everyone\",\"Everyone\",\"Everyone\",\"Everyone\",\"Everyone\",\"Everyone\",\"Everyone\",\"Everyone\",\"Everyone\",\"Everyone\",\"Everyone\",\"Everyone\",\"Everyone\",\"Everyone\",\"Everyone\",\"Teen\",\"Everyone\",\"Everyone\",\"Everyone\",\"Everyone\",\"Everyone\",\"Everyone\",\"Teen\",\"Everyone\",\"Teen\",\"Teen\",\"Everyone\",\"Everyone\",\"Everyone\",\"Everyone\",\"Everyone\",\"Teen\",\"Teen\",\"Teen\",\"Teen\",\"Everyone\",\"Teen\",\"Everyone\",\"Everyone\",\"Mature 17+\",\"Everyone\",\"Everyone\",\"Teen\",\"Teen\",\"Everyone\",\"Teen\",\"Everyone\",\"Everyone\",\"Everyone\",\"Everyone\",\"Everyone\",\"Everyone\",\"Everyone\",\"Teen\",\"Everyone\",\"Teen\",\"Teen\",\"Teen\",\"Teen\",\"Everyone\",\"Everyone\",\"Teen\",\"Teen\",\"Teen\",\"Everyone\",\"Teen\",\"Everyone\",\"Everyone\",\"Everyone\",\"Teen\",\"Teen\",\"Teen\",\"Teen\",\"Teen\",\"Teen\",\"Teen\",\"Teen\",\"Teen\",\"Mature 17+\",\"Everyone\",\"Teen\",\"Everyone 10+\",\"Teen\",\"Teen\",\"Teen\",\"Teen\",\"Teen\",\"Teen\",\"Teen\",\"Teen\",\"Teen\",\"Teen\",\"Mature 17+\",\"Teen\",\"Teen\",\"Teen\",\"Teen\",\"Everyone\",\"Teen\",\"Everyone 10+\",\"Teen\",\"Teen\",\"Everyone\",\"Mature 17+\",\"Teen\",\"Teen\",\"Teen\",\"Everyone\",\"Teen\",\"Everyone\",\"Teen\",\"Everyone\",\"Teen\",\"Everyone\",\"Everyone\",\"Everyone\",\"Teen\",\"Teen\",\"Teen\",\"Mature 17+\",\"Teen\",\"Mature 17+\",\"Everyone\",\"Everyone\",\"Everyone\",\"Everyone\",\"Everyone\",\"Everyone\",\"Everyone\",\"Teen\",\"Everyone\",\"Everyone\",\"Everyone\",\"Everyone\",\"Everyone\",\"Everyone\",\"Everyone\",\"Everyone\",\"Teen\",\"Everyone\",\"Everyone\",\"Teen\",\"Everyone\",\"Everyone 10+\",\"Everyone\",\"Everyone\",\"Everyone\",\"Everyone\",\"Everyone\",\"Teen\",\"Everyone 10+\",\"Everyone\",\"Everyone\",\"Everyone\",\"Everyone\",\"Everyone\",\"Teen\",\"Everyone\",\"Everyone\",\"Everyone\",\"Everyone\",\"Everyone\",\"Everyone\",\"Everyone\",\"Everyone\",\"Everyone\",\"Everyone\",\"Everyone\",\"Everyone\",\"Everyone\",\"Everyone\",\"Everyone\",\"Everyone\",\"Everyone\",\"Everyone\",\"Everyone\",\"Everyone\",\"Everyone\",\"Everyone\",\"Everyone\",\"Everyone\",\"Everyone\",\"Everyone\",\"Everyone\",\"Everyone\",\"Everyone\",\"Everyone\",\"Everyone\",\"Everyone\",\"Everyone\",\"Everyone\",\"Everyone\",\"Everyone\",\"Everyone\",\"Everyone\",\"Everyone\",\"Everyone\",\"Everyone\",\"Everyone\",\"Everyone\",\"Everyone\",\"Everyone\",\"Everyone\",\"Everyone\",\"Everyone\",\"Everyone\",\"Everyone\",\"Everyone\",\"Everyone\",\"Everyone\",\"Everyone\",\"Everyone\",\"Everyone\",\"Everyone\",\"Everyone\",\"Everyone\",\"Everyone\",\"Everyone\",\"Everyone\",\"Everyone\",\"Everyone\",\"Everyone\",\"Everyone\",\"Everyone\",\"Everyone\",\"Everyone\",\"Everyone\",\"Everyone\",\"Everyone\",\"Everyone\",\"Everyone\",\"Everyone\",\"Everyone\",\"Everyone\",\"Everyone\",\"Everyone\",\"Everyone\",\"Everyone\",\"Everyone\",\"Everyone\",\"Everyone\",\"Everyone\",\"Everyone\",\"Everyone\",\"Everyone\",\"Everyone\",\"Everyone\",\"Everyone\",\"Everyone\",\"Everyone\",\"Everyone\",\"Everyone\",\"Everyone\",\"Everyone\",\"Everyone\",\"Everyone\",\"Everyone\",\"Everyone\",\"Everyone\",\"Everyone\",\"Everyone\",\"Everyone\",\"Everyone\",\"Everyone\",\"Everyone\",\"Everyone\",\"Everyone\",\"Everyone\",\"Everyone\",\"Everyone\",\"Everyone\",\"Everyone\",\"Everyone\",\"Everyone\",\"Everyone\",\"Everyone\",\"Teen\",\"Everyone\",\"Everyone\",\"Everyone\",\"Everyone\",\"Everyone\",\"Everyone\",\"Everyone\",\"Everyone\",\"Everyone\",\"Everyone\",\"Everyone\",\"Everyone\",\"Everyone\",\"Everyone\",\"Everyone\",\"Everyone 10+\",\"Everyone\",\"Everyone\",\"Everyone\",\"Everyone\",\"Everyone\",\"Everyone\",\"Everyone\",\"Everyone\",\"Everyone\",\"Everyone\",\"Everyone\",\"Everyone\",\"Everyone\",\"Everyone\",\"Everyone\",\"Everyone\",\"Teen\",\"Everyone\",\"Everyone\",\"Everyone\",\"Everyone\",\"Teen\",\"Everyone\",\"Everyone\",\"Everyone\",\"Everyone 10+\",\"Everyone\",\"Everyone\",\"Everyone\",\"Everyone\",\"Everyone\",\"Everyone\",\"Everyone\",\"Teen\",\"Everyone\",\"Everyone\",\"Everyone\",\"Teen\",\"Everyone\",\"Everyone\",\"Everyone\",\"Everyone\",\"Everyone\",\"Everyone\",\"Everyone\",\"Everyone\",\"Everyone\",\"Everyone\",\"Everyone\",\"Everyone\",\"Everyone\",\"Everyone\",\"Everyone\",\"Everyone\",\"Everyone\",\"Everyone\",\"Everyone\",\"Everyone\",\"Everyone\",\"Everyone\",\"Everyone\",\"Everyone\",\"Everyone\",\"Everyone\",\"Everyone\",\"Everyone\",\"Everyone\",\"Everyone\",\"Everyone\",\"Everyone\",\"Everyone\",\"Everyone\",\"Everyone\",\"Everyone\",\"Everyone\",\"Everyone\",\"Everyone\",\"Everyone\",\"Teen\",\"Everyone\",\"Everyone\",\"Everyone\",\"Everyone\",\"Everyone\",\"Everyone\",\"Everyone\",\"Everyone\",\"Everyone\",\"Everyone\",\"Everyone\",\"Everyone\",\"Everyone\",\"Everyone\",\"Everyone\",\"Everyone\",\"Mature 17+\",\"Everyone\",\"Teen\",\"Everyone\",\"Teen\",\"Teen\",\"Everyone\",\"Everyone\",\"Everyone\",\"Everyone\",\"Everyone\",\"Everyone\",\"Everyone\",\"Everyone\",\"Teen\",\"Everyone\",\"Everyone\",\"Everyone\",\"Everyone\",\"Everyone\",\"Everyone\",\"Everyone\",\"Everyone\",\"Everyone\",\"Everyone\",\"Everyone\",\"Everyone\",\"Everyone\",\"Everyone\",\"Everyone\",\"Everyone\",\"Everyone\",\"Teen\",\"Everyone\",\"Everyone\",\"Everyone\",\"Everyone\",\"Everyone\",\"Everyone\",\"Everyone\",\"Everyone\",\"Everyone\",\"Everyone\",\"Everyone\",\"Everyone\",\"Everyone\",\"Everyone\",\"Everyone\",\"Teen\",\"Teen\",\"Everyone\",\"Everyone\",\"Everyone 10+\",\"Everyone\",\"Everyone\",\"Everyone\",\"Everyone\",\"Teen\",\"Everyone\",\"Everyone\",\"Everyone\",\"Everyone\",\"Everyone\",\"Teen\",\"Everyone 10+\",\"Everyone\",\"Everyone\",\"Everyone\",\"Everyone\",\"Everyone\",\"Everyone\",\"Everyone\",\"Everyone 10+\",\"Everyone\",\"Everyone\",\"Everyone\",\"Everyone\",\"Everyone\",\"Everyone\",\"Teen\",\"Everyone\",\"Everyone\",\"Everyone\",\"Everyone\",\"Everyone\",\"Everyone\",\"Everyone\",\"Everyone\",\"Teen\",\"Everyone\",\"Everyone\",\"Everyone\",\"Everyone 10+\",\"Everyone\",\"Everyone\",\"Teen\",\"Everyone\",\"Everyone\",\"Everyone\",\"Everyone\",\"Everyone\",\"Everyone\",\"Everyone\",\"Everyone\",\"Everyone\",\"Everyone\",\"Everyone\",\"Everyone\",\"Everyone\",\"Everyone\",\"Everyone\",\"Everyone\",\"Everyone\",\"Everyone\",\"Everyone\",\"Everyone\",\"Everyone\",\"Everyone\",\"Everyone\",\"Everyone\",\"Everyone\",\"Everyone\",\"Teen\",\"Everyone\",\"Everyone\",\"Everyone\",\"Everyone\",\"Everyone\",\"Everyone\",\"Everyone\",\"Everyone\",\"Everyone\",\"Everyone\",\"Teen\",\"Everyone\",\"Everyone\",\"Everyone\",\"Everyone\",\"Everyone\",\"Everyone\",\"Everyone\",\"Everyone\",\"Everyone\",\"Everyone\",\"Everyone\",\"Everyone\",\"Everyone\",\"Everyone\",\"Everyone\",\"Everyone\",\"Everyone\",\"Everyone\",\"Everyone\",\"Everyone\",\"Everyone\",\"Everyone\",\"Everyone\",\"Everyone\",\"Everyone\",\"Everyone\",\"Everyone\",\"Everyone\",\"Everyone\",\"Everyone\",\"Everyone\",\"Everyone\",\"Everyone\",\"Everyone\",\"Everyone\",\"Everyone\",\"Everyone\",\"Everyone\",\"Everyone\",\"Everyone\",\"Everyone\",\"Everyone\",\"Everyone\",\"Everyone\",\"Everyone\",\"Everyone\",\"Everyone\",\"Everyone\",\"Everyone\",\"Everyone\",\"Everyone\",\"Everyone\",\"Everyone\",\"Teen\",\"Everyone\",\"Everyone\",\"Everyone\",\"Everyone\",\"Everyone\",\"Everyone\",\"Everyone\",\"Everyone 10+\",\"Everyone\",\"Everyone\",\"Everyone\",\"Everyone\",\"Everyone\",\"Everyone\",\"Everyone\",\"Everyone\",\"Everyone\",\"Everyone\",\"Everyone\",\"Teen\",\"Everyone\",\"Everyone\",\"Everyone\",\"Everyone\",\"Everyone\",\"Everyone\",\"Everyone\",\"Everyone\",\"Everyone\",\"Everyone\",\"Mature 17+\",\"Everyone\",\"Everyone\",\"Everyone\",\"Everyone\",\"Everyone\",\"Teen\",\"Everyone\",\"Everyone\",\"Everyone\",\"Everyone\",\"Everyone\",\"Everyone\",\"Everyone\",\"Everyone\",\"Everyone\",\"Teen\",\"Everyone\",\"Everyone\",\"Everyone\",\"Everyone\",\"Everyone\",\"Everyone\",\"Everyone\",\"Teen\",\"Everyone\",\"Teen\",\"Everyone\",\"Everyone\",\"Everyone\",\"Everyone\",\"Everyone\",\"Everyone\",\"Everyone\",\"Everyone\",\"Everyone\",\"Everyone\",\"Everyone\",\"Everyone\",\"Everyone\",\"Everyone\",\"Everyone\",\"Everyone\",\"Everyone\",\"Everyone\",\"Everyone\",\"Everyone\",\"Everyone\",\"Everyone\",\"Teen\",\"Everyone 10+\",\"Everyone 10+\",\"Everyone\",\"Everyone\",\"Everyone\",\"Everyone\",\"Everyone\",\"Everyone 10+\",\"Everyone\",\"Everyone\",\"Everyone\",\"Everyone\",\"Everyone\",\"Everyone 10+\",\"Everyone\",\"Everyone\",\"Mature 17+\",\"Everyone 10+\",\"Teen\",\"Everyone\",\"Everyone\",\"Everyone\",\"Everyone\",\"Everyone\",\"Everyone\",\"Everyone\",\"Teen\",\"Everyone\",\"Everyone\",\"Teen\",\"Everyone\",\"Everyone\",\"Everyone 10+\",\"Everyone\",\"Everyone\",\"Everyone\",\"Everyone\",\"Everyone\",\"Everyone\",\"Everyone 10+\",\"Everyone\",\"Everyone 10+\",\"Everyone\",\"Everyone\",\"Everyone\",\"Everyone\",\"Mature 17+\",\"Everyone\",\"Everyone\",\"Everyone\",\"Everyone\",\"Everyone\",\"Everyone\",\"Teen\",\"Teen\",\"Everyone\",\"Everyone\",\"Teen\",\"Everyone\",\"Everyone\",\"Everyone\",\"Everyone\",\"Everyone\",\"Everyone\",\"Everyone\",\"Everyone\",\"Everyone\",\"Everyone\",\"Everyone\",\"Teen\",\"Everyone\",\"Everyone\",\"Everyone\",\"Teen\",\"Teen\",\"Everyone\",\"Teen\",\"Everyone 10+\",\"Everyone\",\"Everyone\",\"Everyone\",\"Everyone\",\"Everyone\",\"Everyone\",\"Everyone\",\"Everyone\",\"Everyone\",\"Everyone\",\"Everyone\",\"Everyone\",\"Teen\",\"Teen\",\"Everyone\",\"Everyone 10+\",\"Everyone 10+\",\"Everyone 10+\",\"Teen\",\"Everyone\",\"Everyone\",\"Everyone\",\"Everyone\",\"Everyone\",\"Teen\",\"Teen\",\"Teen\",\"Teen\",\"Everyone\",\"Teen\",\"Teen\",\"Everyone 10+\",\"Everyone\",\"Everyone\",\"Everyone\",\"Everyone\",\"Teen\",\"Everyone\",\"Everyone\",\"Everyone\",\"Everyone\",\"Teen\",\"Teen\",\"Mature 17+\",\"Everyone\",\"Teen\",\"Teen\",\"Teen\",\"Everyone 10+\",\"Teen\",\"Everyone 10+\",\"Teen\",\"Mature 17+\",\"Teen\",\"Teen\",\"Everyone\",\"Everyone 10+\",\"Everyone\",\"Teen\",\"Everyone\",\"Everyone\",\"Teen\",\"Teen\",\"Everyone\",\"Everyone\",\"Teen\",\"Teen\",\"Everyone\",\"Teen\",\"Everyone 10+\",\"Teen\",\"Everyone\",\"Mature 17+\",\"Everyone 10+\",\"Mature 17+\",\"Teen\",\"Everyone\",\"Teen\",\"Teen\",\"Everyone 10+\",\"Teen\",\"Teen\",\"Teen\",\"Teen\",\"Everyone\",\"Everyone\",\"Everyone\",\"Everyone\",\"Everyone\",\"Everyone\",\"Everyone 10+\",\"Teen\",\"Teen\",\"Everyone\",\"Everyone 10+\",\"Everyone\",\"Teen\",\"Mature 17+\",\"Teen\",\"Teen\",\"Everyone\",\"Everyone 10+\",\"Teen\",\"Teen\",\"Everyone\",\"Everyone\",\"Everyone 10+\",\"Teen\",\"Everyone\",\"Everyone 10+\",\"Everyone 10+\",\"Teen\",\"Everyone\",\"Everyone 10+\",\"Everyone\",\"Everyone 10+\",\"Teen\",\"Everyone\",\"Mature 17+\",\"Teen\",\"Everyone 10+\",\"Everyone 10+\",\"Teen\",\"Teen\",\"Everyone\",\"Everyone\",\"Everyone\",\"Everyone\",\"Everyone\",\"Teen\",\"Everyone\",\"Everyone\",\"Everyone\",\"Everyone\",\"Everyone\",\"Teen\",\"Everyone\",\"Everyone 10+\",\"Everyone\",\"Everyone 10+\",\"Everyone\",\"Everyone\",\"Everyone\",\"Everyone\",\"Everyone\",\"Everyone\",\"Everyone\",\"Everyone\",\"Everyone\",\"Everyone\",\"Everyone\",\"Everyone\",\"Everyone\",\"Everyone\",\"Everyone\",\"Everyone\",\"Everyone\",\"Everyone\",\"Everyone\",\"Everyone\",\"Everyone\",\"Everyone\",\"Everyone\",\"Everyone\",\"Everyone\",\"Everyone\",\"Everyone\",\"Everyone\",\"Everyone\",\"Everyone\",\"Everyone\",\"Everyone\",\"Everyone\",\"Everyone 10+\",\"Everyone\",\"Everyone\",\"Everyone\",\"Everyone\",\"Everyone\",\"Everyone\",\"Everyone\",\"Everyone\",\"Everyone\",\"Everyone\",\"Everyone\",\"Everyone\",\"Everyone\",\"Everyone\",\"Everyone\",\"Everyone\",\"Everyone 10+\",\"Everyone\",\"Everyone\",\"Everyone\",\"Everyone\",\"Everyone 10+\",\"Everyone\",\"Everyone\",\"Everyone\",\"Everyone\",\"Everyone\",\"Everyone\",\"Everyone\",\"Everyone\",\"Everyone\",\"Everyone\",\"Everyone\",\"Everyone\",\"Everyone\",\"Everyone\",\"Everyone\",\"Everyone\",\"Everyone\",\"Everyone\",\"Everyone\",\"Everyone 10+\",\"Everyone\",\"Everyone\",\"Everyone\",\"Everyone\",\"Everyone\",\"Everyone\",\"Everyone\",\"Everyone\",\"Everyone\",\"Everyone\",\"Everyone\",\"Everyone\",\"Everyone\",\"Everyone\",\"Everyone\",\"Everyone\",\"Everyone\",\"Everyone\",\"Everyone\",\"Everyone\",\"Everyone\",\"Everyone\",\"Everyone\",\"Everyone\",\"Everyone\",\"Everyone 10+\",\"Everyone\",\"Everyone\",\"Everyone\",\"Everyone\",\"Everyone\",\"Everyone\",\"Everyone\",\"Everyone\",\"Everyone\",\"Everyone\",\"Everyone\",\"Everyone\",\"Everyone\",\"Everyone\",\"Everyone\",\"Everyone\",\"Everyone\",\"Everyone\",\"Everyone\",\"Everyone\",\"Everyone\",\"Everyone\",\"Everyone\",\"Everyone\",\"Everyone\",\"Everyone\",\"Everyone\",\"Everyone\",\"Everyone\",\"Everyone\",\"Everyone\",\"Everyone\",\"Everyone\",\"Everyone\",\"Everyone\",\"Everyone\",\"Everyone\",\"Everyone\",\"Everyone\",\"Everyone\",\"Everyone\",\"Everyone\",\"Everyone\",\"Everyone\",\"Everyone\",\"Everyone\",\"Everyone\",\"Everyone\",\"Everyone\",\"Everyone\",\"Everyone\",\"Everyone\",\"Everyone\",\"Everyone\",\"Everyone\",\"Everyone\",\"Everyone\",\"Everyone\",\"Everyone\",\"Everyone\",\"Everyone\",\"Everyone\",\"Everyone\",\"Everyone\",\"Everyone\",\"Everyone\",\"Everyone\",\"Everyone\",\"Everyone 10+\",\"Everyone 10+\",\"Everyone\",\"Everyone\",\"Everyone\",\"Everyone\",\"Everyone\",\"Everyone 10+\",\"Everyone\",\"Everyone\",\"Everyone\",\"Mature 17+\",\"Everyone\",\"Everyone\",\"Everyone\",\"Everyone\",\"Everyone\",\"Everyone\",\"Everyone\",\"Everyone\",\"Everyone\",\"Everyone\",\"Everyone\",\"Everyone\",\"Everyone\",\"Everyone\",\"Teen\",\"Everyone\",\"Everyone\",\"Everyone\",\"Everyone\",\"Everyone\",\"Everyone\",\"Everyone\",\"Everyone\",\"Everyone\",\"Everyone\",\"Everyone\",\"Everyone\",\"Everyone\",\"Everyone\",\"Everyone\",\"Everyone\",\"Everyone\",\"Everyone\",\"Everyone\",\"Everyone 10+\",\"Everyone\",\"Everyone\",\"Everyone\",\"Everyone\",\"Everyone\",\"Everyone\",\"Everyone\",\"Everyone\",\"Everyone\",\"Everyone\",\"Everyone\",\"Everyone\",\"Everyone\",\"Everyone\",\"Everyone\",\"Everyone\",\"Everyone\",\"Everyone\",\"Everyone\",\"Everyone\",\"Everyone\",\"Everyone\",\"Everyone\",\"Everyone\",\"Everyone\",\"Everyone\",\"Everyone\",\"Everyone\",\"Everyone\",\"Everyone\",\"Everyone\",\"Everyone\",\"Everyone\",\"Everyone\",\"Everyone\",\"Everyone\",\"Everyone\",\"Everyone\",\"Everyone\",\"Everyone\",\"Everyone\",\"Everyone\",\"Everyone\",\"Everyone\",\"Everyone\",\"Everyone\",\"Everyone\",\"Everyone\",\"Everyone\",\"Everyone\",\"Everyone\",\"Everyone\",\"Everyone\",\"Everyone\",\"Everyone\",\"Everyone\",\"Everyone\",\"Everyone\",\"Everyone\",\"Everyone\",\"Everyone\",\"Everyone\",\"Everyone\",\"Everyone\",\"Everyone\",\"Everyone\",\"Everyone\",\"Everyone\",\"Everyone\",\"Everyone\",\"Everyone\",\"Everyone\",\"Mature 17+\",\"Everyone 10+\",\"Everyone\",\"Everyone\",\"Everyone\",\"Everyone\",\"Everyone\",\"Everyone\",\"Everyone\",\"Everyone\",\"Everyone\",\"Everyone\",\"Everyone\",\"Everyone\",\"Everyone\",\"Everyone\",\"Everyone\",\"Everyone\",\"Everyone\",\"Everyone\",\"Everyone\",\"Everyone\",\"Everyone\",\"Everyone\",\"Everyone\",\"Everyone\",\"Everyone\",\"Everyone\",\"Everyone\",\"Everyone\",\"Everyone\",\"Everyone\",\"Everyone\",\"Everyone\",\"Everyone\",\"Everyone\",\"Everyone\",\"Everyone\",\"Everyone\",\"Everyone\",\"Everyone\",\"Everyone\",\"Everyone\",\"Everyone\",\"Everyone\",\"Everyone\",\"Everyone\",\"Everyone\",\"Everyone\",\"Everyone\",\"Everyone\",\"Everyone\",\"Everyone\",\"Everyone\",\"Everyone\",\"Everyone\",\"Everyone\",\"Everyone\",\"Everyone\",\"Everyone\",\"Everyone\",\"Everyone\",\"Everyone\",\"Everyone\",\"Everyone\",\"Everyone\",\"Everyone\",\"Everyone\",\"Everyone\",\"Everyone\",\"Everyone\",\"Everyone\",\"Mature 17+\",\"Everyone\",\"Everyone\",\"Everyone\",\"Teen\",\"Everyone\",\"Everyone\",\"Everyone\",\"Everyone\",\"Everyone\",\"Mature 17+\",\"Everyone\",\"Everyone\",\"Everyone\",\"Everyone\",\"Everyone\",\"Everyone\",\"Everyone\",\"Teen\",\"Teen\",\"Teen\",\"Everyone\",\"Mature 17+\",\"Everyone\",\"Teen\",\"Everyone\",\"Teen\",\"Everyone\",\"Teen\",\"Everyone\",\"Everyone\",\"Teen\",\"Teen\",\"Everyone\",\"Mature 17+\",\"Everyone\",\"Everyone\",\"Everyone\",\"Everyone\",\"Teen\",\"Teen\",\"Everyone\",\"Everyone\",\"Mature 17+\",\"Everyone\",\"Teen\",\"Teen\",\"Mature 17+\",\"Everyone 10+\",\"Everyone\",\"Everyone\",\"Mature 17+\",\"Mature 17+\",\"Teen\",\"Teen\",\"Everyone\",\"Everyone\",\"Teen\",\"Everyone\",\"Teen\",\"Everyone\",\"Mature 17+\",\"Everyone\",\"Everyone\",\"Everyone\",\"Mature 17+\",\"Mature 17+\",\"Mature 17+\",\"Everyone\",\"Mature 17+\",\"Teen\",\"Mature 17+\",\"Mature 17+\",\"Everyone\",\"Teen\",\"Teen\",\"Teen\",\"Teen\",\"Teen\",\"Teen\",\"Mature 17+\",\"Everyone\",\"Teen\",\"Teen\",\"Mature 17+\",\"Teen\",\"Everyone\",\"Mature 17+\",\"Mature 17+\",\"Mature 17+\",\"Mature 17+\",\"Everyone\",\"Everyone\",\"Mature 17+\",\"Teen\",\"Mature 17+\",\"Mature 17+\",\"Teen\",\"Everyone\",\"Everyone\",\"Everyone\",\"Everyone\",\"Everyone\",\"Teen\",\"Everyone\",\"Teen\",\"Teen\",\"Teen\",\"Everyone\",\"Everyone\",\"Everyone\",\"Everyone\",\"Everyone\",\"Everyone\",\"Everyone\",\"Everyone\",\"Everyone\",\"Teen\",\"Everyone\",\"Everyone\",\"Teen\",\"Everyone\",\"Everyone\",\"Everyone\",\"Everyone\",\"Everyone\",\"Teen\",\"Everyone\",\"Teen\",\"Everyone\",\"Everyone\",\"Everyone\",\"Everyone\",\"Everyone\",\"Everyone\",\"Everyone\",\"Everyone\",\"Everyone\",\"Everyone\",\"Everyone\",\"Everyone\",\"Teen\",\"Everyone\",\"Everyone\",\"Everyone\",\"Teen\",\"Everyone\",\"Everyone\",\"Everyone\",\"Everyone\",\"Everyone\",\"Everyone\",\"Everyone\",\"Everyone\",\"Everyone\",\"Everyone\",\"Everyone\",\"Everyone\",\"Teen\",\"Everyone\",\"Everyone\",\"Everyone\",\"Everyone\",\"Everyone\",\"Everyone\",\"Everyone\",\"Everyone\",\"Everyone\",\"Everyone\",\"Everyone\",\"Everyone\",\"Everyone\",\"Everyone\",\"Everyone\",\"Teen\",\"Everyone\",\"Everyone\",\"Teen\",\"Everyone\",\"Teen\",\"Everyone\",\"Everyone\",\"Everyone\",\"Teen\",\"Everyone\",\"Everyone\",\"Everyone\",\"Everyone\",\"Teen\",\"Everyone\",\"Teen\",\"Everyone\",\"Teen\",\"Everyone\",\"Everyone\",\"Everyone\",\"Everyone\",\"Everyone\",\"Everyone\",\"Everyone\",\"Everyone\",\"Everyone\",\"Everyone\",\"Everyone\",\"Everyone\",\"Everyone\",\"Everyone\",\"Everyone\",\"Everyone\",\"Everyone\",\"Everyone\",\"Everyone\",\"Everyone\",\"Everyone\",\"Everyone\",\"Everyone\",\"Everyone\",\"Everyone\",\"Everyone\",\"Everyone\",\"Everyone\",\"Mature 17+\",\"Everyone\",\"Everyone\",\"Everyone\",\"Everyone\",\"Everyone\",\"Everyone\",\"Everyone\",\"Everyone\",\"Everyone\",\"Everyone\",\"Everyone\",\"Everyone\",\"Everyone\",\"Everyone\",\"Everyone\",\"Everyone\",\"Everyone\",\"Everyone\",\"Everyone\",\"Everyone\",\"Everyone\",\"Everyone\",\"Everyone\",\"Everyone\",\"Everyone\",\"Everyone\",\"Everyone\",\"Everyone\",\"Everyone\",\"Everyone\",\"Teen\",\"Everyone\",\"Mature 17+\",\"Everyone\",\"Everyone\",\"Everyone\",\"Everyone\",\"Everyone\",\"Everyone\",\"Everyone\",\"Everyone\",\"Everyone\",\"Everyone\",\"Everyone\",\"Everyone\",\"Everyone\",\"Everyone\",\"Everyone\",\"Everyone\",\"Everyone\",\"Everyone\",\"Everyone\",\"Everyone\",\"Everyone\",\"Everyone\",\"Everyone\",\"Everyone\",\"Everyone\",\"Everyone\",\"Everyone\",\"Everyone\",\"Everyone\",\"Everyone\",\"Everyone\",\"Everyone\",\"Everyone\",\"Everyone\",\"Everyone\",\"Everyone\",\"Everyone\",\"Everyone\",\"Everyone\",\"Everyone\",\"Everyone\",\"Teen\",\"Everyone\",\"Everyone\",\"Everyone\",\"Everyone\",\"Everyone\",\"Everyone\",\"Everyone\",\"Everyone\",\"Everyone\",\"Everyone\",\"Everyone\",\"Everyone\",\"Everyone\",\"Teen\",\"Everyone\",\"Everyone\",\"Mature 17+\",\"Everyone\",\"Everyone\",\"Everyone\",\"Everyone\",\"Everyone\",\"Everyone\",\"Everyone\",\"Everyone\",\"Everyone\",\"Everyone\",\"Everyone 10+\",\"Everyone\",\"Everyone\",\"Everyone\",\"Everyone\",\"Everyone 10+\",\"Everyone\",\"Everyone\",\"Everyone\",\"Everyone\",\"Everyone\",\"Everyone\",\"Everyone\",\"Everyone\",\"Mature 17+\",\"Everyone\",\"Mature 17+\",\"Everyone\",\"Everyone\",\"Everyone\",\"Everyone\",\"Everyone\",\"Everyone\",\"Everyone\",\"Everyone\",\"Everyone\",\"Everyone\",\"Everyone\",\"Everyone\",\"Everyone\",\"Everyone\",\"Everyone\",\"Everyone 10+\",\"Everyone\",\"Teen\",\"Everyone\",\"Everyone\",\"Everyone\",\"Everyone\",\"Everyone\",\"Everyone\",\"Everyone\",\"Everyone\",\"Everyone\",\"Everyone\",\"Everyone\",\"Everyone\",\"Everyone\",\"Everyone\",\"Everyone\",\"Everyone\",\"Everyone\",\"Everyone\",\"Teen\",\"Everyone\",\"Everyone\",\"Everyone\",\"Everyone\",\"Everyone\",\"Everyone\",\"Everyone\",\"Everyone 10+\",\"Everyone\",\"Everyone\",\"Everyone\",\"Everyone\",\"Everyone\",\"Everyone\",\"Everyone\",\"Mature 17+\",\"Adults only 18+\",\"Everyone\",\"Everyone\",\"Everyone\",\"Everyone\",\"Everyone\",\"Everyone\",\"Everyone\",\"Everyone\",\"Everyone\",\"Everyone\",\"Everyone\",\"Teen\",\"Everyone\",\"Everyone\",\"Everyone\",\"Everyone\",\"Everyone\",\"Everyone\",\"Everyone\",\"Everyone\",\"Everyone\",\"Everyone\",\"Everyone\",\"Everyone\",\"Everyone\",\"Everyone\",\"Everyone\",\"Everyone\",\"Everyone\",\"Everyone\",\"Everyone\",\"Everyone\",\"Everyone\",\"Everyone\",\"Everyone\",\"Everyone\",\"Everyone\",\"Everyone\",\"Everyone\",\"Everyone\",\"Everyone\",\"Everyone\",\"Everyone\",\"Everyone\",\"Everyone\",\"Mature 17+\",\"Everyone\",\"Everyone\",\"Everyone\",\"Everyone\",\"Everyone\",\"Everyone\",\"Everyone\",\"Everyone\",\"Everyone\",\"Everyone\",\"Everyone\",\"Everyone\",\"Everyone\",\"Everyone\",\"Everyone\",\"Everyone\",\"Everyone\",\"Teen\",\"Everyone\",\"Everyone\",\"Everyone\",\"Everyone\",\"Everyone\",\"Everyone\",\"Everyone\",\"Everyone\",\"Everyone\",\"Everyone\",\"Everyone\",\"Everyone\",\"Everyone\",\"Everyone\",\"Everyone\",\"Everyone\",\"Everyone\",\"Everyone\",\"Everyone\",\"Everyone\",\"Everyone\",\"Everyone\",\"Everyone\",\"Everyone\",\"Teen\",\"Everyone\",\"Everyone\",\"Everyone\",\"Everyone\",\"Everyone\",\"Everyone\",\"Everyone\",\"Everyone\",\"Everyone\",\"Everyone\",\"Everyone\",\"Everyone\",\"Everyone\",\"Everyone\",\"Everyone\",\"Everyone\",\"Everyone\",\"Everyone\",\"Teen\",\"Everyone\",\"Everyone\",\"Everyone\",\"Everyone\",\"Everyone\",\"Everyone\",\"Everyone\",\"Everyone\",\"Everyone\",\"Everyone\",\"Everyone\",\"Everyone\",\"Everyone\",\"Everyone\",\"Everyone\",\"Everyone\",\"Teen\",\"Everyone\",\"Everyone\",\"Everyone\",\"Everyone\",\"Everyone\",\"Everyone\",\"Everyone\",\"Everyone\",\"Everyone\",\"Everyone\",\"Everyone\",\"Everyone\",\"Everyone\",\"Everyone\",\"Everyone\",\"Everyone\",\"Everyone\",\"Everyone\",\"Everyone\",\"Everyone\",\"Everyone\",\"Everyone\",\"Everyone\",\"Everyone\",\"Everyone\",\"Everyone\",\"Everyone\",\"Everyone\",\"Everyone\",\"Everyone\",\"Everyone\",\"Everyone\",\"Everyone\",\"Everyone\",\"Everyone\",\"Everyone\",\"Everyone\",\"Everyone\",\"Everyone\",\"Everyone\",\"Everyone\",\"Everyone\",\"Everyone\",\"Everyone\",\"Everyone\",\"Everyone\",\"Everyone\",\"Everyone\",\"Everyone\",\"Everyone\",\"Everyone\",\"Everyone\",\"Everyone\",\"Everyone\",\"Everyone\",\"Everyone\",\"Everyone\",\"Everyone\",\"Everyone\",\"Everyone\",\"Everyone\",\"Everyone\",\"Everyone\",\"Everyone\",\"Everyone\",\"Everyone\",\"Everyone\",\"Everyone\",\"Everyone\",\"Everyone\",\"Everyone\",\"Everyone\",\"Everyone\",\"Everyone\",\"Everyone\",\"Everyone\",\"Everyone\",\"Everyone\",\"Everyone\",\"Everyone\",\"Everyone\",\"Everyone\",\"Everyone\",\"Everyone\",\"Everyone\",\"Everyone\",\"Everyone\",\"Everyone\",\"Everyone\",\"Everyone\",\"Everyone\",\"Everyone\",\"Everyone\",\"Everyone\",\"Everyone\",\"Everyone\",\"Everyone\",\"Everyone\",\"Everyone\",\"Everyone\",\"Everyone\",\"Everyone\",\"Everyone\",\"Everyone\",\"Everyone\",\"Everyone\",\"Everyone\",\"Everyone\",\"Everyone\",\"Everyone\",\"Everyone\",\"Everyone\",\"Everyone\",\"Everyone\",\"Everyone\",\"Everyone\",\"Everyone\",\"Everyone\",\"Everyone 10+\",\"Teen\",\"Everyone\",\"Mature 17+\",\"Everyone\",\"Everyone\",\"Everyone\",\"Teen\",\"Everyone 10+\",\"Everyone\",\"Everyone 10+\",\"Everyone\",\"Everyone\",\"Everyone\",\"Everyone\",\"Everyone\",\"Everyone\",\"Everyone\",\"Teen\",\"Everyone\",\"Everyone\",\"Everyone\",\"Everyone\",\"Everyone\",\"Everyone\",\"Everyone\",\"Everyone\",\"Everyone\",\"Everyone\",\"Everyone\",\"Everyone\",\"Everyone\",\"Everyone\",\"Everyone\",\"Everyone\",\"Everyone\",\"Everyone\",\"Everyone\",\"Everyone\",\"Everyone\",\"Everyone\",\"Everyone\",\"Everyone\",\"Everyone\",\"Everyone\",\"Everyone\",\"Everyone\",\"Everyone\",\"Everyone\",\"Everyone\",\"Everyone\",\"Everyone\",\"Everyone\",\"Everyone\",\"Everyone\",\"Everyone\",\"Everyone\",\"Teen\",\"Everyone\",\"Everyone\",\"Teen\",\"Everyone\",\"Everyone\",\"Everyone\",\"Everyone\",\"Everyone\",\"Everyone\",\"Everyone\",\"Everyone\",\"Teen\",\"Teen\",\"Everyone\",\"Everyone\",\"Everyone\",\"Everyone\",\"Everyone\",\"Everyone\",\"Everyone\",\"Everyone\",\"Everyone\",\"Everyone\",\"Everyone\",\"Everyone\",\"Everyone\",\"Everyone\",\"Everyone\",\"Everyone\",\"Everyone\",\"Everyone\",\"Everyone\",\"Everyone\",\"Everyone\",\"Everyone\",\"Everyone\",\"Everyone\",\"Everyone\",\"Everyone\",\"Everyone\",\"Everyone\",\"Everyone\",\"Everyone\",\"Everyone\",\"Everyone\",\"Everyone\",\"Everyone\",\"Everyone\",\"Everyone\",\"Everyone\",\"Everyone\",\"Everyone\",\"Everyone\",\"Everyone\",\"Everyone\",\"Everyone\",\"Everyone\",\"Everyone\",\"Everyone\",\"Everyone\",\"Everyone\",\"Everyone\",\"Everyone\",\"Everyone\",\"Everyone\",\"Everyone\",\"Everyone\",\"Everyone\",\"Everyone\",\"Everyone\",\"Everyone\",\"Everyone\",\"Everyone\",\"Everyone\",\"Everyone\",\"Everyone\",\"Everyone\",\"Everyone\",\"Everyone\",\"Everyone\",\"Everyone\",\"Everyone\",\"Everyone\",\"Everyone\",\"Everyone\",\"Everyone\",\"Everyone\",\"Everyone\",\"Everyone\",\"Everyone\",\"Everyone\",\"Everyone\",\"Everyone\",\"Everyone\",\"Everyone\",\"Everyone\",\"Everyone\",\"Everyone\",\"Everyone\",\"Everyone\",\"Everyone\",\"Everyone\",\"Everyone\",\"Everyone\",\"Everyone\",\"Everyone\",\"Everyone\",\"Everyone\",\"Everyone\",\"Everyone\",\"Everyone\",\"Everyone\",\"Everyone\",\"Everyone\",\"Everyone\",\"Everyone\",\"Everyone\",\"Everyone\",\"Everyone\",\"Everyone\",\"Everyone\",\"Everyone\",\"Everyone\",\"Everyone\",\"Everyone\",\"Everyone\",\"Everyone\",\"Everyone\",\"Everyone\",\"Everyone\",\"Everyone\",\"Everyone\",\"Everyone\",\"Everyone\",\"Everyone\",\"Everyone\",\"Everyone\",\"Everyone\",\"Everyone\",\"Mature 17+\",\"Everyone\",\"Everyone\",\"Teen\",\"Everyone\",\"Everyone\",\"Everyone\",\"Everyone\",\"Everyone\",\"Everyone\",\"Everyone\",\"Everyone\",\"Everyone\",\"Everyone\",\"Everyone\",\"Everyone\",\"Everyone\",\"Everyone\",\"Everyone\",\"Everyone\",\"Everyone\",\"Everyone\",\"Everyone\",\"Everyone\",\"Everyone\",\"Everyone\",\"Everyone\",\"Everyone\",\"Everyone\",\"Everyone\",\"Everyone\",\"Everyone\",\"Everyone\",\"Everyone\",\"Everyone\",\"Everyone\",\"Everyone\",\"Everyone\",\"Everyone\",\"Everyone\",\"Everyone\",\"Everyone\",\"Everyone\",\"Everyone\",\"Everyone\",\"Everyone\",\"Everyone\",\"Everyone\",\"Everyone\",\"Everyone\",\"Everyone\",\"Everyone\",\"Everyone\",\"Everyone\",\"Everyone\",\"Everyone\",\"Everyone\",\"Everyone\",\"Everyone\",\"Everyone\",\"Everyone\",\"Everyone\",\"Everyone\",\"Everyone\",\"Everyone\",\"Everyone\",\"Everyone\",\"Everyone\",\"Everyone\",\"Everyone\",\"Everyone\",\"Everyone\",\"Teen\",\"Everyone\",\"Everyone\",\"Everyone\",\"Everyone\",\"Teen\",\"Everyone\",\"Everyone\",\"Everyone\",\"Teen\",\"Everyone\",\"Everyone\",\"Everyone\",\"Teen\",\"Everyone\",\"Everyone\",\"Everyone\",\"Teen\",\"Everyone\",\"Teen\",\"Everyone\",\"Everyone\",\"Everyone\",\"Everyone\",\"Teen\",\"Everyone\",\"Teen\",\"Teen\",\"Everyone\",\"Everyone\",\"Everyone\",\"Everyone\",\"Everyone\",\"Teen\",\"Everyone\",\"Everyone\",\"Everyone\",\"Everyone\",\"Everyone\",\"Everyone\",\"Everyone\",\"Everyone\",\"Everyone 10+\",\"Everyone\",\"Everyone\",\"Teen\",\"Teen\",\"Teen\",\"Everyone\",\"Everyone 10+\",\"Teen\",\"Everyone\",\"Everyone 10+\",\"Everyone\",\"Everyone 10+\",\"Everyone\",\"Everyone 10+\",\"Teen\",\"Everyone 10+\",\"Everyone\",\"Everyone\",\"Everyone 10+\",\"Everyone\",\"Teen\",\"Teen\",\"Teen\",\"Teen\",\"Everyone\",\"Everyone\",\"Everyone\",\"Teen\",\"Mature 17+\",\"Everyone\",\"Teen\",\"Teen\",\"Mature 17+\",\"Mature 17+\",\"Everyone\",\"Everyone\",\"Everyone\",\"Everyone 10+\",\"Everyone 10+\",\"Everyone 10+\",\"Mature 17+\",\"Teen\",\"Teen\",\"Everyone\",\"Everyone\",\"Everyone\",\"Everyone\",\"Everyone\",\"Everyone 10+\",\"Everyone 10+\",\"Everyone\",\"Everyone\",\"Teen\",\"Teen\",\"Teen\",\"Teen\",\"Everyone\",\"Everyone\",\"Everyone\",\"Teen\",\"Everyone 10+\",\"Everyone\",\"Everyone 10+\",\"Everyone\",\"Everyone 10+\",\"Mature 17+\",\"Everyone 10+\",\"Everyone 10+\",\"Teen\",\"Everyone 10+\",\"Teen\",\"Teen\",\"Teen\",\"Everyone\",\"Everyone 10+\",\"Everyone\",\"Everyone 10+\",\"Everyone 10+\",\"Everyone 10+\",\"Mature 17+\",\"Everyone 10+\",\"Everyone 10+\",\"Teen\",\"Everyone 10+\",\"Everyone\",\"Everyone\",\"Everyone 10+\",\"Everyone 10+\",\"Teen\",\"Everyone 10+\",\"Everyone\",\"Everyone 10+\",\"Mature 17+\",\"Everyone\",\"Everyone\",\"Everyone\",\"Everyone\",\"Everyone\",\"Everyone\",\"Everyone\",\"Everyone\",\"Everyone\",\"Everyone\",\"Everyone\",\"Everyone\",\"Everyone\",\"Everyone\",\"Everyone\",\"Everyone\",\"Everyone\",\"Everyone\",\"Everyone\",\"Everyone\",\"Everyone\",\"Everyone\",\"Everyone\",\"Everyone\",\"Everyone\",\"Everyone\",\"Everyone\",\"Everyone\",\"Everyone\",\"Everyone\",\"Everyone\",\"Everyone\",\"Everyone\",\"Everyone\",\"Everyone\",\"Everyone\",\"Everyone\",\"Everyone\",\"Everyone\",\"Everyone\",\"Everyone\",\"Everyone\",\"Everyone\",\"Everyone\",\"Everyone\",\"Everyone\",\"Everyone\",\"Everyone\",\"Everyone\",\"Everyone\",\"Everyone\",\"Everyone\",\"Mature 17+\",\"Everyone\",\"Everyone\",\"Teen\",\"Teen\",\"Everyone\",\"Everyone\",\"Everyone\",\"Everyone\",\"Everyone\",\"Everyone\",\"Everyone\",\"Teen\",\"Mature 17+\",\"Everyone\",\"Everyone\",\"Teen\",\"Teen\",\"Everyone\",\"Everyone\",\"Everyone\",\"Everyone\",\"Everyone\",\"Teen\",\"Everyone\",\"Everyone 10+\",\"Everyone\",\"Teen\",\"Mature 17+\",\"Everyone\",\"Everyone\",\"Everyone\",\"Everyone\",\"Everyone\",\"Everyone\",\"Everyone 10+\",\"Everyone\",\"Everyone 10+\",\"Teen\",\"Everyone\",\"Everyone\",\"Everyone\",\"Teen\",\"Everyone 10+\",\"Everyone\",\"Teen\",\"Everyone\",\"Mature 17+\",\"Everyone\",\"Everyone\",\"Teen\",\"Everyone\",\"Everyone\",\"Everyone\",\"Mature 17+\",\"Everyone 10+\",\"Everyone\",\"Everyone\",\"Everyone\",\"Everyone\",\"Everyone\",\"Teen\",\"Everyone\",\"Everyone\",\"Everyone\",\"Everyone\",\"Everyone\",\"Teen\",\"Everyone\",\"Everyone\",\"Everyone\",\"Everyone\",\"Everyone\",\"Everyone\",\"Mature 17+\",\"Everyone\",\"Everyone\",\"Teen\",\"Everyone\",\"Teen\",\"Everyone\",\"Everyone\",\"Everyone 10+\",\"Everyone\",\"Everyone\",\"Everyone\",\"Everyone\",\"Everyone\",\"Everyone\",\"Mature 17+\",\"Everyone\",\"Everyone\",\"Everyone\",\"Everyone\",\"Everyone\",\"Everyone\",\"Everyone\",\"Everyone\",\"Everyone\",\"Everyone\",\"Everyone\",\"Everyone\",\"Everyone\",\"Everyone\",\"Everyone\",\"Everyone\",\"Everyone\",\"Everyone\",\"Everyone\",\"Everyone\",\"Everyone\",\"Everyone\",\"Teen\",\"Teen\",\"Mature 17+\",\"Mature 17+\",\"Everyone\",\"Everyone\",\"Everyone\",\"Everyone 10+\",\"Everyone\",\"Teen\",\"Everyone\",\"Everyone\",\"Everyone\",\"Teen\",\"Everyone\",\"Everyone\",\"Everyone\",\"Everyone\",\"Everyone\",\"Everyone\",\"Everyone\",\"Everyone\",\"Teen\",\"Everyone\",\"Everyone\",\"Everyone\",\"Teen\",\"Teen\",\"Everyone\",\"Everyone\",\"Teen\",\"Mature 17+\",\"Everyone\",\"Everyone\",\"Everyone\",\"Everyone\",\"Everyone\",\"Everyone\",\"Everyone 10+\",\"Everyone\",\"Everyone\",\"Everyone\",\"Everyone\",\"Everyone\",\"Everyone\",\"Teen\",\"Everyone\",\"Everyone\",\"Everyone\",\"Everyone 10+\",\"Everyone\",\"Everyone\",\"Everyone\",\"Everyone\",\"Everyone\",\"Everyone\",\"Everyone\",\"Everyone\",\"Everyone\",\"Everyone\",\"Everyone\",\"Teen\",\"Everyone\",\"Teen\",\"Everyone\",\"Teen\",\"Everyone\",\"Everyone\",\"Everyone\",\"Everyone\",\"Everyone\",\"Everyone\",\"Everyone\",\"Everyone\",\"Mature 17+\",\"Everyone\",\"Everyone\",\"Everyone\",\"Everyone\",\"Everyone\",\"Everyone\",\"Teen\",\"Everyone\",\"Teen\",\"Everyone\",\"Everyone\",\"Everyone\",\"Everyone\",\"Everyone\",\"Everyone\",\"Everyone\",\"Everyone\",\"Everyone\",\"Everyone\",\"Everyone\",\"Everyone\",\"Everyone\",\"Everyone\",\"Everyone\",\"Everyone\",\"Everyone\",\"Everyone\",\"Everyone\",\"Everyone\",\"Everyone\",\"Everyone\",\"Everyone\",\"Everyone\",\"Everyone\",\"Mature 17+\",\"Everyone\",\"Everyone\",\"Everyone\",\"Everyone\",\"Mature 17+\",\"Everyone\",\"Everyone\",\"Everyone\",\"Everyone\",\"Everyone\",\"Everyone 10+\",\"Everyone\",\"Everyone\",\"Everyone\",\"Everyone\",\"Everyone\",\"Everyone\",\"Everyone\",\"Everyone\",\"Everyone\",\"Everyone\",\"Everyone\",\"Everyone\",\"Everyone\",\"Everyone\",\"Everyone\",\"Everyone\",\"Everyone\",\"Everyone\",\"Everyone\",\"Everyone\",\"Everyone\",\"Everyone\",\"Everyone\",\"Everyone\",\"Everyone\",\"Everyone\",\"Teen\",\"Everyone\",\"Everyone\",\"Everyone\",\"Everyone\",\"Everyone 10+\",\"Everyone\",\"Everyone\",\"Teen\",\"Everyone\",\"Everyone\",\"Everyone\",\"Teen\",\"Everyone\",\"Everyone\",\"Everyone\",\"Everyone\",\"Everyone\",\"Everyone\",\"Everyone\",\"Everyone\",\"Everyone\",\"Everyone\",\"Mature 17+\",\"Everyone\",\"Everyone\",\"Everyone\",\"Teen\",\"Teen\",\"Everyone\",\"Everyone\",\"Everyone\",\"Everyone\",\"Teen\",\"Everyone\",\"Everyone\",\"Teen\",\"Everyone\",\"Everyone\",\"Teen\",\"Everyone\",\"Mature 17+\",\"Everyone\",\"Everyone\",\"Everyone\",\"Everyone\",\"Everyone\",\"Everyone\",\"Everyone\",\"Everyone\",\"Everyone\",\"Everyone\",\"Everyone\",\"Teen\",\"Everyone\",\"Everyone\",\"Mature 17+\",\"Everyone\",\"Everyone\",\"Everyone 10+\",\"Everyone 10+\",\"Everyone\",\"Everyone\",\"Everyone\",\"Everyone\",\"Everyone\",\"Everyone\",\"Teen\",\"Everyone\",\"Everyone\",\"Everyone\",\"Everyone\",\"Everyone\",\"Everyone\",\"Everyone\",\"Everyone\",\"Mature 17+\",\"Everyone\",\"Everyone\",\"Everyone\",\"Everyone\",\"Everyone\",\"Everyone\",\"Everyone 10+\",\"Everyone\",\"Everyone\",\"Everyone\",\"Everyone\",\"Everyone\",\"Everyone\",\"Everyone\",\"Everyone\",\"Everyone\",\"Everyone\",\"Everyone\",\"Everyone\",\"Everyone\",\"Everyone\",\"Everyone\",\"Everyone\",\"Everyone\",\"Everyone\",\"Everyone\",\"Everyone\",\"Everyone\",\"Everyone\",\"Everyone\",\"Everyone\",\"Everyone\",\"Teen\",\"Everyone\",\"Everyone 10+\",\"Everyone 10+\",\"Teen\",\"Everyone\",\"Everyone\",\"Everyone\",\"Everyone 10+\",\"Everyone\",\"Everyone\",\"Everyone 10+\",\"Everyone\",\"Everyone\",\"Everyone\",\"Everyone\",\"Everyone 10+\",\"Teen\",\"Everyone 10+\",\"Everyone\",\"Everyone 10+\",\"Everyone\",\"Everyone\",\"Everyone\",\"Everyone\",\"Everyone\",\"Everyone\",\"Everyone\",\"Everyone\",\"Everyone\",\"Everyone\",\"Teen\",\"Everyone\",\"Everyone\",\"Everyone 10+\",\"Everyone\",\"Everyone\",\"Everyone\",\"Everyone 10+\",\"Everyone\",\"Teen\",\"Teen\",\"Everyone\",\"Everyone\",\"Everyone\",\"Everyone\",\"Everyone\",\"Everyone\",\"Everyone\",\"Everyone\",\"Everyone\",\"Everyone\",\"Mature 17+\",\"Everyone\",\"Everyone\",\"Everyone\",\"Everyone\",\"Everyone\",\"Everyone\",\"Teen\",\"Everyone\",\"Everyone\",\"Everyone\",\"Everyone\",\"Everyone\",\"Everyone\",\"Everyone\",\"Everyone\",\"Everyone\",\"Everyone\",\"Mature 17+\",\"Everyone\",\"Everyone\",\"Everyone\",\"Everyone\",\"Everyone\",\"Everyone\",\"Everyone\",\"Everyone\",\"Everyone\",\"Everyone\",\"Everyone\",\"Everyone\",\"Everyone\",\"Everyone\",\"Everyone\",\"Everyone\",\"Everyone\",\"Everyone\",\"Everyone\",\"Everyone\",\"Everyone\",\"Everyone\",\"Everyone\",\"Everyone\",\"Everyone\",\"Everyone\",\"Mature 17+\",\"Everyone\",\"Everyone\",\"Everyone\",\"Everyone\",\"Teen\",\"Everyone\",\"Everyone\",\"Everyone\",\"Everyone\",\"Teen\",\"Teen\",\"Everyone\",\"Everyone\",\"Everyone\",\"Teen\",\"Everyone\",\"Everyone\",\"Everyone\",\"Everyone\",\"Everyone\",\"Everyone\",\"Everyone\",\"Everyone\",\"Everyone\",\"Everyone\",\"Everyone\",\"Everyone\",\"Everyone\",\"Everyone\",\"Everyone\",\"Everyone\",\"Everyone\",\"Everyone\",\"Everyone\",\"Everyone\",\"Everyone\",\"Everyone\",\"Everyone\",\"Everyone\",\"Everyone\",\"Everyone\",\"Everyone\",\"Everyone\",\"Everyone\",\"Everyone\",\"Everyone\",\"Everyone\",\"Everyone\",\"Everyone\",\"Everyone\",\"Everyone\",\"Teen\",\"Teen\",\"Everyone\",\"Teen\",\"Everyone\",\"Everyone\",\"Mature 17+\",\"Everyone\",\"Everyone\",\"Everyone\",\"Everyone\",\"Everyone\",\"Everyone\",\"Everyone\",\"Everyone\",\"Teen\",\"Everyone\",\"Everyone\",\"Everyone\",\"Everyone\",\"Teen\",\"Teen\",\"Everyone\",\"Everyone\",\"Everyone\",\"Everyone\",\"Mature 17+\",\"Everyone\",\"Everyone\",\"Everyone\",\"Everyone\",\"Everyone\",\"Everyone\",\"Everyone\",\"Everyone\",\"Everyone\",\"Everyone\",\"Everyone\",\"Everyone\",\"Everyone\",\"Everyone\",\"Everyone\",\"Everyone\",\"Everyone\",\"Everyone\",\"Teen\",\"Teen\",\"Everyone\",\"Everyone\",\"Teen\",\"Everyone\",\"Everyone\",\"Teen\",\"Everyone\",\"Everyone 10+\",\"Everyone\",\"Everyone\",\"Everyone\",\"Everyone\",\"Everyone\",\"Everyone\",\"Mature 17+\",\"Everyone\",\"Teen\",\"Everyone 10+\",\"Mature 17+\",\"Everyone\",\"Mature 17+\",\"Everyone\",\"Everyone\",\"Everyone\",\"Everyone\",\"Everyone\",\"Everyone\",\"Everyone\",\"Everyone\",\"Everyone\",\"Everyone\",\"Everyone 10+\",\"Everyone\",\"Everyone\",\"Everyone\",\"Everyone\",\"Mature 17+\",\"Everyone\",\"Teen\",\"Everyone\",\"Everyone\",\"Everyone\",\"Everyone\",\"Everyone\",\"Teen\",\"Mature 17+\",\"Everyone\",\"Everyone\",\"Everyone\",\"Teen\",\"Everyone\",\"Everyone\",\"Everyone\",\"Everyone\",\"Everyone\",\"Teen\",\"Teen\",\"Teen\",\"Everyone\",\"Teen\",\"Teen\",\"Everyone 10+\",\"Mature 17+\",\"Teen\",\"Everyone\",\"Everyone\",\"Everyone\",\"Everyone\",\"Everyone\",\"Teen\",\"Everyone\",\"Everyone\",\"Mature 17+\",\"Everyone\",\"Everyone\",\"Teen\",\"Everyone\",\"Everyone\",\"Teen\",\"Everyone\",\"Everyone\",\"Everyone 10+\",\"Everyone\",\"Everyone\",\"Teen\",\"Everyone\",\"Everyone\",\"Everyone\",\"Mature 17+\",\"Mature 17+\",\"Mature 17+\",\"Teen\",\"Everyone\",\"Everyone\",\"Everyone\",\"Everyone\",\"Everyone\",\"Everyone\",\"Everyone 10+\",\"Everyone\",\"Everyone\",\"Everyone\",\"Everyone\",\"Everyone\",\"Everyone\",\"Everyone\",\"Everyone\",\"Everyone\",\"Everyone\",\"Everyone\",\"Everyone\",\"Everyone\",\"Everyone\",\"Teen\",\"Everyone\",\"Everyone\",\"Everyone\",\"Everyone\",\"Everyone\",\"Everyone\",\"Everyone\",\"Everyone\",\"Everyone\",\"Everyone\",\"Everyone\",\"Everyone\",\"Everyone\",\"Everyone\",\"Everyone\",\"Everyone\",\"Everyone\",\"Everyone\",\"Everyone\",\"Everyone\",\"Teen\",\"Everyone\",\"Teen\",\"Everyone 10+\",\"Everyone\",\"Everyone\",\"Everyone\",\"Everyone\",\"Everyone\",\"Everyone\",\"Everyone\",\"Teen\",\"Teen\",\"Everyone\",\"Everyone\",\"Everyone\",\"Everyone\",\"Mature 17+\",\"Everyone\",\"Everyone\",\"Everyone\",\"Everyone\",\"Everyone\",\"Everyone\",\"Everyone\",\"Everyone\",\"Teen\",\"Everyone\",\"Everyone\",\"Everyone\",\"Teen\",\"Teen\",\"Teen\",\"Everyone\",\"Everyone\",\"Teen\",\"Teen\",\"Everyone\",\"Teen\",\"Everyone\",\"Everyone\",\"Teen\",\"Everyone\",\"Teen\",\"Mature 17+\",\"Teen\",\"Teen\",\"Everyone 10+\",\"Teen\",\"Everyone\",\"Teen\",\"Teen\",\"Mature 17+\",\"Teen\",\"Everyone\",\"Teen\",\"Teen\",\"Everyone\",\"Everyone\",\"Teen\",\"Everyone\",\"Everyone 10+\",\"Mature 17+\",\"Teen\",\"Everyone\",\"Teen\",\"Teen\",\"Everyone\",\"Teen\",\"Everyone\",\"Everyone\",\"Everyone\",\"Teen\",\"Everyone 10+\",\"Everyone\",\"Everyone\",\"Everyone\",\"Teen\",\"Everyone\",\"Everyone\",\"Everyone\",\"Everyone\",\"Everyone\",\"Everyone\",\"Everyone\",\"Everyone\",\"Everyone\",\"Everyone\",\"Everyone\",\"Everyone\",\"Everyone\",\"Everyone\",\"Everyone\",\"Everyone\",\"Everyone\",\"Everyone\",\"Everyone\",\"Everyone\",\"Everyone\",\"Everyone\",\"Everyone\",\"Everyone\",\"Everyone\",\"Everyone\",\"Everyone\",\"Everyone\",\"Everyone\",\"Everyone\",\"Everyone\",\"Everyone\",\"Everyone\",\"Everyone\",\"Everyone\",\"Everyone\",\"Everyone\",\"Everyone\",\"Everyone\",\"Everyone\",\"Everyone\",\"Teen\",\"Everyone\",\"Everyone\",\"Everyone\",\"Everyone\",\"Everyone\",\"Everyone\",\"Everyone\",\"Everyone\",\"Everyone\",\"Everyone\",\"Everyone\",\"Everyone\",\"Everyone\",\"Everyone\",\"Everyone\",\"Everyone\",\"Everyone\",\"Everyone\",\"Everyone\",\"Everyone\",\"Everyone\",\"Everyone\",\"Everyone\",\"Everyone\",\"Everyone\",\"Everyone\",\"Everyone\",\"Everyone\",\"Everyone\",\"Everyone\",\"Everyone\",\"Everyone\",\"Everyone\",\"Everyone\",\"Everyone\",\"Everyone\",\"Everyone\",\"Everyone\",\"Everyone\",\"Everyone\",\"Everyone\",\"Everyone\",\"Everyone\",\"Everyone\",\"Everyone\",\"Everyone\",\"Everyone\",\"Everyone\",\"Everyone\",\"Everyone\",\"Everyone\",\"Everyone\",\"Everyone\",\"Everyone\",\"Everyone\",\"Teen\",\"Everyone\",\"Everyone\",\"Everyone\",\"Everyone\",\"Everyone\",\"Everyone\",\"Everyone\",\"Everyone\",\"Everyone\",\"Everyone\",\"Everyone\",\"Everyone\",\"Everyone\",\"Everyone\",\"Everyone\",\"Everyone\",\"Everyone\",\"Everyone\",\"Everyone\",\"Everyone\",\"Everyone\",\"Everyone\",\"Everyone\",\"Everyone\",\"Everyone\",\"Everyone\",\"Everyone\",\"Everyone\",\"Everyone\",\"Everyone\",\"Everyone\",\"Everyone\",\"Everyone\",\"Everyone\",\"Everyone\",\"Teen\",\"Everyone\",\"Everyone\",\"Teen\",\"Everyone\",\"Everyone\",\"Everyone\",\"Teen\",\"Teen\",\"Everyone\",\"Everyone\",\"Teen\",\"Everyone\",\"Everyone\",\"Everyone\",\"Everyone\",\"Everyone\",\"Everyone\",\"Everyone 10+\",\"Everyone 10+\",\"Everyone\",\"Everyone\",\"Everyone 10+\",\"Everyone\",\"Everyone\",\"Everyone\",\"Everyone\",\"Everyone\",\"Everyone\",\"Everyone\",\"Everyone\",\"Everyone\",\"Everyone\",\"Everyone\",\"Everyone\",\"Everyone\",\"Everyone\",\"Everyone\",\"Everyone\",\"Everyone\",\"Everyone\",\"Everyone\",\"Teen\",\"Everyone\",\"Everyone\",\"Mature 17+\",\"Everyone\",\"Everyone\",\"Everyone\",\"Everyone\",\"Everyone\",\"Everyone\",\"Everyone\",\"Everyone\",\"Everyone\",\"Everyone\",\"Everyone\",\"Everyone\",\"Everyone\",\"Teen\",\"Everyone\",\"Teen\",\"Teen\",\"Everyone\",\"Everyone 10+\",\"Everyone\",\"Everyone\",\"Everyone\",\"Everyone\",\"Everyone\",\"Everyone\",\"Everyone\",\"Everyone\",\"Everyone\",\"Everyone\",\"Everyone\",\"Everyone\",\"Everyone\",\"Everyone\",\"Everyone\",\"Everyone\",\"Everyone\",\"Everyone\",\"Everyone\",\"Everyone\",\"Teen\",\"Everyone\",\"Everyone\",\"Everyone\",\"Everyone\",\"Everyone\",\"Everyone\",\"Everyone\",\"Everyone\",\"Everyone\",\"Everyone\",\"Everyone\",\"Everyone\",\"Everyone\",\"Everyone\",\"Everyone\",\"Teen\",\"Everyone\",\"Everyone\",\"Everyone\",\"Teen\",\"Everyone\",\"Everyone\",\"Everyone\",\"Mature 17+\",\"Everyone\",\"Everyone\",\"Everyone\",\"Everyone\",\"Everyone\",\"Everyone\",\"Everyone\",\"Everyone\",\"Everyone 10+\",\"Everyone\",\"Everyone\",\"Everyone\",\"Everyone\",\"Everyone\",\"Everyone\",\"Everyone\",\"Everyone\",\"Everyone\",\"Everyone\",\"Everyone\",\"Everyone\",\"Everyone\",\"Everyone\",\"Everyone\",\"Everyone\",\"Everyone\",\"Everyone\",\"Everyone\",\"Everyone\",\"Everyone\",\"Everyone\",\"Everyone\",\"Everyone\",\"Everyone\",\"Everyone\",\"Everyone\",\"Everyone\",\"Everyone\",\"Everyone\",\"Everyone\",\"Everyone\",\"Everyone\",\"Teen\",\"Everyone\",\"Everyone\",\"Everyone\",\"Everyone\",\"Everyone\",\"Everyone\",\"Everyone\",\"Everyone\",\"Teen\",\"Everyone\",\"Everyone\",\"Everyone\",\"Everyone\",\"Everyone\",\"Everyone\",\"Everyone\",\"Everyone\",\"Everyone\",\"Everyone\",\"Everyone\",\"Everyone\",\"Everyone\",\"Everyone\",\"Everyone\",\"Everyone\",\"Everyone 10+\",\"Everyone 10+\",\"Everyone\",\"Everyone\",\"Everyone\",\"Everyone\",\"Teen\",\"Teen\",\"Teen\",\"Everyone\",\"Everyone\",\"Everyone\",\"Everyone\",\"Everyone\",\"Everyone\",\"Teen\",\"Everyone\",\"Everyone\",\"Mature 17+\",\"Everyone\",\"Everyone\",\"Teen\",\"Everyone\",\"Teen\",\"Everyone\",\"Everyone\",\"Teen\",\"Everyone 10+\",\"Everyone\",\"Everyone\",\"Everyone 10+\",\"Everyone\",\"Everyone\",\"Everyone\",\"Everyone\",\"Everyone\",\"Everyone\",\"Everyone\",\"Everyone\",\"Everyone\",\"Teen\",\"Everyone\",\"Everyone\",\"Everyone\",\"Everyone\",\"Everyone\",\"Everyone\",\"Everyone\",\"Everyone\",\"Everyone\",\"Everyone\",\"Everyone\",\"Everyone\",\"Everyone\",\"Everyone\",\"Everyone\",\"Everyone\",\"Everyone\",\"Everyone 10+\",\"Everyone\",\"Everyone\",\"Everyone\",\"Everyone\",\"Everyone\",\"Everyone\",\"Everyone\",\"Everyone\",\"Everyone\",\"Everyone\",\"Everyone\",\"Everyone\",\"Everyone\",\"Everyone\",\"Everyone\",\"Everyone\",\"Everyone\",\"Teen\",\"Teen\",\"Everyone\",\"Everyone\",\"Everyone\",\"Everyone\",\"Everyone\",\"Everyone\",\"Everyone\",\"Everyone\",\"Everyone\",\"Everyone\",\"Everyone\",\"Everyone\",\"Everyone\",\"Everyone\",\"Everyone 10+\",\"Everyone\",\"Teen\",\"Everyone\",\"Everyone\",\"Everyone\",\"Everyone 10+\",\"Everyone\",\"Everyone\",\"Everyone\",\"Teen\",\"Everyone\",\"Everyone\",\"Everyone\",\"Everyone 10+\",\"Everyone\",\"Everyone\",\"Everyone\",\"Everyone\",\"Everyone\",\"Everyone\",\"Everyone\",\"Teen\",\"Everyone\",\"Teen\",\"Everyone\",\"Mature 17+\",\"Everyone\",\"Everyone\",\"Teen\",\"Everyone\",\"Teen\",\"Teen\",\"Mature 17+\",\"Everyone\",\"Teen\",\"Mature 17+\",\"Teen\",\"Everyone\",\"Mature 17+\",\"Teen\",\"Everyone\",\"Everyone 10+\",\"Teen\",\"Everyone 10+\",\"Mature 17+\",\"Everyone\",\"Everyone\",\"Teen\",\"Mature 17+\",\"Everyone\",\"Everyone\",\"Everyone\",\"Everyone\",\"Mature 17+\",\"Everyone\",\"Teen\",\"Everyone\",\"Everyone\",\"Everyone\",\"Teen\",\"Everyone\",\"Everyone\",\"Everyone\",\"Everyone\",\"Everyone\",\"Everyone\",\"Everyone\",\"Everyone\",\"Everyone\",\"Everyone\",\"Everyone\",\"Everyone\",\"Everyone\",\"Everyone\",\"Everyone\",\"Everyone\",\"Everyone\",\"Everyone\",\"Everyone\",\"Everyone\",\"Everyone\",\"Everyone\",\"Everyone\",\"Everyone\",\"Everyone\",\"Everyone\",\"Everyone\",\"Everyone\",\"Everyone\",\"Everyone\",\"Everyone\",\"Everyone\",\"Everyone\",\"Teen\",\"Mature 17+\",\"Everyone\",\"Everyone\",\"Teen\",\"Everyone\",\"Everyone 10+\",\"Everyone 10+\",\"Everyone\",\"Everyone\",\"Everyone\",\"Everyone\",\"Everyone\",\"Everyone\",\"Everyone\",\"Everyone\",\"Everyone\",\"Mature 17+\",\"Everyone\",\"Everyone\",\"Everyone 10+\",\"Everyone 10+\",\"Teen\",\"Everyone 10+\",\"Teen\",\"Everyone\",\"Mature 17+\",\"Teen\",\"Teen\",\"Teen\",\"Teen\",\"Everyone\",\"Mature 17+\",\"Everyone\",\"Everyone\",\"Everyone\",\"Everyone 10+\",\"Everyone\",\"Teen\",\"Everyone 10+\",\"Everyone\",\"Everyone\",\"Everyone\",\"Everyone\",\"Everyone\",\"Everyone\",\"Everyone\",\"Everyone\",\"Teen\",\"Everyone\",\"Everyone\",\"Everyone\",\"Everyone\",\"Everyone 10+\",\"Everyone\",\"Everyone\",\"Everyone\",\"Everyone\",\"Everyone\",\"Everyone\",\"Everyone\",\"Everyone\",\"Everyone\",\"Everyone\",\"Teen\",\"Everyone\",\"Everyone\",\"Everyone\",\"Everyone\",\"Everyone\",\"Everyone\",\"Everyone\",\"Everyone\",\"Everyone\",\"Everyone\",\"Everyone\",\"Everyone\",\"Everyone 10+\",\"Everyone\",\"Everyone 10+\",\"Everyone\",\"Everyone\",\"Everyone\",\"Teen\",\"Everyone\",\"Everyone\",\"Everyone\",\"Everyone\",\"Everyone\",\"Everyone\",\"Everyone\",\"Everyone 10+\",\"Everyone\",\"Everyone\",\"Everyone\",\"Everyone\",\"Everyone\",\"Teen\",\"Everyone\",\"Everyone\",\"Everyone\",\"Everyone 10+\",\"Teen\",\"Teen\",\"Teen\",\"Mature 17+\",\"Everyone 10+\",\"Everyone 10+\",\"Teen\",\"Teen\",\"Everyone\",\"Teen\",\"Everyone\",\"Teen\",\"Everyone\",\"Teen\",\"Teen\",\"Teen\",\"Teen\",\"Teen\",\"Teen\",\"Teen\",\"Teen\",\"Everyone 10+\",\"Teen\",\"Teen\",\"Teen\",\"Teen\",\"Everyone 10+\",\"Teen\",\"Everyone\",\"Teen\",\"Teen\",\"Teen\",\"Everyone\",\"Teen\",\"Mature 17+\",\"Everyone\",\"Everyone\",\"Everyone\",\"Everyone\",\"Everyone\",\"Everyone\",\"Everyone\",\"Everyone\",\"Everyone\",\"Everyone\",\"Everyone\",\"Everyone\",\"Everyone\",\"Everyone\",\"Everyone\",\"Everyone\",\"Everyone\",\"Everyone\",\"Everyone\",\"Everyone\",\"Everyone\",\"Teen\",\"Everyone\",\"Everyone\",\"Everyone\",\"Teen\",\"Everyone\",\"Teen\",\"Everyone\",\"Everyone\",\"Everyone\",\"Everyone\",\"Everyone\",\"Everyone\",\"Teen\",\"Everyone\",\"Everyone\",\"Everyone\",\"Teen\",\"Everyone\",\"Everyone\",\"Everyone\",\"Everyone\",\"Everyone\",\"Everyone\",\"Everyone\",\"Teen\",\"Everyone\",\"Everyone\",\"Everyone\",\"Everyone\",\"Everyone\",\"Everyone\",\"Everyone\",\"Everyone\",\"Everyone\",\"Everyone\",\"Everyone\",\"Everyone\",\"Everyone\",\"Everyone\",\"Everyone\",\"Everyone\",\"Everyone\",\"Teen\",\"Everyone\",\"Everyone\",\"Everyone\",\"Everyone\",\"Everyone\",\"Everyone\",\"Everyone\",\"Everyone\",\"Everyone\",\"Everyone\",\"Everyone\",\"Everyone\",\"Everyone\",\"Everyone\",\"Everyone\",\"Everyone\",\"Everyone\",\"Everyone\",\"Everyone\",\"Teen\",\"Everyone\",\"Everyone\",\"Teen\",\"Everyone\",\"Teen\",\"Everyone\",\"Everyone 10+\",\"Everyone\",\"Everyone\",\"Everyone\",\"Everyone\",\"Everyone\",\"Everyone\",\"Everyone\",\"Everyone\",\"Everyone\",\"Everyone\",\"Everyone 10+\",\"Everyone 10+\",\"Everyone\",\"Everyone\",\"Everyone\",\"Everyone\",\"Everyone\",\"Everyone\",\"Everyone\",\"Everyone\",\"Everyone 10+\",\"Everyone\",\"Everyone\",\"Everyone\",\"Everyone\",\"Teen\",\"Everyone\",\"Everyone\",\"Teen\",\"Everyone\",\"Everyone\",\"Everyone\",\"Teen\",\"Everyone\",\"Everyone\",\"Everyone\",\"Everyone\",\"Everyone\",\"Everyone\",\"Everyone\",\"Teen\",\"Everyone\",\"Teen\",\"Teen\",\"Everyone\",\"Everyone\",\"Everyone\",\"Everyone\",\"Everyone\",\"Everyone 10+\",\"Mature 17+\",\"Everyone\",\"Mature 17+\",\"Everyone\",\"Everyone\",\"Everyone\",\"Everyone\",\"Mature 17+\",\"Everyone\",\"Mature 17+\",\"Teen\",\"Mature 17+\",\"Everyone\",\"Everyone\",\"Everyone\",\"Everyone\",\"Everyone\",\"Everyone\",\"Everyone\",\"Everyone\",\"Everyone\",\"Everyone\",\"Everyone\",\"Everyone\",\"Everyone\",\"Everyone\",\"Everyone\",\"Everyone\",\"Everyone\",\"Everyone\",\"Everyone\",\"Everyone\",\"Everyone\",\"Teen\",\"Everyone\",\"Everyone\",\"Everyone\",\"Everyone\",\"Everyone\",\"Everyone\",\"Everyone\",\"Everyone\",\"Everyone\",\"Everyone\",\"Everyone\",\"Everyone\",\"Everyone\",\"Everyone\",\"Everyone\",\"Everyone\",\"Everyone\",\"Everyone\",\"Everyone\",\"Everyone\",\"Everyone\",\"Everyone\",\"Everyone\",\"Everyone\",\"Everyone\",\"Everyone\",\"Everyone\",\"Everyone\",\"Everyone\",\"Everyone\",\"Everyone\",\"Everyone\",\"Everyone\",\"Everyone\",\"Everyone\",\"Everyone\",\"Everyone\",\"Everyone\",\"Everyone\",\"Everyone\",\"Everyone\",\"Everyone\",\"Everyone\",\"Everyone\",\"Everyone\",\"Everyone 10+\",\"Everyone\",\"Everyone\",\"Everyone\",\"Everyone\",\"Everyone\",\"Everyone\",\"Everyone\",\"Everyone 10+\",\"Everyone\",\"Everyone\",\"Everyone\",\"Everyone\",\"Everyone\",\"Everyone\",\"Everyone\",\"Everyone\",\"Everyone\",\"Everyone\",\"Everyone\",\"Everyone\",\"Everyone\",\"Everyone\",\"Everyone\",\"Teen\",\"Everyone\",\"Everyone\",\"Everyone\",\"Everyone\",\"Everyone\",\"Everyone\",\"Everyone\",\"Everyone\",\"Everyone\",\"Everyone\",\"Everyone\",\"Everyone\",\"Everyone\",\"Everyone\",\"Teen\",\"Everyone\",\"Everyone\",\"Everyone\",\"Everyone\",\"Everyone\",\"Everyone\",\"Everyone\",\"Everyone\",\"Everyone\",\"Everyone\",\"Everyone\",\"Teen\",\"Everyone\",\"Everyone\",\"Everyone\",\"Everyone\",\"Everyone\",\"Everyone\",\"Everyone\",\"Everyone\",\"Everyone\",\"Everyone\",\"Everyone\",\"Everyone\",\"Everyone\",\"Everyone\",\"Everyone\",\"Everyone\",\"Everyone\",\"Everyone\",\"Everyone\",\"Everyone\",\"Everyone\",\"Teen\",\"Everyone\",\"Everyone\",\"Everyone\",\"Everyone\",\"Everyone\",\"Everyone\",\"Everyone\",\"Everyone\",\"Everyone\",\"Everyone\",\"Everyone\",\"Everyone\",\"Everyone\",\"Everyone\",\"Everyone\",\"Everyone\",\"Everyone\",\"Everyone\",\"Everyone\",\"Everyone\",\"Teen\",\"Teen\",\"Everyone\",\"Teen\",\"Teen\",\"Everyone\",\"Everyone\",\"Teen\",\"Everyone\",\"Everyone\",\"Teen\",\"Everyone\",\"Everyone\",\"Everyone\",\"Everyone\",\"Everyone\",\"Teen\",\"Everyone\",\"Everyone\",\"Teen\",\"Everyone\",\"Teen\",\"Teen\",\"Teen\",\"Teen\",\"Everyone\",\"Everyone\",\"Everyone\",\"Everyone 10+\",\"Teen\",\"Everyone 10+\",\"Everyone 10+\",\"Everyone\",\"Teen\",\"Everyone\",\"Everyone\",\"Everyone\",\"Everyone\",\"Teen\",\"Teen\",\"Teen\",\"Everyone\",\"Everyone\",\"Everyone\",\"Everyone\",\"Teen\",\"Everyone\",\"Mature 17+\",\"Mature 17+\",\"Mature 17+\",\"Mature 17+\",\"Teen\",\"Mature 17+\",\"Everyone\",\"Mature 17+\",\"Everyone\",\"Teen\",\"Everyone\",\"Everyone\",\"Mature 17+\",\"Everyone\",\"Teen\",\"Everyone\",\"Everyone\",\"Everyone\",\"Everyone\",\"Everyone\",\"Everyone\",\"Everyone\",\"Everyone\",\"Everyone\",\"Everyone\",\"Everyone\",\"Everyone\",\"Everyone\",\"Everyone\",\"Everyone\",\"Everyone\",\"Everyone\",\"Everyone\",\"Everyone\",\"Everyone\",\"Everyone\",\"Everyone\",\"Everyone\",\"Everyone\",\"Everyone\",\"Teen\",\"Everyone\",\"Everyone\",\"Everyone\",\"Everyone\",\"Teen\",\"Everyone\",\"Teen\",\"Teen\",\"Everyone\",\"Everyone\",\"Everyone\",\"Teen\",\"Teen\",\"Everyone\",\"Teen\",\"Everyone\",\"Everyone\",\"Everyone\",\"Everyone\",\"Everyone\",\"Everyone\",\"Everyone\",\"Everyone 10+\",\"Everyone\",\"Teen\",\"Everyone\",\"Everyone\",\"Everyone\",\"Everyone\",\"Everyone\",\"Everyone\",\"Everyone\",\"Teen\",\"Everyone\",\"Everyone\",\"Everyone\",\"Everyone\",\"Everyone\",\"Everyone\",\"Everyone\",\"Everyone\",\"Everyone\",\"Everyone\",\"Everyone\",\"Everyone\",\"Everyone\",\"Everyone\",\"Everyone\",\"Everyone\",\"Everyone\",\"Everyone\",\"Everyone\",\"Everyone\",\"Everyone\",\"Everyone\",\"Teen\",\"Everyone\",\"Everyone\",\"Everyone\",\"Everyone\",\"Everyone\",\"Mature 17+\",\"Everyone\",\"Everyone\",\"Everyone\",\"Everyone\",\"Everyone\",\"Teen\",\"Everyone\",\"Mature 17+\",\"Everyone\",\"Everyone\",\"Everyone\",\"Everyone\",\"Everyone\",\"Everyone\",\"Everyone\",\"Mature 17+\",\"Everyone\",\"Everyone\",\"Everyone\",\"Mature 17+\",\"Everyone\",\"Mature 17+\",\"Everyone\",\"Everyone\",\"Everyone\",\"Everyone\",\"Everyone\",\"Everyone\",\"Teen\",\"Everyone\",\"Everyone\",\"Everyone\",\"Everyone\",\"Teen\",\"Everyone\",\"Everyone\",\"Everyone\",\"Everyone\",\"Everyone\",\"Everyone\",\"Everyone\",\"Everyone\",\"Everyone\",\"Everyone\",\"Everyone\",\"Teen\",\"Everyone\",\"Teen\",\"Everyone\",\"Mature 17+\",\"Everyone\",\"Everyone\",\"Everyone\",\"Teen\",\"Teen\",\"Everyone\",\"Teen\",\"Everyone\",\"Everyone\",\"Teen\",\"Everyone\",\"Everyone\",\"Teen\",\"Everyone\",\"Teen\",\"Everyone\",\"Teen\",\"Everyone\",\"Everyone\",\"Everyone\",\"Everyone\",\"Everyone\",\"Everyone\",\"Everyone\",\"Everyone\",\"Everyone\",\"Everyone\",\"Mature 17+\",\"Teen\",\"Everyone\",\"Mature 17+\",\"Everyone\",\"Everyone\",\"Everyone\",\"Teen\",\"Everyone\",\"Everyone\",\"Everyone\",\"Everyone\",\"Everyone\",\"Everyone\",\"Everyone\",\"Everyone\",\"Everyone\",\"Everyone\",\"Everyone\",\"Everyone\",\"Everyone\",\"Everyone\",\"Everyone\",\"Everyone\",\"Everyone\",\"Everyone\",\"Teen\",\"Mature 17+\",\"Mature 17+\",\"Teen\",\"Mature 17+\",\"Mature 17+\",\"Teen\",\"Teen\",\"Teen\",\"Everyone\",\"Teen\",\"Teen\",\"Teen\",\"Teen\",\"Teen\",\"Mature 17+\",\"Mature 17+\",\"Everyone\",\"Everyone\",\"Teen\",\"Everyone\",\"Everyone\",\"Adults only 18+\",\"Teen\",\"Everyone\",\"Everyone\",\"Teen\",\"Everyone\",\"Everyone\",\"Everyone\",\"Everyone\",\"Everyone\",\"Everyone\",\"Everyone\",\"Everyone\",\"Teen\",\"Everyone\",\"Everyone\",\"Everyone\",\"Everyone\",\"Everyone\",\"Everyone\",\"Everyone\",\"Everyone\",\"Everyone\",\"Everyone\",\"Everyone\",\"Everyone\",\"Everyone\",\"Everyone\",\"Everyone\",\"Everyone\",\"Everyone\",\"Everyone\",\"Everyone\",\"Everyone\",\"Everyone\",\"Everyone\",\"Everyone\",\"Everyone\",\"Everyone\",\"Everyone\",\"Everyone\",\"Everyone\",\"Everyone\",\"Everyone\",\"Everyone\",\"Everyone\",\"Everyone\",\"Everyone\",\"Everyone\",\"Everyone\",\"Everyone\",\"Everyone\",\"Everyone\",\"Everyone\",\"Everyone\",\"Everyone\",\"Everyone\",\"Everyone\",\"Everyone\",\"Everyone\",\"Everyone\",\"Everyone\",\"Everyone\",\"Everyone\",\"Everyone\",\"Everyone\",\"Everyone\",\"Everyone\",\"Everyone\",\"Everyone\",\"Everyone\",\"Teen\",\"Everyone\",\"Everyone\",\"Everyone\",\"Everyone\",\"Everyone\",\"Everyone\",\"Everyone\",\"Everyone\",\"Everyone\",\"Everyone\",\"Everyone\",\"Everyone\",\"Everyone 10+\",\"Everyone\",\"Everyone\",\"Everyone\",\"Everyone\",\"Teen\",\"Teen\",\"Everyone\",\"Teen\",\"Teen\",\"Everyone\",\"Teen\",\"Teen\",\"Everyone\",\"Everyone\",\"Teen\",\"Everyone 10+\",\"Teen\",\"Everyone\",\"Teen\",\"Everyone\",\"Everyone\",\"Everyone\",\"Everyone\",\"Everyone\",\"Everyone\",\"Everyone\",\"Everyone\",\"Everyone\",\"Everyone\",\"Everyone\",\"Everyone\",\"Everyone\",\"Everyone\",\"Everyone\",\"Everyone\",\"Everyone\",\"Everyone\",\"Everyone\",\"Everyone\",\"Everyone\",\"Everyone\",\"Everyone\",\"Everyone\",\"Everyone\",\"Everyone\",\"Everyone\",\"Everyone\",\"Everyone\",\"Everyone\",\"Everyone 10+\",\"Everyone\",\"Everyone\",\"Everyone\",\"Everyone\",\"Everyone\",\"Everyone\",\"Everyone 10+\",\"Everyone\",\"Everyone\",\"Everyone\",\"Everyone\",\"Everyone 10+\",\"Everyone\",\"Everyone\",\"Everyone\",\"Everyone\",\"Everyone\",\"Everyone\",\"Everyone\",\"Everyone\",\"Everyone\",\"Everyone\",\"Everyone\",\"Everyone\",\"Everyone\",\"Everyone\",\"Everyone\",\"Everyone\",\"Everyone 10+\",\"Everyone\",\"Everyone\",\"Everyone\",\"Everyone\",\"Everyone\",\"Everyone\",\"Everyone\",\"Everyone\",\"Everyone\",\"Everyone\",\"Everyone\",\"Everyone\",\"Everyone\",\"Teen\",\"Everyone\",\"Everyone\",\"Everyone\",\"Teen\",\"Everyone\",\"Everyone\",\"Everyone\",\"Everyone\",\"Teen\",\"Everyone\",\"Teen\",\"Everyone 10+\",\"Teen\",\"Everyone\",\"Teen\",\"Teen\",\"Everyone\",\"Everyone\",\"Everyone\",\"Everyone\",\"Everyone\",\"Teen\",\"Everyone\",\"Everyone\",\"Teen\",\"Everyone\",\"Everyone\",\"Everyone\",\"Everyone\",\"Everyone\",\"Everyone\",\"Mature 17+\",\"Everyone\",\"Everyone\",\"Everyone\",\"Everyone\",\"Everyone\",\"Everyone\",\"Teen\",\"Everyone\",\"Everyone\",\"Everyone\",\"Everyone\",\"Everyone\",\"Everyone\",\"Teen\",\"Teen\",\"Everyone\",\"Everyone\",\"Everyone\",\"Everyone\",\"Everyone\",\"Everyone\",\"Everyone\",\"Teen\",\"Everyone\",\"Everyone\",\"Everyone\",\"Everyone\",\"Everyone\",\"Everyone\",\"Everyone\",\"Everyone\",\"Everyone\",\"Everyone\",\"Everyone\",\"Everyone\",\"Everyone\",\"Teen\",\"Everyone\",\"Everyone\",\"Everyone\",\"Everyone\",\"Everyone\",\"Everyone\",\"Everyone\",\"Everyone\",\"Everyone\",\"Everyone\",\"Everyone\",\"Mature 17+\",\"Everyone\",\"Everyone\",\"Everyone\",\"Everyone\",\"Everyone\",\"Everyone\",\"Everyone\",\"Everyone\",\"Everyone\",\"Everyone\",\"Everyone\",\"Everyone\",\"Everyone\",\"Everyone\",\"Everyone\",\"Everyone\",\"Everyone\",\"Everyone\",\"Everyone\",\"Everyone\",\"Everyone\",\"Everyone\",\"Everyone\",\"Everyone\",\"Everyone\",\"Everyone\",\"Mature 17+\",\"Everyone\",\"Everyone 10+\",\"Everyone\",\"Everyone\",\"Everyone\",\"Everyone\",\"Everyone\",\"Everyone\",\"Everyone\",\"Everyone\",\"Everyone\",\"Everyone 10+\",\"Everyone\",\"Everyone\",\"Everyone\",\"Everyone\",\"Teen\",\"Teen\",\"Everyone\",\"Everyone\",\"Everyone\",\"Everyone\",\"Everyone\",\"Everyone\",\"Everyone\",\"Everyone\",\"Everyone\",\"Everyone\",\"Everyone\",\"Everyone\",\"Everyone\",\"Everyone\",\"Everyone\",\"Everyone\",\"Everyone\",\"Everyone\",\"Everyone\",\"Everyone\",\"Everyone\",\"Everyone\",\"Everyone\",\"Everyone\",\"Everyone\",\"Everyone\",\"Mature 17+\",\"Everyone\",\"Everyone\",\"Everyone 10+\",\"Everyone\",\"Everyone\",\"Everyone\",\"Everyone\",\"Everyone\",\"Everyone\",\"Everyone\",\"Everyone\",\"Everyone\",\"Everyone\",\"Everyone\",\"Everyone\",\"Everyone\",\"Everyone\",\"Everyone\",\"Everyone\",\"Everyone\",\"Everyone\",\"Everyone\",\"Everyone\",\"Everyone\",\"Everyone\",\"Teen\",\"Everyone\",\"Everyone\",\"Everyone\",\"Everyone\",\"Teen\",\"Teen\",\"Everyone\",\"Everyone\",\"Everyone\",\"Everyone\",\"Everyone\",\"Everyone 10+\",\"Everyone\",\"Everyone\",\"Everyone\",\"Everyone\",\"Everyone\",\"Everyone\",\"Everyone\",\"Everyone\",\"Everyone\",\"Everyone\",\"Teen\",\"Everyone\",\"Everyone\",\"Teen\",\"Everyone\",\"Everyone\",\"Everyone\",\"Everyone\",\"Everyone\",\"Everyone\",\"Everyone\",\"Everyone\",\"Everyone\",\"Everyone\",\"Everyone\",\"Everyone\",\"Everyone\",\"Everyone\",\"Everyone\",\"Everyone\",\"Teen\",\"Everyone\",\"Everyone\",\"Everyone\",\"Everyone\",\"Everyone\",\"Mature 17+\",\"Everyone\",\"Everyone\",\"Everyone\",\"Everyone\",\"Everyone\",\"Everyone\",\"Everyone\",\"Everyone\",\"Everyone\",\"Everyone\",\"Teen\",\"Everyone\",\"Mature 17+\",\"Everyone\",\"Everyone\",\"Teen\",\"Everyone\",\"Everyone\",\"Everyone\",\"Everyone\",\"Everyone\",\"Everyone\",\"Everyone\",\"Everyone\",\"Everyone\",\"Everyone\",\"Mature 17+\",\"Everyone\",\"Teen\",\"Everyone\",\"Everyone\",\"Everyone\",\"Everyone\",\"Everyone\",\"Everyone\",\"Everyone\",\"Everyone\",\"Everyone\",\"Everyone\",\"Everyone\",\"Teen\",\"Everyone\",\"Everyone\",\"Everyone\",\"Teen\",\"Teen\",\"Teen\",\"Everyone\",\"Everyone\",\"Everyone\",\"Everyone\",\"Everyone\",\"Teen\",\"Teen\",\"Mature 17+\",\"Everyone\",\"Teen\",\"Everyone\",\"Everyone\",\"Everyone\",\"Everyone\",\"Everyone\",\"Everyone\",\"Everyone\",\"Everyone\",\"Everyone\",\"Everyone\",\"Everyone\",\"Mature 17+\",\"Everyone\",\"Everyone\",\"Everyone\",\"Everyone\",\"Everyone\",\"Everyone\",\"Everyone\",\"Everyone\",\"Everyone\",\"Everyone\",\"Everyone\",\"Everyone\",\"Everyone\",\"Everyone\",\"Everyone\",\"Everyone\",\"Everyone\",\"Teen\",\"Everyone\",\"Everyone\",\"Teen\",\"Everyone\",\"Everyone\",\"Everyone\",\"Everyone\",\"Everyone\",\"Everyone\",\"Everyone\",\"Everyone\",\"Everyone\",\"Everyone\",\"Everyone\",\"Everyone\",\"Everyone\",\"Everyone\",\"Everyone\",\"Everyone\",\"Everyone\",\"Everyone\",\"Everyone\",\"Everyone 10+\",\"Everyone\",\"Everyone\",\"Everyone\",\"Everyone\",\"Everyone 10+\",\"Everyone 10+\",\"Everyone\",\"Everyone 10+\",\"Everyone\",\"Everyone\",\"Everyone 10+\",\"Everyone\",\"Everyone\",\"Everyone\",\"Everyone\",\"Everyone\",\"Teen\",\"Everyone\",\"Everyone\",\"Everyone\",\"Everyone\",\"Everyone\",\"Everyone\",\"Everyone\",\"Everyone\",\"Everyone\",\"Teen\",\"Everyone\",\"Everyone\",\"Everyone\",\"Everyone\",\"Everyone\",\"Everyone\",\"Everyone\",\"Everyone\",\"Mature 17+\",\"Everyone\",\"Teen\",\"Everyone\",\"Everyone\",\"Everyone\",\"Everyone\",\"Everyone\",\"Everyone 10+\",\"Everyone\",\"Teen\",\"Everyone\",\"Teen\",\"Everyone\",\"Everyone\",\"Everyone\",\"Teen\",\"Everyone\",\"Mature 17+\",\"Everyone\",\"Everyone\",\"Everyone\",\"Everyone\",\"Everyone\",\"Everyone\",\"Everyone\",\"Teen\",\"Everyone\",\"Teen\",\"Teen\",\"Everyone\",\"Everyone\",\"Everyone\",\"Everyone\",\"Everyone\",\"Teen\",\"Everyone\",\"Teen\",\"Everyone\",\"Everyone\",\"Everyone\",\"Teen\",\"Everyone\",\"Everyone\",\"Everyone\",\"Everyone\",\"Everyone\",\"Everyone 10+\",\"Teen\",\"Everyone\",\"Everyone\",\"Everyone\",\"Everyone\",\"Everyone\",\"Everyone\",\"Everyone\",\"Everyone\",\"Everyone\",\"Everyone\",\"Everyone\",\"Everyone\",\"Everyone 10+\",\"Everyone\",\"Everyone\",\"Everyone\",\"Everyone\",\"Everyone\",\"Everyone\",\"Everyone 10+\",\"Everyone\",\"Everyone\",\"Everyone\",\"Everyone\",\"Everyone\",\"Everyone\",\"Everyone\",\"Everyone\",\"Everyone\",\"Everyone\",\"Everyone\",\"Everyone\",\"Everyone\",\"Everyone\",\"Mature 17+\",\"Everyone\",\"Everyone\",\"Everyone\",\"Everyone\",\"Everyone 10+\",\"Everyone\",\"Everyone\",\"Mature 17+\",\"Everyone\",\"Everyone\",\"Everyone\",\"Everyone\",\"Teen\",\"Everyone\",\"Mature 17+\",\"Everyone\",\"Everyone\",\"Everyone\",\"Teen\",\"Everyone\",\"Everyone\",\"Everyone\",\"Everyone\",\"Everyone\",\"Everyone\",\"Teen\",\"Mature 17+\",\"Everyone\",\"Everyone\",\"Everyone\",\"Everyone\",\"Everyone\",\"Everyone 10+\",\"Everyone\",\"Everyone\",\"Teen\",\"Everyone\",\"Mature 17+\",\"Everyone\",\"Teen\",\"Everyone 10+\",\"Mature 17+\",\"Teen\",\"Mature 17+\",\"Mature 17+\",\"Everyone\",\"Teen\",\"Everyone\",\"Everyone\",\"Mature 17+\",\"Everyone\",\"Everyone\",\"Everyone\",\"Teen\",\"Teen\",\"Mature 17+\",\"Everyone\",\"Mature 17+\",\"Everyone\",\"Everyone\",\"Everyone\",\"Mature 17+\",\"Mature 17+\",\"Everyone\",\"Everyone\",\"Everyone\",\"Everyone\",\"Everyone\",\"Everyone 10+\",\"Everyone\",\"Teen\",\"Everyone\",\"Everyone\",\"Mature 17+\",\"Everyone\",\"Everyone\",\"Everyone\",\"Mature 17+\",\"Everyone\",\"Everyone\",\"Everyone\",\"Everyone\",\"Everyone\",\"Mature 17+\",\"Everyone\",\"Teen\",\"Everyone\",\"Everyone\",\"Everyone\",\"Everyone\",\"Teen\",\"Teen\",\"Everyone\",\"Mature 17+\",\"Mature 17+\",\"Everyone\",\"Everyone\",\"Teen\",\"Everyone\",\"Everyone\",\"Everyone\",\"Everyone\",\"Everyone\",\"Everyone\",\"Everyone\",\"Everyone\",\"Everyone\",\"Everyone\",\"Everyone\",\"Everyone\",\"Everyone\",\"Everyone\",\"Everyone\",\"Everyone\",\"Everyone\",\"Everyone\",\"Everyone\",\"Everyone\",\"Everyone\",\"Everyone\",\"Everyone\",\"Everyone\",\"Everyone\",\"Everyone\",\"Everyone\",\"Everyone\",\"Everyone\",\"Everyone\",\"Everyone\",\"Everyone\",\"Everyone\",\"Everyone\",\"Everyone\",\"Everyone\",\"Everyone\",\"Everyone\",\"Everyone\",\"Everyone\",\"Everyone\",\"Everyone\",\"Everyone\",\"Everyone\",\"Everyone\",\"Everyone\",\"Everyone 10+\",\"Everyone\",\"Everyone 10+\",\"Everyone\",\"Everyone\",\"Everyone 10+\",\"Everyone\",\"Everyone\",\"Everyone 10+\",\"Everyone\",\"Everyone\",\"Everyone\",\"Everyone\",\"Mature 17+\",\"Everyone 10+\",\"Everyone\",\"Everyone\",\"Everyone 10+\",\"Everyone\",\"Everyone\",\"Everyone\",\"Everyone\",\"Everyone\",\"Everyone\",\"Everyone\",\"Everyone\",\"Everyone 10+\",\"Everyone\",\"Everyone 10+\",\"Everyone\",\"Everyone\",\"Everyone 10+\",\"Everyone\",\"Everyone 10+\",\"Everyone\",\"Everyone 10+\",\"Everyone\",\"Everyone\",\"Everyone\",\"Everyone\",\"Everyone\",\"Everyone\",\"Everyone\",\"Everyone\",\"Everyone\",\"Everyone\",\"Everyone\",\"Everyone\",\"Everyone\",\"Everyone\",\"Everyone\",\"Everyone\",\"Everyone\",\"Teen\",\"Everyone\",\"Everyone\",\"Everyone\",\"Everyone\",\"Everyone\",\"Everyone\",\"Everyone\",\"Everyone\",\"Everyone\",\"Everyone\",\"Everyone\",\"Everyone\",\"Everyone\",\"Everyone\",\"Everyone\",\"Teen\",\"Everyone\",\"Teen\",\"Everyone\",\"Everyone\",\"Teen\",\"Everyone\",\"Everyone\",\"Everyone\",\"Teen\",\"Everyone\",\"Everyone\",\"Everyone 10+\",\"Everyone\",\"Everyone\",\"Teen\",\"Everyone\",\"Everyone\",\"Everyone\",\"Everyone\",\"Everyone\",\"Teen\",\"Everyone\",\"Everyone\",\"Everyone\",\"Everyone\",\"Everyone\",\"Everyone\",\"Everyone\",\"Everyone\",\"Everyone\",\"Teen\",\"Everyone\",\"Everyone\",\"Everyone\",\"Everyone\",\"Everyone\",\"Teen\",\"Everyone\",\"Everyone\",\"Everyone\",\"Everyone\",\"Everyone\",\"Everyone\",\"Everyone 10+\",\"Everyone\",\"Everyone 10+\",\"Everyone 10+\",\"Everyone\",\"Everyone\",\"Everyone\",\"Everyone\",\"Everyone\",\"Everyone\",\"Everyone\",\"Everyone\",\"Everyone\",\"Everyone\",\"Everyone\",\"Everyone\",\"Teen\",\"Teen\",\"Everyone\",\"Everyone\",\"Teen\",\"Everyone\",\"Everyone\",\"Everyone\",\"Teen\",\"Everyone\",\"Teen\",\"Everyone\",\"Everyone 10+\",\"Everyone\",\"Everyone\",\"Everyone\",\"Everyone\",\"Everyone\",\"Everyone\",\"Everyone\",\"Everyone\",\"Everyone\",\"Everyone\",\"Everyone\",\"Everyone\",\"Everyone\",\"Everyone\",\"Everyone 10+\",\"Everyone\",\"Everyone\",\"Everyone\",\"Everyone\",\"Everyone\",\"Everyone\",\"Everyone\",\"Everyone\",\"Everyone\",\"Everyone\",\"Everyone\",\"Everyone\",\"Everyone\",\"Everyone\",\"Everyone\",\"Everyone\",\"Everyone\",\"Everyone\",\"Teen\",\"Everyone\",\"Everyone\",\"Everyone\",\"Everyone\",\"Everyone\",\"Everyone\",\"Everyone\",\"Everyone\",\"Everyone\",\"Everyone\",\"Everyone\",\"Mature 17+\",\"Everyone\",\"Mature 17+\",\"Mature 17+\",\"Teen\",\"Everyone\",\"Teen\",\"Everyone\",\"Everyone\",\"Everyone\",\"Teen\",\"Everyone\",\"Teen\",\"Everyone\",\"Everyone\",\"Teen\",\"Everyone\",\"Everyone\",\"Everyone\",\"Everyone\",\"Teen\",\"Everyone\",\"Teen\",\"Teen\",\"Everyone\",\"Teen\",\"Everyone\",\"Teen\",\"Everyone\",\"Everyone\",\"Teen\",\"Everyone\",\"Everyone\",\"Everyone\",\"Teen\",\"Everyone\",\"Everyone\",\"Everyone\",\"Everyone\",\"Everyone\",\"Everyone\",\"Everyone\",\"Everyone\",\"Everyone\",\"Everyone\",\"Everyone\",\"Everyone\",\"Everyone\",\"Everyone\",\"Everyone\",\"Everyone\",\"Everyone\",\"Everyone\",\"Everyone\",\"Everyone\",\"Everyone\",\"Everyone\",\"Everyone\",\"Everyone\",\"Everyone\",\"Teen\",\"Everyone\",\"Mature 17+\",\"Everyone\",\"Everyone\",\"Everyone\",\"Everyone\",\"Everyone\",\"Everyone\",\"Everyone\",\"Teen\",\"Everyone\",\"Everyone\",\"Everyone\",\"Everyone\",\"Everyone\",\"Teen\",\"Everyone\",\"Everyone\",\"Everyone\",\"Everyone\",\"Everyone\",\"Everyone\",\"Everyone\",\"Everyone\",\"Everyone\",\"Everyone\",\"Everyone\",\"Everyone\",\"Everyone\",\"Everyone\",\"Everyone\",\"Everyone\",\"Everyone\",\"Everyone\",\"Everyone\",\"Everyone\",\"Everyone\",\"Everyone\",\"Everyone\",\"Everyone\",\"Everyone\",\"Everyone\",\"Everyone\",\"Everyone\",\"Everyone\",\"Everyone\",\"Everyone\",\"Everyone\",\"Everyone\",\"Teen\",\"Teen\",\"Everyone\",\"Everyone\",\"Everyone\",\"Everyone\",\"Everyone\",\"Everyone\",\"Everyone\",\"Everyone\",\"Everyone\",\"Teen\",\"Everyone\",\"Everyone\",\"Everyone\",\"Everyone\",\"Everyone\",\"Everyone\",\"Everyone\",\"Everyone\",\"Everyone\",\"Everyone\",\"Everyone\",\"Everyone\",\"Everyone\",\"Everyone\",\"Everyone\",\"Everyone\",\"Everyone\",\"Everyone\",\"Everyone\",\"Everyone\",\"Everyone\",\"Everyone\",\"Everyone\",\"Everyone\",\"Everyone\",\"Everyone\",\"Everyone\",\"Everyone\",\"Everyone\",\"Everyone\",\"Everyone\",\"Everyone\",\"Everyone\",\"Everyone\",\"Everyone\",\"Everyone\",\"Everyone\",\"Everyone\",\"Everyone\",\"Everyone\",\"Everyone\",\"Teen\",\"Mature 17+\",\"Everyone\",\"Everyone\",\"Everyone\",\"Everyone\",\"Everyone\",\"Everyone\",\"Everyone\",\"Everyone\",\"Everyone\",\"Teen\",\"Teen\",\"Everyone\",\"Everyone\",\"Everyone\",\"Teen\",\"Everyone\",\"Everyone\",\"Teen\",\"Everyone\",\"Everyone\",\"Everyone\",\"Everyone\",\"Everyone\",\"Everyone\",\"Everyone\",\"Everyone\",\"Everyone\",\"Teen\",\"Everyone\",\"Teen\",\"Teen\",\"Teen\",\"Everyone\",\"Everyone\",\"Everyone\",\"Everyone\",\"Everyone\",\"Everyone\",\"Everyone\",\"Everyone\",\"Everyone\",\"Everyone\",\"Everyone\",\"Everyone\",\"Everyone\",\"Everyone\",\"Everyone\",\"Everyone\",\"Everyone\",\"Everyone\",\"Everyone\",\"Everyone\",\"Everyone\",\"Everyone\",\"Everyone\",\"Everyone\",\"Everyone\",\"Everyone\",\"Everyone\",\"Everyone\",\"Everyone\",\"Everyone\",\"Everyone\",\"Everyone\",\"Everyone 10+\",\"Everyone\",\"Everyone\",\"Everyone\",\"Everyone\",\"Everyone\",\"Everyone\",\"Everyone\",\"Everyone\",\"Everyone\",\"Everyone\",\"Everyone\",\"Everyone\",\"Everyone 10+\",\"Everyone\",\"Teen\",\"Everyone\",\"Everyone\",\"Everyone\",\"Everyone\",\"Everyone\",\"Everyone 10+\",\"Everyone\",\"Everyone 10+\",\"Everyone\",\"Everyone 10+\",\"Everyone\",\"Teen\",\"Everyone\",\"Everyone\",\"Everyone\",\"Everyone\",\"Everyone\",\"Everyone\",\"Everyone\",\"Everyone\",\"Everyone\",\"Teen\",\"Everyone\",\"Mature 17+\",\"Teen\",\"Everyone\",\"Everyone\",\"Everyone\",\"Everyone\",\"Everyone\",\"Everyone\",\"Everyone\",\"Everyone\",\"Everyone\",\"Everyone\",\"Everyone\",\"Everyone\",\"Everyone\",\"Everyone\",\"Everyone\",\"Everyone\",\"Everyone\",\"Teen\",\"Teen\",\"Everyone\",\"Everyone\",\"Everyone\",\"Everyone\",\"Everyone\",\"Everyone\",\"Mature 17+\",\"Teen\",\"Everyone\",\"Everyone\",\"Everyone\",\"Everyone 10+\",\"Everyone\",\"Everyone\",\"Teen\",\"Everyone\",\"Everyone\",\"Mature 17+\",\"Everyone\",\"Everyone\",\"Everyone\",\"Everyone\",\"Everyone\",\"Everyone\",\"Everyone\",\"Everyone\",\"Everyone\",\"Everyone\",\"Everyone\",\"Everyone\",\"Everyone\",\"Everyone\",\"Everyone\",\"Everyone\",\"Everyone\",\"Everyone\",\"Everyone\",\"Everyone\",\"Everyone\",\"Everyone\",\"Everyone\",\"Everyone\",\"Teen\",\"Everyone\",\"Everyone\",\"Everyone\",\"Everyone\",\"Everyone\",\"Everyone\",\"Everyone\",\"Everyone\",\"Everyone 10+\",\"Everyone\",\"Teen\",\"Teen\",\"Teen\",\"Teen\",\"Mature 17+\",\"Everyone 10+\",\"Everyone\",\"Everyone\",\"Everyone 10+\",\"Everyone\",\"Teen\",\"Teen\",\"Everyone\",\"Everyone\",\"Everyone\",\"Teen\",\"Everyone\",\"Everyone\",\"Unrated\",\"Everyone\",\"Everyone\",\"Everyone\",\"Everyone\",\"Teen\",\"Everyone 10+\",\"Everyone\",\"Mature 17+\",\"Everyone\",\"Everyone\",\"Everyone\",\"Everyone\",\"Everyone\",\"Everyone\",\"Everyone\",\"Everyone\",\"Everyone 10+\",\"Everyone\",\"Everyone\",\"Everyone\",\"Everyone\",\"Everyone\",\"Teen\",\"Everyone\",\"Everyone\",\"Everyone\",\"Everyone\",\"Everyone\",\"Everyone\",\"Everyone\",\"Everyone\",\"Everyone\",\"Everyone\",\"Everyone\",\"Everyone\",\"Everyone\",\"Everyone 10+\",\"Everyone\",\"Everyone\",\"Teen\",\"Everyone\",\"Everyone 10+\",\"Everyone\",\"Everyone\",\"Everyone\",\"Everyone\",\"Everyone\",\"Everyone\",\"Everyone\",\"Everyone\",\"Everyone\",\"Everyone\",\"Everyone\",\"Everyone\",\"Everyone\",\"Everyone\",\"Everyone\",\"Everyone\",\"Everyone\",\"Everyone\",\"Everyone\",\"Everyone\",\"Everyone\",\"Everyone\",\"Everyone\",\"Everyone\",\"Everyone\",\"Everyone\",\"Everyone\",\"Everyone\",\"Everyone\",\"Everyone\",\"Everyone\",\"Everyone\",\"Everyone\",\"Everyone\",\"Everyone\",\"Everyone\",\"Everyone\",\"Everyone\",\"Everyone\",\"Everyone\",\"Everyone\",\"Everyone\",\"Teen\",\"Everyone\",\"Everyone\",\"Teen\",\"Teen\",\"Teen\",\"Teen\",\"Teen\",\"Everyone\",\"Everyone\",\"Teen\",\"Teen\",\"Everyone 10+\",\"Everyone\",\"Teen\",\"Everyone\",\"Teen\",\"Everyone\",\"Mature 17+\",\"Everyone\",\"Everyone\",\"Everyone\",\"Everyone 10+\",\"Everyone 10+\",\"Teen\",\"Everyone\",\"Mature 17+\",\"Everyone\",\"Everyone\",\"Everyone\",\"Everyone 10+\",\"Everyone\",\"Everyone\",\"Teen\",\"Everyone\",\"Teen\",\"Everyone\",\"Everyone 10+\",\"Everyone\",\"Mature 17+\",\"Everyone\",\"Everyone\",\"Teen\",\"Everyone\",\"Everyone\",\"Everyone\",\"Everyone\",\"Everyone 10+\",\"Everyone\",\"Everyone\",\"Everyone 10+\",\"Everyone 10+\",\"Everyone\",\"Everyone 10+\",\"Mature 17+\",\"Everyone\",\"Everyone\",\"Everyone\",\"Everyone\",\"Everyone\",\"Everyone\",\"Everyone\",\"Everyone\",\"Everyone\",\"Everyone\",\"Everyone\",\"Everyone\",\"Everyone\",\"Everyone\",\"Everyone\",\"Everyone\",\"Everyone\",\"Everyone\",\"Everyone\",\"Everyone\",\"Everyone\",\"Everyone\",\"Everyone\",\"Everyone\",\"Everyone\",\"Mature 17+\",\"Everyone\",\"Everyone\",\"Everyone\",\"Everyone\",\"Everyone\",\"Everyone\",\"Everyone\",\"Everyone\",\"Teen\",\"Teen\",\"Everyone\",\"Everyone\",\"Everyone\",\"Everyone\",\"Everyone\",\"Everyone\",\"Everyone\",\"Everyone\",\"Everyone\",\"Everyone\",\"Everyone\",\"Mature 17+\",\"Everyone\",\"Everyone\",\"Everyone\",\"Everyone\",\"Everyone\",\"Everyone\",\"Everyone\",\"Everyone\",\"Everyone\",\"Everyone\",\"Everyone\",\"Everyone\",\"Everyone\",\"Everyone\",\"Everyone\",\"Everyone\",\"Everyone\",\"Everyone\",\"Everyone\",\"Everyone\",\"Mature 17+\",\"Everyone 10+\",\"Teen\",\"Everyone\",\"Everyone\",\"Everyone\",\"Everyone\",\"Teen\",\"Everyone\",\"Everyone\",\"Everyone\",\"Everyone\",\"Everyone\",\"Everyone\",\"Everyone\",\"Everyone\",\"Everyone\",\"Everyone\",\"Everyone\",\"Everyone\",\"Everyone\",\"Everyone\",\"Everyone\",\"Everyone\",\"Everyone\",\"Everyone\",\"Everyone\",\"Everyone 10+\",\"Everyone\",\"Everyone 10+\",\"Everyone\",\"Teen\",\"Everyone\",\"Everyone 10+\",\"Everyone\",\"Everyone\",\"Everyone\",\"Everyone\",\"Everyone\",\"Everyone\",\"Teen\",\"Teen\",\"Everyone 10+\",\"Everyone\",\"Everyone 10+\",\"Everyone\",\"Everyone\",\"Everyone\",\"Teen\",\"Everyone\",\"Everyone\",\"Teen\",\"Everyone 10+\",\"Everyone 10+\",\"Everyone\",\"Everyone\",\"Everyone\",\"Everyone\",\"Everyone\",\"Everyone\",\"Everyone\",\"Everyone\",\"Teen\",\"Everyone\",\"Teen\",\"Everyone\",\"Everyone\",\"Everyone\",\"Everyone\",\"Everyone\",\"Everyone\",\"Everyone\",\"Everyone\",\"Everyone\",\"Everyone\",\"Everyone\",\"Everyone\",\"Everyone\",\"Everyone\",\"Everyone\",\"Everyone\",\"Everyone\",\"Everyone\",\"Everyone\",\"Everyone\",\"Everyone\",\"Everyone\",\"Everyone\",\"Everyone\",\"Mature 17+\",\"Everyone\",\"Teen\",\"Everyone\",\"Everyone\",\"Everyone\",\"Everyone\",\"Everyone\",\"Mature 17+\",\"Everyone\",\"Everyone\",\"Everyone\",\"Everyone\",\"Teen\",\"Everyone\",\"Everyone\",\"Teen\",\"Everyone\",\"Teen\",\"Everyone\",\"Teen\",\"Everyone\",\"Everyone\",\"Everyone\",\"Teen\",\"Teen\",\"Mature 17+\",\"Everyone\",\"Everyone\",\"Everyone\",\"Everyone\",\"Everyone\",\"Everyone\",\"Everyone\",\"Everyone\",\"Everyone\",\"Everyone\",\"Everyone\",\"Everyone\",\"Everyone 10+\",\"Teen\",\"Everyone 10+\",\"Everyone\",\"Everyone\",\"Everyone\",\"Everyone\",\"Everyone\",\"Everyone\",\"Everyone\",\"Everyone\",\"Everyone\",\"Everyone\",\"Everyone 10+\",\"Everyone\",\"Everyone\",\"Everyone\",\"Everyone\",\"Teen\",\"Everyone\",\"Everyone\",\"Everyone\",\"Everyone\",\"Everyone\",\"Everyone\",\"Teen\",\"Everyone\",\"Everyone\",\"Everyone\",\"Mature 17+\",\"Everyone\",\"Everyone\",\"Everyone\",\"Everyone\",\"Everyone 10+\",\"Everyone\",\"Everyone\",\"Everyone\",\"Everyone\",\"Everyone\",\"Everyone\",\"Mature 17+\",\"Everyone\",\"Everyone\",\"Everyone\",\"Everyone\",\"Everyone\",\"Everyone\",\"Everyone\",\"Everyone\",\"Everyone\",\"Everyone\",\"Everyone\",\"Everyone\",\"Everyone\",\"Everyone\",\"Everyone\",\"Everyone\",\"Mature 17+\",\"Everyone\",\"Mature 17+\",\"Teen\",\"Everyone\",\"Everyone\",\"Everyone\",\"Everyone\",\"Everyone\",\"Everyone\",\"Everyone\",\"Everyone\",\"Everyone\",\"Everyone\",\"Everyone\",\"Everyone\",\"Everyone\",\"Everyone\",\"Everyone\",\"Everyone\",\"Everyone\",\"Everyone\",\"Everyone\",\"Everyone\",\"Everyone\",\"Everyone\",\"Everyone\",\"Everyone\",\"Everyone\",\"Everyone\",\"Everyone\",\"Everyone\",\"Everyone\",\"Everyone\",\"Everyone\",\"Everyone\",\"Everyone\",\"Everyone\",\"Everyone\",\"Everyone\",\"Everyone\",\"Everyone\",\"Everyone\",\"Everyone\",\"Everyone\",\"Everyone\",\"Everyone\",\"Everyone\",\"Everyone\",\"Everyone\",\"Everyone\",\"Everyone\",\"Everyone\",\"Everyone\",\"Everyone\",\"Everyone\",\"Everyone\",\"Everyone\",\"Everyone\",\"Everyone\",\"Everyone\",\"Everyone\",\"Everyone\",\"Everyone\",\"Everyone\",\"Everyone\",\"Everyone\",\"Everyone\",\"Everyone\",\"Everyone\",\"Everyone\",\"Everyone\",\"Everyone\",\"Everyone\",\"Everyone\",\"Everyone\",\"Everyone 10+\",\"Everyone\",\"Everyone\",\"Everyone\",\"Everyone\",\"Everyone\",\"Everyone\",\"Everyone\",\"Everyone\",\"Teen\",\"Everyone\",\"Everyone\",\"Everyone\",\"Everyone\",\"Everyone\",\"Everyone\",\"Everyone\",\"Everyone\",\"Everyone\",\"Everyone\",\"Everyone\",\"Everyone\",\"Teen\",\"Everyone\",\"Everyone\",\"Everyone\",\"Everyone\",\"Everyone\",\"Everyone\",\"Everyone\",\"Everyone\",\"Everyone\",\"Everyone\",\"Teen\",\"Everyone\",\"Everyone\",\"Everyone\",\"Everyone\",\"Everyone\",\"Everyone\",\"Everyone\",\"Everyone\",\"Everyone\",\"Everyone\",\"Everyone\",\"Everyone\",\"Everyone\",\"Everyone\",\"Everyone\",\"Everyone\",\"Everyone\",\"Everyone\",\"Everyone\",\"Everyone\",\"Everyone\",\"Everyone\",\"Everyone\",\"Everyone\",\"Everyone\",\"Everyone\",\"Everyone\",\"Everyone\",\"Everyone\",\"Everyone\",\"Everyone\",\"Everyone\",\"Everyone\",\"Everyone\",\"Everyone\",\"Everyone\",\"Everyone\",\"Everyone\",\"Everyone\",\"Everyone\",\"Everyone\",\"Everyone\",\"Everyone\",\"Everyone\",\"Everyone\",\"Everyone\",\"Everyone\",\"Everyone\",\"Teen\",\"Everyone\",\"Everyone\",\"Everyone 10+\",\"Everyone\",\"Everyone\",\"Everyone\",\"Everyone\",\"Everyone\",\"Everyone\",\"Everyone\",\"Everyone\",\"Everyone\",\"Everyone\",\"Everyone\",\"Everyone\",\"Everyone\",\"Everyone\",\"Everyone\",\"Teen\",\"Everyone\",\"Everyone\",\"Everyone\",\"Everyone\",\"Everyone\",\"Everyone\",\"Everyone\",\"Everyone\",\"Everyone\",\"Everyone\",\"Everyone\",\"Everyone\",\"Everyone\",\"Everyone\",\"Everyone\",\"Everyone\",\"Teen\",\"Everyone\",\"Teen\",\"Everyone\",\"Everyone\",\"Everyone\",\"Everyone\",\"Everyone\",\"Everyone\",\"Teen\",\"Everyone\",\"Everyone\",\"Mature 17+\",\"Everyone\",\"Everyone\",\"Everyone 10+\",\"Everyone\",\"Everyone\",\"Everyone\",\"Everyone\",\"Everyone\",\"Everyone\",\"Everyone\",\"Everyone\",\"Everyone\",\"Teen\",\"Everyone\",\"Everyone\",\"Everyone\",\"Everyone\",\"Everyone\",\"Everyone\",\"Everyone\",\"Everyone\",\"Everyone\",\"Everyone\",\"Everyone\",\"Everyone\",\"Everyone\",\"Everyone\",\"Everyone\",\"Everyone\",\"Everyone\",\"Everyone\",\"Teen\",\"Everyone\",\"Everyone\",\"Everyone\",\"Everyone\",\"Everyone\",\"Teen\",\"Everyone\",\"Everyone\",\"Everyone\",\"Everyone\",\"Everyone\",\"Everyone\",\"Everyone\",\"Everyone\",\"Everyone\",\"Everyone\",\"Everyone\",\"Everyone\",\"Everyone\",\"Everyone\",\"Everyone\",\"Everyone\",\"Teen\",\"Everyone\",\"Everyone\",\"Everyone\",\"Everyone\",\"Teen\",\"Everyone\",\"Everyone\",\"Everyone\",\"Everyone\",\"Everyone\",\"Everyone\",\"Everyone\",\"Everyone\",\"Everyone\",\"Everyone\",\"Everyone\",\"Everyone\",\"Everyone\",\"Teen\",\"Everyone\",\"Everyone 10+\",\"Everyone\",\"Everyone\",\"Teen\",\"Everyone 10+\",\"Everyone 10+\",\"Everyone 10+\",\"Everyone\",\"Everyone\",\"Everyone\",\"Everyone\",\"Everyone\",\"Everyone\",\"Everyone\",\"Everyone\",\"Everyone\",\"Everyone\",\"Teen\",\"Everyone\",\"Everyone\",\"Everyone\",\"Teen\",\"Mature 17+\",\"Everyone\",\"Everyone 10+\",\"Everyone\",\"Everyone 10+\",\"Everyone\",\"Everyone\",\"Everyone\",\"Everyone\",\"Everyone\",\"Everyone\",\"Everyone\",\"Teen\",\"Everyone\",\"Everyone\",\"Everyone\",\"Everyone\",\"Everyone\",\"Everyone\",\"Everyone\",\"Teen\",\"Teen\",\"Everyone\",\"Teen\",\"Everyone\",\"Everyone\",\"Everyone\",\"Teen\",\"Everyone\",\"Everyone\",\"Everyone\",\"Everyone\",\"Everyone\",\"Teen\",\"Everyone\",\"Everyone\",\"Everyone\",\"Everyone\",\"Everyone\",\"Everyone\",\"Everyone\",\"Everyone\",\"Everyone\",\"Everyone\",\"Everyone\",\"Everyone\",\"Everyone\",\"Everyone\",\"Everyone\",\"Everyone\",\"Everyone\",\"Everyone\",\"Everyone\",\"Everyone\",\"Everyone\",\"Everyone\",\"Everyone\",\"Everyone\",\"Everyone\",\"Everyone\",\"Everyone\",\"Teen\",\"Everyone\",\"Everyone\",\"Everyone\",\"Everyone\",\"Everyone\",\"Everyone\",\"Everyone\",\"Teen\",\"Everyone\",\"Everyone\",\"Everyone\",\"Everyone\",\"Everyone\",\"Everyone\",\"Teen\",\"Everyone\",\"Everyone\",\"Everyone\",\"Everyone\",\"Everyone\",\"Everyone\",\"Everyone\",\"Everyone\",\"Everyone\",\"Everyone\",\"Everyone\",\"Teen\",\"Teen\",\"Everyone\",\"Everyone\",\"Everyone\",\"Everyone\",\"Everyone\",\"Everyone\",\"Everyone\",\"Everyone\",\"Everyone\",\"Everyone\",\"Teen\",\"Everyone\",\"Everyone\",\"Everyone\",\"Everyone\",\"Everyone\",\"Everyone 10+\",\"Everyone\",\"Everyone\",\"Everyone\",\"Everyone\",\"Everyone\",\"Everyone\",\"Everyone\",\"Everyone\",\"Everyone\",\"Everyone\",\"Everyone\",\"Everyone\",\"Everyone\",\"Everyone\",\"Teen\",\"Everyone\",\"Everyone\",\"Everyone\",\"Everyone\",\"Everyone\",\"Everyone\",\"Everyone\",\"Teen\",\"Mature 17+\",\"Everyone\",\"Everyone\",\"Teen\",\"Everyone\",\"Mature 17+\",\"Everyone\",\"Everyone 10+\",\"Everyone\",\"Everyone\",\"Everyone\",\"Everyone\",\"Everyone\",\"Everyone\",\"Everyone\",\"Everyone\",\"Everyone\",\"Everyone\",\"Everyone\",\"Everyone\",\"Everyone\",\"Everyone\",\"Everyone 10+\",\"Everyone\",\"Everyone\",\"Teen\",\"Mature 17+\",\"Everyone\",\"Mature 17+\",\"Teen\",\"Everyone\",\"Everyone\",\"Teen\",\"Everyone\",\"Everyone\",\"Everyone\",\"Everyone\",\"Everyone\",\"Teen\",\"Everyone\",\"Everyone\",\"Teen\",\"Teen\",\"Everyone\",\"Everyone\",\"Teen\",\"Everyone\",\"Teen\",\"Everyone\",\"Teen\",\"Everyone\",\"Everyone\",\"Everyone\",\"Everyone\",\"Everyone\",\"Everyone\",\"Everyone\",\"Everyone\",\"Everyone\",\"Everyone\",\"Everyone\",\"Everyone\",\"Everyone\",\"Mature 17+\",\"Everyone\",\"Everyone\",\"Everyone\",\"Everyone\",\"Mature 17+\",\"Everyone\",\"Everyone\",\"Everyone\",\"Everyone\",\"Everyone\",\"Everyone 10+\",\"Everyone\",\"Everyone\",\"Everyone\",\"Everyone\",\"Everyone\",\"Everyone\",\"Everyone\",\"Everyone\",\"Everyone\",\"Everyone\",\"Everyone\",\"Everyone\",\"Everyone\",\"Teen\",\"Teen\",\"Mature 17+\",\"Everyone\",\"Everyone\",\"Everyone\",\"Everyone\",\"Everyone\",\"Teen\",\"Everyone 10+\",\"Teen\",\"Everyone\",\"Everyone\",\"Everyone\",\"Everyone\",\"Teen\",\"Everyone\",\"Teen\",\"Everyone\",\"Everyone\",\"Everyone\",\"Everyone\",\"Everyone\",\"Everyone\",\"Teen\",\"Everyone\",\"Everyone\",\"Everyone\",\"Everyone 10+\",\"Everyone\",\"Everyone\",\"Everyone\",\"Everyone\",\"Everyone\",\"Everyone\",\"Everyone\",\"Everyone\",\"Everyone\",\"Teen\",\"Everyone\",\"Everyone\",\"Everyone\",\"Everyone\",\"Everyone\",\"Everyone\",\"Everyone\",\"Teen\",\"Everyone\",\"Teen\",\"Teen\",\"Everyone\",\"Everyone\",\"Everyone\",\"Everyone\",\"Everyone\",\"Everyone\",\"Everyone\",\"Everyone\",\"Everyone\",\"Everyone\",\"Everyone\",\"Everyone\",\"Everyone 10+\",\"Teen\",\"Everyone\",\"Everyone\",\"Everyone\",\"Everyone\",\"Everyone\",\"Everyone\",\"Everyone\",\"Everyone\",\"Everyone\",\"Everyone\",\"Everyone\",\"Everyone 10+\",\"Everyone\",\"Teen\",\"Everyone\",\"Everyone\",\"Teen\",\"Everyone\",\"Everyone\",\"Everyone\",\"Everyone\",\"Everyone\",\"Everyone\",\"Everyone 10+\",\"Everyone\",\"Everyone\",\"Everyone\",\"Everyone\",\"Everyone\",\"Everyone\",\"Everyone\",\"Everyone\",\"Everyone\",\"Teen\",\"Everyone 10+\",\"Everyone\",\"Teen\",\"Everyone 10+\",\"Everyone\",\"Everyone 10+\",\"Teen\",\"Teen\",\"Teen\",\"Everyone\",\"Everyone\",\"Everyone\",\"Teen\",\"Mature 17+\",\"Everyone\",\"Teen\",\"Teen\",\"Teen\",\"Teen\",\"Everyone\",\"Teen\",\"Teen\",\"Teen\",\"Everyone\",\"Teen\",\"Teen\",\"Teen\",\"Teen\",\"Everyone\",\"Teen\",\"Everyone\",\"Teen\",\"Everyone\",\"Everyone 10+\",\"Teen\",\"Teen\",\"Everyone\",\"Everyone\",\"Teen\",\"Everyone\",\"Everyone\",\"Everyone\",\"Everyone 10+\",\"Everyone\",\"Everyone\",\"Everyone\",\"Everyone\",\"Everyone\",\"Mature 17+\",\"Everyone\",\"Everyone\",\"Everyone\",\"Everyone\",\"Everyone\",\"Everyone\",\"Everyone\",\"Everyone\",\"Everyone\",\"Everyone\",\"Everyone\",\"Teen\",\"Everyone\",\"Everyone\",\"Teen\",\"Everyone\",\"Everyone\",\"Everyone\",\"Everyone\",\"Everyone\",\"Everyone\",\"Everyone\",\"Everyone\",\"Everyone\",\"Everyone\",\"Everyone\",\"Everyone\",\"Everyone\",\"Everyone\",\"Everyone\",\"Everyone\",\"Everyone\",\"Everyone\",\"Everyone\",\"Everyone\",\"Everyone\",\"Teen\",\"Everyone\",\"Everyone\",\"Everyone\",\"Everyone 10+\",\"Mature 17+\",\"Teen\",\"Everyone\",\"Everyone\",\"Everyone\",\"Everyone 10+\",\"Mature 17+\",\"Teen\",\"Teen\",\"Teen\",\"Everyone 10+\",\"Everyone\",\"Everyone\",\"Everyone\",\"Teen\",\"Teen\",\"Teen\",\"Everyone 10+\",\"Everyone\",\"Teen\",\"Everyone\",\"Everyone\",\"Everyone 10+\",\"Everyone\",\"Everyone\",\"Everyone\",\"Everyone\",\"Everyone\",\"Everyone\",\"Everyone\",\"Teen\",\"Everyone\",\"Everyone\",\"Teen\",\"Teen\",\"Teen\",\"Teen\",\"Teen\",\"Teen\",\"Everyone 10+\",\"Teen\",\"Teen\",\"Everyone\",\"Everyone 10+\",\"Everyone\",\"Everyone 10+\",\"Teen\",\"Teen\",\"Everyone\",\"Teen\",\"Everyone\",\"Everyone\",\"Teen\",\"Everyone\",\"Teen\",\"Everyone\",\"Everyone\",\"Teen\",\"Everyone 10+\",\"Everyone\",\"Everyone\",\"Teen\",\"Everyone\",\"Everyone\",\"Everyone\",\"Everyone\",\"Everyone\",\"Everyone\",\"Everyone\",\"Everyone\",\"Everyone\",\"Everyone\",\"Everyone\",\"Everyone\",\"Everyone\",\"Everyone\",\"Everyone\",\"Everyone\",\"Everyone\",\"Everyone\",\"Everyone\",\"Everyone\",\"Everyone\",\"Everyone\",\"Everyone\",\"Everyone\",\"Everyone\",\"Everyone\",\"Everyone\",\"Everyone\",\"Everyone\",\"Everyone\",\"Everyone\",\"Everyone\",\"Everyone\",\"Everyone\",\"Everyone 10+\",\"Everyone\",\"Everyone\",\"Everyone\",\"Everyone\",\"Everyone\",\"Everyone\",\"Everyone\",\"Everyone\",\"Everyone\",\"Everyone\",\"Everyone\",\"Everyone\",\"Teen\",\"Everyone\",\"Teen\",\"Everyone\",\"Everyone\",\"Everyone 10+\",\"Everyone\",\"Mature 17+\",\"Teen\",\"Everyone\",\"Everyone\",\"Everyone\",\"Everyone\",\"Everyone\",\"Everyone\",\"Everyone\",\"Everyone\",\"Everyone\",\"Everyone\",\"Everyone\",\"Everyone\",\"Everyone\",\"Everyone\",\"Everyone\",\"Everyone\",\"Everyone\",\"Everyone\",\"Everyone\",\"Everyone\",\"Everyone\",\"Everyone\",\"Everyone\",\"Everyone\",\"Everyone\",\"Everyone\",\"Everyone\",\"Everyone\",\"Everyone\",\"Everyone\",\"Everyone 10+\",\"Everyone\",\"Teen\",\"Everyone\",\"Everyone\",\"Everyone\",\"Everyone\",\"Everyone\",\"Everyone\",\"Everyone\",\"Everyone\",\"Everyone\",\"Everyone\",\"Everyone\",\"Everyone\",\"Everyone\",\"Everyone\",\"Everyone 10+\",\"Everyone\",\"Everyone\",\"Everyone\",\"Everyone\",\"Everyone\",\"Everyone\",\"Everyone\",\"Teen\",\"Everyone\",\"Everyone\",\"Everyone\",\"Everyone\",\"Everyone\",\"Everyone\",\"Everyone\",\"Everyone\",\"Everyone\",\"Everyone\",\"Everyone\",\"Everyone\",\"Everyone\",\"Everyone\",\"Everyone\",\"Everyone\",\"Everyone\",\"Everyone\",\"Everyone\",\"Everyone\",\"Everyone 10+\",\"Everyone\",\"Everyone\",\"Everyone\",\"Everyone\",\"Everyone\",\"Everyone\",\"Everyone\",\"Everyone\",\"Everyone\",\"Teen\",\"Everyone\",\"Everyone\",\"Everyone\",\"Everyone\",\"Everyone\",\"Teen\",\"Everyone\",\"Everyone\",\"Everyone\",\"Everyone\",\"Teen\",\"Mature 17+\",\"Everyone\",\"Everyone 10+\",\"Everyone 10+\",\"Everyone 10+\",\"Teen\",\"Everyone\",\"Everyone\",\"Teen\",\"Everyone 10+\",\"Everyone\",\"Everyone\",\"Everyone\",\"Everyone\",\"Everyone 10+\",\"Teen\",\"Everyone\",\"Everyone\",\"Everyone\",\"Everyone\",\"Everyone\",\"Everyone\",\"Everyone\",\"Teen\",\"Everyone\",\"Teen\",\"Everyone\",\"Everyone\",\"Everyone\",\"Everyone\",\"Everyone\",\"Everyone\",\"Everyone\",\"Everyone\",\"Everyone\",\"Everyone\",\"Everyone\",\"Everyone\",\"Everyone\",\"Everyone\",\"Everyone\",\"Everyone\",\"Everyone 10+\",\"Everyone\",\"Everyone\",\"Everyone\",\"Everyone\",\"Everyone\",\"Everyone\",\"Teen\",\"Everyone\",\"Everyone\",\"Everyone\",\"Everyone 10+\",\"Everyone\",\"Everyone\",\"Everyone\",\"Everyone 10+\",\"Everyone\",\"Everyone\",\"Everyone\",\"Everyone\",\"Teen\",\"Everyone\",\"Everyone\",\"Everyone\",\"Everyone\",\"Everyone\",\"Everyone\",\"Everyone\",\"Everyone\",\"Everyone\",\"Everyone\",\"Everyone\",\"Everyone\",\"Teen\",\"Everyone\",\"Everyone\",\"Everyone\",\"Everyone\",\"Everyone\",\"Everyone\",\"Everyone\",\"Everyone\",\"Everyone\",\"Everyone\",\"Everyone\",\"Teen\",\"Everyone\",\"Everyone\",\"Everyone 10+\",\"Everyone\",\"Everyone\",\"Everyone\",\"Everyone\",\"Everyone\",\"Everyone\",\"Everyone\",\"Everyone\",\"Everyone\",\"Everyone\",\"Everyone\",\"Everyone\",\"Everyone\",\"Everyone\",\"Everyone\",\"Everyone\",\"Everyone\",\"Everyone\",\"Teen\",\"Everyone\",\"Everyone\",\"Everyone\",\"Everyone\",\"Everyone\",\"Everyone\",\"Everyone\",\"Everyone\",\"Everyone\",\"Everyone\",\"Everyone\",\"Everyone\",\"Everyone\",\"Everyone\",\"Everyone\",\"Everyone\",\"Everyone\",\"Everyone\",\"Everyone\",\"Everyone\",\"Everyone\",\"Everyone\",\"Mature 17+\",\"Everyone\",\"Everyone\",\"Teen\",\"Everyone\",\"Everyone\",\"Teen\",\"Teen\",\"Everyone\",\"Teen\",\"Everyone\",\"Everyone\",\"Everyone\",\"Everyone\",\"Everyone\",\"Everyone 10+\",\"Teen\",\"Teen\",\"Teen\",\"Everyone\",\"Teen\",\"Everyone\",\"Teen\",\"Teen\",\"Teen\",\"Everyone\",\"Everyone\",\"Everyone\",\"Everyone\",\"Teen\",\"Everyone\",\"Teen\",\"Everyone\",\"Everyone\",\"Everyone\",\"Teen\",\"Teen\",\"Everyone\",\"Everyone\",\"Everyone\",\"Everyone\",\"Everyone\",\"Everyone\",\"Everyone\",\"Teen\",\"Everyone\",\"Teen\",\"Teen\",\"Everyone\",\"Mature 17+\",\"Everyone\",\"Everyone\",\"Everyone\",\"Everyone\",\"Everyone\",\"Everyone\",\"Everyone\",\"Everyone\",\"Everyone\",\"Everyone\",\"Everyone\",\"Everyone\",\"Everyone\",\"Everyone\",\"Teen\",\"Everyone\",\"Everyone\",\"Everyone\",\"Everyone\",\"Everyone\",\"Everyone\",\"Everyone\",\"Everyone\",\"Everyone\",\"Everyone\",\"Everyone\",\"Everyone\",\"Everyone\",\"Teen\",\"Everyone\",\"Everyone\",\"Everyone\",\"Everyone\",\"Teen\",\"Everyone\",\"Everyone\",\"Everyone\",\"Teen\",\"Everyone\",\"Everyone\",\"Everyone\",\"Everyone\",\"Everyone\",\"Everyone\",\"Everyone\",\"Everyone\",\"Everyone\",\"Everyone\",\"Everyone\",\"Teen\",\"Everyone\",\"Everyone\",\"Everyone\",\"Everyone\",\"Everyone\",\"Everyone\",\"Everyone\",\"Everyone 10+\",\"Everyone\",\"Everyone\",\"Everyone\",\"Everyone\",\"Everyone\",\"Everyone\",\"Everyone\",\"Everyone\",\"Everyone\",\"Everyone\",\"Everyone\",\"Everyone\",\"Everyone\",\"Everyone\",\"Everyone\",\"Everyone\",\"Teen\",\"Everyone\",\"Teen\",\"Everyone\",\"Everyone\",\"Everyone\",\"Everyone\",\"Everyone\",\"Everyone\",\"Everyone\",\"Everyone\",\"Everyone\",\"Everyone\",\"Everyone\",\"Everyone\",\"Everyone\",\"Everyone\",\"Everyone\",\"Everyone\",\"Everyone\",\"Teen\",\"Everyone\",\"Teen\",\"Everyone\",\"Mature 17+\",\"Everyone\",\"Everyone 10+\",\"Everyone\",\"Everyone 10+\",\"Everyone\",\"Everyone\",\"Everyone\",\"Everyone 10+\",\"Everyone 10+\",\"Mature 17+\",\"Mature 17+\",\"Everyone\",\"Everyone\",\"Everyone\",\"Everyone\",\"Teen\",\"Everyone\",\"Teen\",\"Teen\",\"Everyone\",\"Everyone\",\"Mature 17+\",\"Teen\",\"Everyone\",\"Teen\",\"Everyone\",\"Teen\",\"Teen\",\"Teen\",\"Teen\",\"Everyone\",\"Everyone\",\"Everyone\",\"Everyone\",\"Everyone 10+\",\"Teen\",\"Teen\",\"Everyone\",\"Everyone\",\"Everyone\",\"Everyone\",\"Teen\",\"Teen\",\"Everyone\",\"Everyone\",\"Teen\",\"Everyone\",\"Everyone\",\"Teen\",\"Everyone\",\"Everyone\",\"Everyone\",\"Everyone\",\"Everyone\",\"Everyone\",\"Everyone\",\"Everyone\",\"Everyone\",\"Everyone\",\"Everyone\",\"Everyone\",\"Everyone\",\"Everyone\",\"Everyone\",\"Everyone\",\"Everyone\",\"Everyone\",\"Everyone\",\"Everyone\",\"Everyone\",\"Everyone\",\"Everyone\",\"Everyone\",\"Everyone\",\"Everyone\",\"Everyone\",\"Everyone\",\"Everyone\",\"Everyone\",\"Everyone\",\"Everyone\",\"Everyone\",\"Everyone\",\"Everyone\",\"Everyone\",\"Everyone\",\"Everyone\",\"Everyone\",\"Everyone\",\"Teen\",\"Everyone\",\"Everyone\",\"Everyone\",\"Teen\",\"Everyone\",\"Everyone\",\"Everyone\",\"Everyone\",\"Teen\",\"Everyone\",\"Teen\",\"Everyone\",\"Everyone\",\"Mature 17+\",\"Everyone\",\"Everyone\",\"Everyone\",\"Mature 17+\",\"Everyone\",\"Everyone\",\"Teen\",\"Everyone\",\"Teen\",\"Everyone\",\"Teen\",\"Everyone\",\"Everyone\",\"Everyone\",\"Everyone\",\"Everyone\",\"Everyone\",\"Everyone\",\"Everyone\",\"Everyone\",\"Everyone\",\"Everyone\",\"Everyone\",\"Everyone\",\"Everyone\",\"Everyone\",\"Everyone\",\"Everyone\",\"Everyone\",\"Teen\",\"Everyone\",\"Teen\",\"Everyone\",\"Everyone\",\"Everyone\",\"Teen\",\"Everyone\",\"Everyone\",\"Everyone\",\"Everyone\",\"Everyone\",\"Everyone\",\"Everyone\",\"Everyone\",\"Teen\",\"Everyone\",\"Everyone\",\"Everyone\",\"Everyone\",\"Everyone\",\"Teen\",\"Everyone\",\"Everyone\",\"Everyone\",\"Teen\",\"Everyone\",\"Everyone\",\"Everyone\",\"Everyone\",\"Everyone\",\"Everyone\",\"Everyone\",\"Everyone\",\"Everyone\",\"Everyone\",\"Everyone\",\"Everyone\",\"Everyone\",\"Everyone\",\"Teen\",\"Everyone\",\"Everyone\",\"Everyone\",\"Everyone\",\"Everyone\",\"Everyone\",\"Everyone\",\"Everyone\",\"Everyone\",\"Everyone\",\"Everyone\",\"Everyone\",\"Everyone\",\"Teen\",\"Everyone\",\"Everyone\",\"Everyone 10+\",\"Everyone\",\"Everyone\",\"Everyone\",\"Everyone\",\"Everyone\",\"Everyone\",\"Everyone\",\"Everyone\",\"Teen\",\"Teen\",\"Teen\",\"Everyone\",\"Everyone\",\"Everyone\",\"Everyone\",\"Everyone\",\"Teen\",\"Teen\",\"Everyone\",\"Everyone\",\"Everyone\",\"Everyone\",\"Everyone\",\"Everyone\",\"Everyone\",\"Teen\",\"Teen\",\"Everyone\",\"Teen\",\"Teen\",\"Everyone\",\"Everyone\",\"Everyone\",\"Everyone\",\"Everyone\",\"Everyone\",\"Everyone\",\"Everyone\",\"Everyone\",\"Everyone\",\"Everyone\",\"Everyone\",\"Mature 17+\",\"Everyone\",\"Mature 17+\",\"Everyone\",\"Everyone\",\"Everyone\",\"Everyone\",\"Everyone\",\"Everyone\",\"Everyone\",\"Everyone\",\"Everyone\",\"Everyone\",\"Everyone\",\"Everyone\",\"Everyone\",\"Everyone\",\"Everyone\",\"Everyone\",\"Everyone\",\"Everyone\",\"Everyone\",\"Everyone\",\"Everyone\",\"Everyone\",\"Everyone\",\"Everyone\",\"Everyone\",\"Everyone\",\"Everyone\",\"Everyone\",\"Everyone\",\"Everyone\",\"Everyone\",\"Everyone\",\"Mature 17+\",\"Everyone\",\"Everyone\",\"Teen\",\"Everyone\",\"Everyone\",\"Everyone\",\"Everyone\",\"Everyone 10+\",\"Everyone\",\"Teen\",\"Teen\",\"Mature 17+\",\"Everyone 10+\",\"Everyone\",\"Everyone\",\"Teen\",\"Everyone 10+\",\"Everyone\",\"Everyone\",\"Everyone\",\"Teen\",\"Everyone\",\"Everyone\",\"Everyone\",\"Everyone\",\"Everyone\",\"Everyone\",\"Teen\",\"Teen\",\"Teen\",\"Everyone\",\"Everyone\",\"Everyone\",\"Everyone\",\"Teen\",\"Everyone\",\"Everyone\",\"Teen\",\"Teen\",\"Mature 17+\",\"Everyone\",\"Everyone\",\"Everyone\",\"Everyone\",\"Everyone\",\"Everyone\",\"Everyone\",\"Everyone\",\"Everyone\",\"Mature 17+\",\"Everyone\"],\"xbins\":{\"end\":6,\"size\":1,\"start\":0.5},\"type\":\"histogram\"}],                        {\"template\":{\"data\":{\"barpolar\":[{\"marker\":{\"line\":{\"color\":\"#E5ECF6\",\"width\":0.5},\"pattern\":{\"fillmode\":\"overlay\",\"size\":10,\"solidity\":0.2}},\"type\":\"barpolar\"}],\"bar\":[{\"error_x\":{\"color\":\"#2a3f5f\"},\"error_y\":{\"color\":\"#2a3f5f\"},\"marker\":{\"line\":{\"color\":\"#E5ECF6\",\"width\":0.5},\"pattern\":{\"fillmode\":\"overlay\",\"size\":10,\"solidity\":0.2}},\"type\":\"bar\"}],\"carpet\":[{\"aaxis\":{\"endlinecolor\":\"#2a3f5f\",\"gridcolor\":\"white\",\"linecolor\":\"white\",\"minorgridcolor\":\"white\",\"startlinecolor\":\"#2a3f5f\"},\"baxis\":{\"endlinecolor\":\"#2a3f5f\",\"gridcolor\":\"white\",\"linecolor\":\"white\",\"minorgridcolor\":\"white\",\"startlinecolor\":\"#2a3f5f\"},\"type\":\"carpet\"}],\"choropleth\":[{\"colorbar\":{\"outlinewidth\":0,\"ticks\":\"\"},\"type\":\"choropleth\"}],\"contourcarpet\":[{\"colorbar\":{\"outlinewidth\":0,\"ticks\":\"\"},\"type\":\"contourcarpet\"}],\"contour\":[{\"colorbar\":{\"outlinewidth\":0,\"ticks\":\"\"},\"colorscale\":[[0.0,\"#0d0887\"],[0.1111111111111111,\"#46039f\"],[0.2222222222222222,\"#7201a8\"],[0.3333333333333333,\"#9c179e\"],[0.4444444444444444,\"#bd3786\"],[0.5555555555555556,\"#d8576b\"],[0.6666666666666666,\"#ed7953\"],[0.7777777777777778,\"#fb9f3a\"],[0.8888888888888888,\"#fdca26\"],[1.0,\"#f0f921\"]],\"type\":\"contour\"}],\"heatmapgl\":[{\"colorbar\":{\"outlinewidth\":0,\"ticks\":\"\"},\"colorscale\":[[0.0,\"#0d0887\"],[0.1111111111111111,\"#46039f\"],[0.2222222222222222,\"#7201a8\"],[0.3333333333333333,\"#9c179e\"],[0.4444444444444444,\"#bd3786\"],[0.5555555555555556,\"#d8576b\"],[0.6666666666666666,\"#ed7953\"],[0.7777777777777778,\"#fb9f3a\"],[0.8888888888888888,\"#fdca26\"],[1.0,\"#f0f921\"]],\"type\":\"heatmapgl\"}],\"heatmap\":[{\"colorbar\":{\"outlinewidth\":0,\"ticks\":\"\"},\"colorscale\":[[0.0,\"#0d0887\"],[0.1111111111111111,\"#46039f\"],[0.2222222222222222,\"#7201a8\"],[0.3333333333333333,\"#9c179e\"],[0.4444444444444444,\"#bd3786\"],[0.5555555555555556,\"#d8576b\"],[0.6666666666666666,\"#ed7953\"],[0.7777777777777778,\"#fb9f3a\"],[0.8888888888888888,\"#fdca26\"],[1.0,\"#f0f921\"]],\"type\":\"heatmap\"}],\"histogram2dcontour\":[{\"colorbar\":{\"outlinewidth\":0,\"ticks\":\"\"},\"colorscale\":[[0.0,\"#0d0887\"],[0.1111111111111111,\"#46039f\"],[0.2222222222222222,\"#7201a8\"],[0.3333333333333333,\"#9c179e\"],[0.4444444444444444,\"#bd3786\"],[0.5555555555555556,\"#d8576b\"],[0.6666666666666666,\"#ed7953\"],[0.7777777777777778,\"#fb9f3a\"],[0.8888888888888888,\"#fdca26\"],[1.0,\"#f0f921\"]],\"type\":\"histogram2dcontour\"}],\"histogram2d\":[{\"colorbar\":{\"outlinewidth\":0,\"ticks\":\"\"},\"colorscale\":[[0.0,\"#0d0887\"],[0.1111111111111111,\"#46039f\"],[0.2222222222222222,\"#7201a8\"],[0.3333333333333333,\"#9c179e\"],[0.4444444444444444,\"#bd3786\"],[0.5555555555555556,\"#d8576b\"],[0.6666666666666666,\"#ed7953\"],[0.7777777777777778,\"#fb9f3a\"],[0.8888888888888888,\"#fdca26\"],[1.0,\"#f0f921\"]],\"type\":\"histogram2d\"}],\"histogram\":[{\"marker\":{\"pattern\":{\"fillmode\":\"overlay\",\"size\":10,\"solidity\":0.2}},\"type\":\"histogram\"}],\"mesh3d\":[{\"colorbar\":{\"outlinewidth\":0,\"ticks\":\"\"},\"type\":\"mesh3d\"}],\"parcoords\":[{\"line\":{\"colorbar\":{\"outlinewidth\":0,\"ticks\":\"\"}},\"type\":\"parcoords\"}],\"pie\":[{\"automargin\":true,\"type\":\"pie\"}],\"scatter3d\":[{\"line\":{\"colorbar\":{\"outlinewidth\":0,\"ticks\":\"\"}},\"marker\":{\"colorbar\":{\"outlinewidth\":0,\"ticks\":\"\"}},\"type\":\"scatter3d\"}],\"scattercarpet\":[{\"marker\":{\"colorbar\":{\"outlinewidth\":0,\"ticks\":\"\"}},\"type\":\"scattercarpet\"}],\"scattergeo\":[{\"marker\":{\"colorbar\":{\"outlinewidth\":0,\"ticks\":\"\"}},\"type\":\"scattergeo\"}],\"scattergl\":[{\"marker\":{\"colorbar\":{\"outlinewidth\":0,\"ticks\":\"\"}},\"type\":\"scattergl\"}],\"scattermapbox\":[{\"marker\":{\"colorbar\":{\"outlinewidth\":0,\"ticks\":\"\"}},\"type\":\"scattermapbox\"}],\"scatterpolargl\":[{\"marker\":{\"colorbar\":{\"outlinewidth\":0,\"ticks\":\"\"}},\"type\":\"scatterpolargl\"}],\"scatterpolar\":[{\"marker\":{\"colorbar\":{\"outlinewidth\":0,\"ticks\":\"\"}},\"type\":\"scatterpolar\"}],\"scatter\":[{\"marker\":{\"colorbar\":{\"outlinewidth\":0,\"ticks\":\"\"}},\"type\":\"scatter\"}],\"scatterternary\":[{\"marker\":{\"colorbar\":{\"outlinewidth\":0,\"ticks\":\"\"}},\"type\":\"scatterternary\"}],\"surface\":[{\"colorbar\":{\"outlinewidth\":0,\"ticks\":\"\"},\"colorscale\":[[0.0,\"#0d0887\"],[0.1111111111111111,\"#46039f\"],[0.2222222222222222,\"#7201a8\"],[0.3333333333333333,\"#9c179e\"],[0.4444444444444444,\"#bd3786\"],[0.5555555555555556,\"#d8576b\"],[0.6666666666666666,\"#ed7953\"],[0.7777777777777778,\"#fb9f3a\"],[0.8888888888888888,\"#fdca26\"],[1.0,\"#f0f921\"]],\"type\":\"surface\"}],\"table\":[{\"cells\":{\"fill\":{\"color\":\"#EBF0F8\"},\"line\":{\"color\":\"white\"}},\"header\":{\"fill\":{\"color\":\"#C8D4E3\"},\"line\":{\"color\":\"white\"}},\"type\":\"table\"}]},\"layout\":{\"annotationdefaults\":{\"arrowcolor\":\"#2a3f5f\",\"arrowhead\":0,\"arrowwidth\":1},\"autotypenumbers\":\"strict\",\"coloraxis\":{\"colorbar\":{\"outlinewidth\":0,\"ticks\":\"\"}},\"colorscale\":{\"diverging\":[[0,\"#8e0152\"],[0.1,\"#c51b7d\"],[0.2,\"#de77ae\"],[0.3,\"#f1b6da\"],[0.4,\"#fde0ef\"],[0.5,\"#f7f7f7\"],[0.6,\"#e6f5d0\"],[0.7,\"#b8e186\"],[0.8,\"#7fbc41\"],[0.9,\"#4d9221\"],[1,\"#276419\"]],\"sequential\":[[0.0,\"#0d0887\"],[0.1111111111111111,\"#46039f\"],[0.2222222222222222,\"#7201a8\"],[0.3333333333333333,\"#9c179e\"],[0.4444444444444444,\"#bd3786\"],[0.5555555555555556,\"#d8576b\"],[0.6666666666666666,\"#ed7953\"],[0.7777777777777778,\"#fb9f3a\"],[0.8888888888888888,\"#fdca26\"],[1.0,\"#f0f921\"]],\"sequentialminus\":[[0.0,\"#0d0887\"],[0.1111111111111111,\"#46039f\"],[0.2222222222222222,\"#7201a8\"],[0.3333333333333333,\"#9c179e\"],[0.4444444444444444,\"#bd3786\"],[0.5555555555555556,\"#d8576b\"],[0.6666666666666666,\"#ed7953\"],[0.7777777777777778,\"#fb9f3a\"],[0.8888888888888888,\"#fdca26\"],[1.0,\"#f0f921\"]]},\"colorway\":[\"#636efa\",\"#EF553B\",\"#00cc96\",\"#ab63fa\",\"#FFA15A\",\"#19d3f3\",\"#FF6692\",\"#B6E880\",\"#FF97FF\",\"#FECB52\"],\"font\":{\"color\":\"#2a3f5f\"},\"geo\":{\"bgcolor\":\"white\",\"lakecolor\":\"white\",\"landcolor\":\"#E5ECF6\",\"showlakes\":true,\"showland\":true,\"subunitcolor\":\"white\"},\"hoverlabel\":{\"align\":\"left\"},\"hovermode\":\"closest\",\"mapbox\":{\"style\":\"light\"},\"paper_bgcolor\":\"white\",\"plot_bgcolor\":\"#E5ECF6\",\"polar\":{\"angularaxis\":{\"gridcolor\":\"white\",\"linecolor\":\"white\",\"ticks\":\"\"},\"bgcolor\":\"#E5ECF6\",\"radialaxis\":{\"gridcolor\":\"white\",\"linecolor\":\"white\",\"ticks\":\"\"}},\"scene\":{\"xaxis\":{\"backgroundcolor\":\"#E5ECF6\",\"gridcolor\":\"white\",\"gridwidth\":2,\"linecolor\":\"white\",\"showbackground\":true,\"ticks\":\"\",\"zerolinecolor\":\"white\"},\"yaxis\":{\"backgroundcolor\":\"#E5ECF6\",\"gridcolor\":\"white\",\"gridwidth\":2,\"linecolor\":\"white\",\"showbackground\":true,\"ticks\":\"\",\"zerolinecolor\":\"white\"},\"zaxis\":{\"backgroundcolor\":\"#E5ECF6\",\"gridcolor\":\"white\",\"gridwidth\":2,\"linecolor\":\"white\",\"showbackground\":true,\"ticks\":\"\",\"zerolinecolor\":\"white\"}},\"shapedefaults\":{\"line\":{\"color\":\"#2a3f5f\"}},\"ternary\":{\"aaxis\":{\"gridcolor\":\"white\",\"linecolor\":\"white\",\"ticks\":\"\"},\"baxis\":{\"gridcolor\":\"white\",\"linecolor\":\"white\",\"ticks\":\"\"},\"bgcolor\":\"#E5ECF6\",\"caxis\":{\"gridcolor\":\"white\",\"linecolor\":\"white\",\"ticks\":\"\"}},\"title\":{\"x\":0.05},\"xaxis\":{\"automargin\":true,\"gridcolor\":\"white\",\"linecolor\":\"white\",\"ticks\":\"\",\"title\":{\"standoff\":15},\"zerolinecolor\":\"white\",\"zerolinewidth\":2},\"yaxis\":{\"automargin\":true,\"gridcolor\":\"white\",\"linecolor\":\"white\",\"ticks\":\"\",\"title\":{\"standoff\":15},\"zerolinecolor\":\"white\",\"zerolinewidth\":2}}}},                        {\"responsive\": true}                    ).then(function(){\n",
              "                            \n",
              "var gd = document.getElementById('c63f3ba9-06dd-4fa8-a1d0-a6cfafd88f55');\n",
              "var x = new MutationObserver(function (mutations, observer) {{\n",
              "        var display = window.getComputedStyle(gd).display;\n",
              "        if (!display || display === 'none') {{\n",
              "            console.log([gd, 'removed!']);\n",
              "            Plotly.purge(gd);\n",
              "            observer.disconnect();\n",
              "        }}\n",
              "}});\n",
              "\n",
              "// Listen for the removal of the full notebook cells\n",
              "var notebookContainer = gd.closest('#notebook-container');\n",
              "if (notebookContainer) {{\n",
              "    x.observe(notebookContainer, {childList: true});\n",
              "}}\n",
              "\n",
              "// Listen for the clearing of the current output cell\n",
              "var outputEl = gd.closest('.output');\n",
              "if (outputEl) {{\n",
              "    x.observe(outputEl, {childList: true});\n",
              "}}\n",
              "\n",
              "                        })                };                            </script>        </div>\n",
              "</body>\n",
              "</html>"
            ]
          },
          "metadata": {}
        }
      ]
    },
    {
      "cell_type": "markdown",
      "source": [
        "## Analysing sentiments"
      ],
      "metadata": {
        "id": "ZX0JV5yJa5pv"
      }
    },
    {
      "cell_type": "code",
      "source": [
        "#Analysing the nyumber of positive and negative sentiments in user review.\n",
        "user_review_df = user_review['Sentiment'].value_counts()\n",
        "user_review_df"
      ],
      "metadata": {
        "colab": {
          "base_uri": "https://localhost:8080/"
        },
        "id": "dS0pVS76a-bP",
        "outputId": "0d211b72-81a1-4697-d09e-3b308af860ba"
      },
      "execution_count": null,
      "outputs": [
        {
          "output_type": "execute_result",
          "data": {
            "text/plain": [
              "Positive    23998\n",
              "Negative     8271\n",
              "Neutral      5163\n",
              "Name: Sentiment, dtype: int64"
            ]
          },
          "metadata": {},
          "execution_count": 13
        }
      ]
    },
    {
      "cell_type": "code",
      "source": [
        "user_review['Sentiment'].value_counts().plot(kind='pie', explode= (0.1,0.1,0.1), shadow=True,autopct='%1.2f%%', pctdistance=1.1, labeldistance=1.3)"
      ],
      "metadata": {
        "colab": {
          "base_uri": "https://localhost:8080/",
          "height": 290
        },
        "id": "KbRdQehydel0",
        "outputId": "acb19331-2a8b-4b71-d280-23767e6fb307"
      },
      "execution_count": null,
      "outputs": [
        {
          "output_type": "execute_result",
          "data": {
            "text/plain": [
              "<matplotlib.axes._subplots.AxesSubplot at 0x7f27f0dd6af0>"
            ]
          },
          "metadata": {},
          "execution_count": 144
        },
        {
          "output_type": "display_data",
          "data": {
            "text/plain": [
              "<Figure size 432x288 with 1 Axes>"
            ],
            "image/png": "[encoded data removed]"
          },
          "metadata": {}
        }
      ]
    },
    {
      "cell_type": "markdown",
      "source": [
        "# ***Conclusions***\n",
        "*  Average rating of apps on Google Play Store is {4.19}\n",
        "* The Health and Fitness and Books and Reference produce the best apps with 50% apps having a rating greater than 4.5. Interestingly, half of the Dating apps have a rating lower than the average.\n",
        "*  All the categories under content rating is having 4+ plus which is good.\n",
        "* People prefer to pay for the two category app (game and family).\n",
        "*  GAME is the only category to have most number of installation in both paid and free category\n",
        "* More than 92.63 percent of the apps on play store are free.\n",
        "* TEEN contains the most values in the content rating with the total number of 912 values.\n",
        "* More than 50% of the total sentiments are positive in the dataset user review.\n",
        "\n"
      ],
      "metadata": {
        "id": "0qvwEIQka_f2"
      }
    },
    {
      "cell_type": "code",
      "source": [],
      "metadata": {
        "id": "FKlEYWYFd0sj"
      },
      "execution_count": null,
      "outputs": []
    }
  ]
}